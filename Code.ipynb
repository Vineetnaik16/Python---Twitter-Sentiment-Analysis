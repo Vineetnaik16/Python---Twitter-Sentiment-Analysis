{
 "cells": [
  {
   "cell_type": "markdown",
   "id": "2bf12fb4",
   "metadata": {},
   "source": [
    "# Twitter Sentiment Analysis of BBC Documentary"
   ]
  },
  {
   "cell_type": "markdown",
   "id": "b8776b64",
   "metadata": {},
   "source": [
    "### Description of the topic\n",
    "On January 17, the British Broadcasting Corporation (BBC) released the first episode of ‘The Modi Question’, a two-part documentary series that tracks Prime Minister Narendra Modi’s first steps into politics, including his rise through the ranks of the Bharatiya Janata Party (BJP) to his appointment as Chief Minister of the western State of Gujarat.\n",
    "The documentary was originally broadcast in the United Kingdom last week but it quickly generated hype here prompting the Indian government to block it from being aired on Indian platforms."
   ]
  },
  {
   "cell_type": "markdown",
   "id": "c5149612",
   "metadata": {},
   "source": [
    "### What is the documentary about? ( About Dataset)\n",
    "\n",
    "The 59-minute documentary highlights the 2002 Gujarat riots, one of the worst outbreaks of religious violence in India. It shows how the riots broke out after a train carrying Hindu pilgrims in Gujarat was set on fire and killed 59 people. The Muslim community was held allegedly responsible for the incident, leading to heightened attacks and the deaths of more than 1,000 Muslims. The outbreak of violence was one of the worst since Independence in 1947.\n",
    "\n",
    "PM Modi has long rejected accusations that he had any responsibility for the violence. In 2013, a Supreme Court panel also said there was insufficient evidence to prosecute him.\n",
    "\n",
    "The documentary reveals a previously unpublished report from the British Foreign Office held Modi “directly responsible” for the “climate of impunity” that enabled the violence and said it had “all the hallmarks of an ethnic cleansing”.\n",
    "\n",
    "People have been raising their voices on twitter regarding this matter and criticising P.M Modi on his decision quoting the Modi government is taking away media freedom and is trying desperately to suppress facts."
   ]
  },
  {
   "cell_type": "markdown",
   "id": "e17dc422",
   "metadata": {},
   "source": [
    "### Objective\n",
    "The objective of this Notebook is to predict the sentiment of the twitter Users regarding the ban of BCC Documentary by analyzing to their tweets.\n",
    "\n",
    "### Steps Performed\n",
    "\n",
    "- Data Scraping using Twitter API\n",
    "- Data Loading\n",
    "- Data pre-processing (Tweets cleaning)\n",
    "- Topic modelling\n",
    "- Visualization of intertropic distance map\n",
    "- Wordcloud visualization\n",
    "- Sentiment analysis\n",
    "- Conclusion"
   ]
  },
  {
   "cell_type": "code",
   "execution_count": 177,
   "id": "03a13f58",
   "metadata": {},
   "outputs": [],
   "source": [
    "import numpy as np \n",
    "import pandas as pd\n",
    "import tweepy\n",
    "import json"
   ]
  },
  {
   "cell_type": "markdown",
   "id": "8c0c1e1f",
   "metadata": {},
   "source": [
    "# Data scraping using Twitter API and Tweepy Module"
   ]
  },
  {
   "cell_type": "code",
   "execution_count": 186,
   "id": "6d3060ac",
   "metadata": {},
   "outputs": [],
   "source": [
    "search_words =\"BBCdocumentary\"\n",
    "date = \"2023-01-23\" # choose any date with the format \"yyyy-mm-dd\"\n",
    "number_posts = 3200"
   ]
  },
  {
   "cell_type": "markdown",
   "id": "4a1e1728",
   "metadata": {},
   "source": [
    "This is the code for scraping the tweets from the twitter API , all the keys here are obtained by changing the personal account to developer account to get access to the tweepy module."
   ]
  },
  {
   "cell_type": "code",
   "execution_count": 187,
   "id": "e55c60e3",
   "metadata": {},
   "outputs": [
    {
     "name": "stderr",
     "output_type": "stream",
     "text": [
      "Unexpected parameter: exclude\n",
      "Unexpected parameter: since\n",
      "Unexpected parameter: exclude\n",
      "Unexpected parameter: since\n",
      "Unexpected parameter: exclude\n",
      "Unexpected parameter: since\n",
      "Unexpected parameter: exclude\n",
      "Unexpected parameter: since\n",
      "Unexpected parameter: exclude\n",
      "Unexpected parameter: since\n",
      "Unexpected parameter: exclude\n",
      "Unexpected parameter: since\n",
      "Unexpected parameter: exclude\n",
      "Unexpected parameter: since\n",
      "Unexpected parameter: exclude\n",
      "Unexpected parameter: since\n",
      "Unexpected parameter: exclude\n",
      "Unexpected parameter: since\n",
      "Unexpected parameter: exclude\n",
      "Unexpected parameter: since\n",
      "Unexpected parameter: exclude\n",
      "Unexpected parameter: since\n",
      "Unexpected parameter: exclude\n",
      "Unexpected parameter: since\n",
      "Unexpected parameter: exclude\n",
      "Unexpected parameter: since\n",
      "Unexpected parameter: exclude\n",
      "Unexpected parameter: since\n",
      "Unexpected parameter: exclude\n",
      "Unexpected parameter: since\n",
      "Unexpected parameter: exclude\n",
      "Unexpected parameter: since\n",
      "Unexpected parameter: exclude\n",
      "Unexpected parameter: since\n",
      "Unexpected parameter: exclude\n",
      "Unexpected parameter: since\n",
      "Unexpected parameter: exclude\n",
      "Unexpected parameter: since\n",
      "Unexpected parameter: exclude\n",
      "Unexpected parameter: since\n",
      "Unexpected parameter: exclude\n",
      "Unexpected parameter: since\n",
      "Unexpected parameter: exclude\n",
      "Unexpected parameter: since\n",
      "Unexpected parameter: exclude\n",
      "Unexpected parameter: since\n",
      "Unexpected parameter: exclude\n",
      "Unexpected parameter: since\n",
      "Unexpected parameter: exclude\n",
      "Unexpected parameter: since\n",
      "Unexpected parameter: exclude\n",
      "Unexpected parameter: since\n",
      "Unexpected parameter: exclude\n",
      "Unexpected parameter: since\n",
      "Unexpected parameter: exclude\n",
      "Unexpected parameter: since\n",
      "Unexpected parameter: exclude\n",
      "Unexpected parameter: since\n",
      "Unexpected parameter: exclude\n",
      "Unexpected parameter: since\n",
      "Unexpected parameter: exclude\n",
      "Unexpected parameter: since\n",
      "Unexpected parameter: exclude\n",
      "Unexpected parameter: since\n",
      "Unexpected parameter: exclude\n",
      "Unexpected parameter: since\n",
      "Unexpected parameter: exclude\n",
      "Unexpected parameter: since\n",
      "Unexpected parameter: exclude\n",
      "Unexpected parameter: since\n",
      "Unexpected parameter: exclude\n",
      "Unexpected parameter: since\n",
      "Unexpected parameter: exclude\n",
      "Unexpected parameter: since\n",
      "Unexpected parameter: exclude\n",
      "Unexpected parameter: since\n",
      "Unexpected parameter: exclude\n",
      "Unexpected parameter: since\n",
      "Unexpected parameter: exclude\n",
      "Unexpected parameter: since\n",
      "Unexpected parameter: exclude\n",
      "Unexpected parameter: since\n",
      "Unexpected parameter: exclude\n",
      "Unexpected parameter: since\n",
      "Unexpected parameter: exclude\n",
      "Unexpected parameter: since\n",
      "Unexpected parameter: exclude\n",
      "Unexpected parameter: since\n",
      "Unexpected parameter: exclude\n",
      "Unexpected parameter: since\n",
      "Unexpected parameter: exclude\n",
      "Unexpected parameter: since\n",
      "Unexpected parameter: exclude\n",
      "Unexpected parameter: since\n",
      "Unexpected parameter: exclude\n",
      "Unexpected parameter: since\n",
      "Unexpected parameter: exclude\n",
      "Unexpected parameter: since\n",
      "Unexpected parameter: exclude\n",
      "Unexpected parameter: since\n",
      "Unexpected parameter: exclude\n",
      "Unexpected parameter: since\n",
      "Unexpected parameter: exclude\n",
      "Unexpected parameter: since\n",
      "Unexpected parameter: exclude\n",
      "Unexpected parameter: since\n",
      "Unexpected parameter: exclude\n",
      "Unexpected parameter: since\n",
      "Unexpected parameter: exclude\n",
      "Unexpected parameter: since\n",
      "Unexpected parameter: exclude\n",
      "Unexpected parameter: since\n",
      "Unexpected parameter: exclude\n",
      "Unexpected parameter: since\n",
      "Unexpected parameter: exclude\n",
      "Unexpected parameter: since\n",
      "Unexpected parameter: exclude\n",
      "Unexpected parameter: since\n",
      "Unexpected parameter: exclude\n",
      "Unexpected parameter: since\n",
      "Unexpected parameter: exclude\n",
      "Unexpected parameter: since\n",
      "Unexpected parameter: exclude\n",
      "Unexpected parameter: since\n",
      "Unexpected parameter: exclude\n",
      "Unexpected parameter: since\n",
      "Unexpected parameter: exclude\n",
      "Unexpected parameter: since\n",
      "Unexpected parameter: exclude\n",
      "Unexpected parameter: since\n",
      "Unexpected parameter: exclude\n",
      "Unexpected parameter: since\n",
      "Unexpected parameter: exclude\n",
      "Unexpected parameter: since\n",
      "Unexpected parameter: exclude\n",
      "Unexpected parameter: since\n",
      "Unexpected parameter: exclude\n",
      "Unexpected parameter: since\n",
      "Unexpected parameter: exclude\n",
      "Unexpected parameter: since\n",
      "Unexpected parameter: exclude\n",
      "Unexpected parameter: since\n",
      "Unexpected parameter: exclude\n",
      "Unexpected parameter: since\n",
      "Unexpected parameter: exclude\n",
      "Unexpected parameter: since\n",
      "Unexpected parameter: exclude\n",
      "Unexpected parameter: since\n",
      "Unexpected parameter: exclude\n",
      "Unexpected parameter: since\n",
      "Unexpected parameter: exclude\n",
      "Unexpected parameter: since\n",
      "Unexpected parameter: exclude\n",
      "Unexpected parameter: since\n",
      "Unexpected parameter: exclude\n",
      "Unexpected parameter: since\n",
      "Unexpected parameter: exclude\n",
      "Unexpected parameter: since\n",
      "Unexpected parameter: exclude\n",
      "Unexpected parameter: since\n",
      "Unexpected parameter: exclude\n",
      "Unexpected parameter: since\n",
      "Unexpected parameter: exclude\n",
      "Unexpected parameter: since\n",
      "Unexpected parameter: exclude\n",
      "Unexpected parameter: since\n",
      "Unexpected parameter: exclude\n",
      "Unexpected parameter: since\n",
      "Unexpected parameter: exclude\n",
      "Unexpected parameter: since\n",
      "Unexpected parameter: exclude\n",
      "Unexpected parameter: since\n",
      "Unexpected parameter: exclude\n",
      "Unexpected parameter: since\n",
      "Unexpected parameter: exclude\n",
      "Unexpected parameter: since\n",
      "Unexpected parameter: exclude\n",
      "Unexpected parameter: since\n",
      "Unexpected parameter: exclude\n",
      "Unexpected parameter: since\n",
      "Unexpected parameter: exclude\n",
      "Unexpected parameter: since\n",
      "Unexpected parameter: exclude\n",
      "Unexpected parameter: since\n",
      "Unexpected parameter: exclude\n",
      "Unexpected parameter: since\n",
      "Unexpected parameter: exclude\n",
      "Unexpected parameter: since\n",
      "Unexpected parameter: exclude\n",
      "Unexpected parameter: since\n",
      "Unexpected parameter: exclude\n",
      "Unexpected parameter: since\n",
      "Unexpected parameter: exclude\n",
      "Unexpected parameter: since\n",
      "Unexpected parameter: exclude\n",
      "Unexpected parameter: since\n",
      "Unexpected parameter: exclude\n",
      "Unexpected parameter: since\n",
      "Unexpected parameter: exclude\n",
      "Unexpected parameter: since\n",
      "Unexpected parameter: exclude\n",
      "Unexpected parameter: since\n",
      "Unexpected parameter: exclude\n",
      "Unexpected parameter: since\n",
      "Unexpected parameter: exclude\n",
      "Unexpected parameter: since\n",
      "Unexpected parameter: exclude\n",
      "Unexpected parameter: since\n",
      "Unexpected parameter: exclude\n",
      "Unexpected parameter: since\n",
      "Unexpected parameter: exclude\n",
      "Unexpected parameter: since\n",
      "Unexpected parameter: exclude\n",
      "Unexpected parameter: since\n",
      "Unexpected parameter: exclude\n",
      "Unexpected parameter: since\n",
      "Unexpected parameter: exclude\n",
      "Unexpected parameter: since\n",
      "Unexpected parameter: exclude\n",
      "Unexpected parameter: since\n",
      "Unexpected parameter: exclude\n",
      "Unexpected parameter: since\n",
      "Unexpected parameter: exclude\n",
      "Unexpected parameter: since\n",
      "Unexpected parameter: exclude\n",
      "Unexpected parameter: since\n",
      "Unexpected parameter: exclude\n",
      "Unexpected parameter: since\n",
      "Unexpected parameter: exclude\n",
      "Unexpected parameter: since\n",
      "Unexpected parameter: exclude\n",
      "Unexpected parameter: since\n",
      "Unexpected parameter: exclude\n",
      "Unexpected parameter: since\n",
      "Unexpected parameter: exclude\n",
      "Unexpected parameter: since\n",
      "Unexpected parameter: exclude\n",
      "Unexpected parameter: since\n",
      "Unexpected parameter: exclude\n",
      "Unexpected parameter: since\n",
      "Unexpected parameter: exclude\n",
      "Unexpected parameter: since\n",
      "Unexpected parameter: exclude\n",
      "Unexpected parameter: since\n",
      "Unexpected parameter: exclude\n",
      "Unexpected parameter: since\n",
      "Unexpected parameter: exclude\n",
      "Unexpected parameter: since\n",
      "Unexpected parameter: exclude\n",
      "Unexpected parameter: since\n",
      "Unexpected parameter: exclude\n",
      "Unexpected parameter: since\n",
      "Unexpected parameter: exclude\n",
      "Unexpected parameter: since\n",
      "Unexpected parameter: exclude\n",
      "Unexpected parameter: since\n",
      "Unexpected parameter: exclude\n",
      "Unexpected parameter: since\n",
      "Unexpected parameter: exclude\n",
      "Unexpected parameter: since\n",
      "Unexpected parameter: exclude\n",
      "Unexpected parameter: since\n",
      "Unexpected parameter: exclude\n",
      "Unexpected parameter: since\n",
      "Unexpected parameter: exclude\n",
      "Unexpected parameter: since\n",
      "Unexpected parameter: exclude\n",
      "Unexpected parameter: since\n",
      "Unexpected parameter: exclude\n",
      "Unexpected parameter: since\n",
      "Unexpected parameter: exclude\n",
      "Unexpected parameter: since\n",
      "Unexpected parameter: exclude\n",
      "Unexpected parameter: since\n",
      "Unexpected parameter: exclude\n",
      "Unexpected parameter: since\n",
      "Unexpected parameter: exclude\n",
      "Unexpected parameter: since\n",
      "Unexpected parameter: exclude\n",
      "Unexpected parameter: since\n",
      "Unexpected parameter: exclude\n",
      "Unexpected parameter: since\n",
      "Unexpected parameter: exclude\n",
      "Unexpected parameter: since\n",
      "Unexpected parameter: exclude\n",
      "Unexpected parameter: since\n",
      "Unexpected parameter: exclude\n",
      "Unexpected parameter: since\n",
      "Unexpected parameter: exclude\n",
      "Unexpected parameter: since\n",
      "Unexpected parameter: exclude\n",
      "Unexpected parameter: since\n",
      "Unexpected parameter: exclude\n",
      "Unexpected parameter: since\n",
      "Unexpected parameter: exclude\n",
      "Unexpected parameter: since\n",
      "Unexpected parameter: exclude\n",
      "Unexpected parameter: since\n",
      "Unexpected parameter: exclude\n",
      "Unexpected parameter: since\n",
      "Unexpected parameter: exclude\n",
      "Unexpected parameter: since\n",
      "Unexpected parameter: exclude\n",
      "Unexpected parameter: since\n",
      "Unexpected parameter: exclude\n",
      "Unexpected parameter: since\n",
      "Unexpected parameter: exclude\n",
      "Unexpected parameter: since\n",
      "Unexpected parameter: exclude\n",
      "Unexpected parameter: since\n",
      "Unexpected parameter: exclude\n",
      "Unexpected parameter: since\n",
      "Unexpected parameter: exclude\n",
      "Unexpected parameter: since\n",
      "Unexpected parameter: exclude\n",
      "Unexpected parameter: since\n",
      "Unexpected parameter: exclude\n",
      "Unexpected parameter: since\n",
      "Unexpected parameter: exclude\n",
      "Unexpected parameter: since\n",
      "Unexpected parameter: exclude\n",
      "Unexpected parameter: since\n",
      "Unexpected parameter: exclude\n",
      "Unexpected parameter: since\n",
      "Unexpected parameter: exclude\n",
      "Unexpected parameter: since\n",
      "Unexpected parameter: exclude\n",
      "Unexpected parameter: since\n",
      "Unexpected parameter: exclude\n",
      "Unexpected parameter: since\n",
      "Unexpected parameter: exclude\n",
      "Unexpected parameter: since\n",
      "Unexpected parameter: exclude\n",
      "Unexpected parameter: since\n",
      "Unexpected parameter: exclude\n",
      "Unexpected parameter: since\n",
      "Unexpected parameter: exclude\n",
      "Unexpected parameter: since\n",
      "Unexpected parameter: exclude\n",
      "Unexpected parameter: since\n",
      "Unexpected parameter: exclude\n",
      "Unexpected parameter: since\n",
      "Unexpected parameter: exclude\n",
      "Unexpected parameter: since\n",
      "Unexpected parameter: exclude\n",
      "Unexpected parameter: since\n",
      "Unexpected parameter: exclude\n",
      "Unexpected parameter: since\n",
      "Unexpected parameter: exclude\n",
      "Unexpected parameter: since\n",
      "Unexpected parameter: exclude\n",
      "Unexpected parameter: since\n"
     ]
    },
    {
     "ename": "TooManyRequests",
     "evalue": "429 Too Many Requests\n88 - Rate limit exceeded",
     "output_type": "error",
     "traceback": [
      "\u001b[1;31m---------------------------------------------------------------------------\u001b[0m",
      "\u001b[1;31mTooManyRequests\u001b[0m                           Traceback (most recent call last)",
      "\u001b[1;32m~\\AppData\\Local\\Temp\\ipykernel_6076\\484449578.py\u001b[0m in \u001b[0;36m<module>\u001b[1;34m\u001b[0m\n\u001b[0;32m     18\u001b[0m \u001b[1;33m\u001b[0m\u001b[0m\n\u001b[0;32m     19\u001b[0m \u001b[0mall_tweets\u001b[0m \u001b[1;33m=\u001b[0m \u001b[1;33m[\u001b[0m\u001b[1;33m]\u001b[0m\u001b[1;33m\u001b[0m\u001b[1;33m\u001b[0m\u001b[0m\n\u001b[1;32m---> 20\u001b[1;33m \u001b[1;32mfor\u001b[0m \u001b[0mtweet\u001b[0m \u001b[1;32min\u001b[0m \u001b[0mtweets\u001b[0m\u001b[1;33m:\u001b[0m\u001b[1;33m\u001b[0m\u001b[1;33m\u001b[0m\u001b[0m\n\u001b[0m\u001b[0;32m     21\u001b[0m     all_tweets.append({\n\u001b[0;32m     22\u001b[0m         \u001b[1;34m'created_at'\u001b[0m\u001b[1;33m:\u001b[0m \u001b[0mtweet\u001b[0m\u001b[1;33m.\u001b[0m\u001b[0mcreated_at\u001b[0m\u001b[1;33m,\u001b[0m\u001b[1;33m\u001b[0m\u001b[1;33m\u001b[0m\u001b[0m\n",
      "\u001b[1;32m~\\anaconda3\\lib\\site-packages\\tweepy\\cursor.py\u001b[0m in \u001b[0;36m__next__\u001b[1;34m(self)\u001b[0m\n\u001b[0;32m     84\u001b[0m \u001b[1;33m\u001b[0m\u001b[0m\n\u001b[0;32m     85\u001b[0m     \u001b[1;32mdef\u001b[0m \u001b[0m__next__\u001b[0m\u001b[1;33m(\u001b[0m\u001b[0mself\u001b[0m\u001b[1;33m)\u001b[0m\u001b[1;33m:\u001b[0m\u001b[1;33m\u001b[0m\u001b[1;33m\u001b[0m\u001b[0m\n\u001b[1;32m---> 86\u001b[1;33m         \u001b[1;32mreturn\u001b[0m \u001b[0mself\u001b[0m\u001b[1;33m.\u001b[0m\u001b[0mnext\u001b[0m\u001b[1;33m(\u001b[0m\u001b[1;33m)\u001b[0m\u001b[1;33m\u001b[0m\u001b[1;33m\u001b[0m\u001b[0m\n\u001b[0m\u001b[0;32m     87\u001b[0m \u001b[1;33m\u001b[0m\u001b[0m\n\u001b[0;32m     88\u001b[0m     \u001b[1;32mdef\u001b[0m \u001b[0mnext\u001b[0m\u001b[1;33m(\u001b[0m\u001b[0mself\u001b[0m\u001b[1;33m)\u001b[0m\u001b[1;33m:\u001b[0m\u001b[1;33m\u001b[0m\u001b[1;33m\u001b[0m\u001b[0m\n",
      "\u001b[1;32m~\\anaconda3\\lib\\site-packages\\tweepy\\cursor.py\u001b[0m in \u001b[0;36mnext\u001b[1;34m(self)\u001b[0m\n\u001b[0;32m    284\u001b[0m         \u001b[1;32mif\u001b[0m \u001b[0mself\u001b[0m\u001b[1;33m.\u001b[0m\u001b[0mcurrent_page\u001b[0m \u001b[1;32mis\u001b[0m \u001b[1;32mNone\u001b[0m \u001b[1;32mor\u001b[0m \u001b[0mself\u001b[0m\u001b[1;33m.\u001b[0m\u001b[0mpage_index\u001b[0m \u001b[1;33m==\u001b[0m \u001b[0mlen\u001b[0m\u001b[1;33m(\u001b[0m\u001b[0mself\u001b[0m\u001b[1;33m.\u001b[0m\u001b[0mcurrent_page\u001b[0m\u001b[1;33m)\u001b[0m \u001b[1;33m-\u001b[0m \u001b[1;36m1\u001b[0m\u001b[1;33m:\u001b[0m\u001b[1;33m\u001b[0m\u001b[1;33m\u001b[0m\u001b[0m\n\u001b[0;32m    285\u001b[0m             \u001b[1;31m# Reached end of current page, get the next page...\u001b[0m\u001b[1;33m\u001b[0m\u001b[1;33m\u001b[0m\u001b[0m\n\u001b[1;32m--> 286\u001b[1;33m             \u001b[0mself\u001b[0m\u001b[1;33m.\u001b[0m\u001b[0mcurrent_page\u001b[0m \u001b[1;33m=\u001b[0m \u001b[0mnext\u001b[0m\u001b[1;33m(\u001b[0m\u001b[0mself\u001b[0m\u001b[1;33m.\u001b[0m\u001b[0mpage_iterator\u001b[0m\u001b[1;33m)\u001b[0m\u001b[1;33m\u001b[0m\u001b[1;33m\u001b[0m\u001b[0m\n\u001b[0m\u001b[0;32m    287\u001b[0m             \u001b[1;32mwhile\u001b[0m \u001b[0mlen\u001b[0m\u001b[1;33m(\u001b[0m\u001b[0mself\u001b[0m\u001b[1;33m.\u001b[0m\u001b[0mcurrent_page\u001b[0m\u001b[1;33m)\u001b[0m \u001b[1;33m==\u001b[0m \u001b[1;36m0\u001b[0m\u001b[1;33m:\u001b[0m\u001b[1;33m\u001b[0m\u001b[1;33m\u001b[0m\u001b[0m\n\u001b[0;32m    288\u001b[0m                 \u001b[0mself\u001b[0m\u001b[1;33m.\u001b[0m\u001b[0mcurrent_page\u001b[0m \u001b[1;33m=\u001b[0m \u001b[0mnext\u001b[0m\u001b[1;33m(\u001b[0m\u001b[0mself\u001b[0m\u001b[1;33m.\u001b[0m\u001b[0mpage_iterator\u001b[0m\u001b[1;33m)\u001b[0m\u001b[1;33m\u001b[0m\u001b[1;33m\u001b[0m\u001b[0m\n",
      "\u001b[1;32m~\\anaconda3\\lib\\site-packages\\tweepy\\cursor.py\u001b[0m in \u001b[0;36m__next__\u001b[1;34m(self)\u001b[0m\n\u001b[0;32m     84\u001b[0m \u001b[1;33m\u001b[0m\u001b[0m\n\u001b[0;32m     85\u001b[0m     \u001b[1;32mdef\u001b[0m \u001b[0m__next__\u001b[0m\u001b[1;33m(\u001b[0m\u001b[0mself\u001b[0m\u001b[1;33m)\u001b[0m\u001b[1;33m:\u001b[0m\u001b[1;33m\u001b[0m\u001b[1;33m\u001b[0m\u001b[0m\n\u001b[1;32m---> 86\u001b[1;33m         \u001b[1;32mreturn\u001b[0m \u001b[0mself\u001b[0m\u001b[1;33m.\u001b[0m\u001b[0mnext\u001b[0m\u001b[1;33m(\u001b[0m\u001b[1;33m)\u001b[0m\u001b[1;33m\u001b[0m\u001b[1;33m\u001b[0m\u001b[0m\n\u001b[0m\u001b[0;32m     87\u001b[0m \u001b[1;33m\u001b[0m\u001b[0m\n\u001b[0;32m     88\u001b[0m     \u001b[1;32mdef\u001b[0m \u001b[0mnext\u001b[0m\u001b[1;33m(\u001b[0m\u001b[0mself\u001b[0m\u001b[1;33m)\u001b[0m\u001b[1;33m:\u001b[0m\u001b[1;33m\u001b[0m\u001b[1;33m\u001b[0m\u001b[0m\n",
      "\u001b[1;32m~\\anaconda3\\lib\\site-packages\\tweepy\\cursor.py\u001b[0m in \u001b[0;36mnext\u001b[1;34m(self)\u001b[0m\n\u001b[0;32m    165\u001b[0m \u001b[1;33m\u001b[0m\u001b[0m\n\u001b[0;32m    166\u001b[0m         \u001b[1;32mif\u001b[0m \u001b[0mself\u001b[0m\u001b[1;33m.\u001b[0m\u001b[0mindex\u001b[0m \u001b[1;33m>=\u001b[0m \u001b[0mlen\u001b[0m\u001b[1;33m(\u001b[0m\u001b[0mself\u001b[0m\u001b[1;33m.\u001b[0m\u001b[0mresults\u001b[0m\u001b[1;33m)\u001b[0m \u001b[1;33m-\u001b[0m \u001b[1;36m1\u001b[0m\u001b[1;33m:\u001b[0m\u001b[1;33m\u001b[0m\u001b[1;33m\u001b[0m\u001b[0m\n\u001b[1;32m--> 167\u001b[1;33m             \u001b[0mdata\u001b[0m \u001b[1;33m=\u001b[0m \u001b[0mself\u001b[0m\u001b[1;33m.\u001b[0m\u001b[0mmethod\u001b[0m\u001b[1;33m(\u001b[0m\u001b[0mmax_id\u001b[0m\u001b[1;33m=\u001b[0m\u001b[0mself\u001b[0m\u001b[1;33m.\u001b[0m\u001b[0mmax_id\u001b[0m\u001b[1;33m,\u001b[0m \u001b[0mparser\u001b[0m\u001b[1;33m=\u001b[0m\u001b[0mRawParser\u001b[0m\u001b[1;33m(\u001b[0m\u001b[1;33m)\u001b[0m\u001b[1;33m,\u001b[0m \u001b[1;33m*\u001b[0m\u001b[0mself\u001b[0m\u001b[1;33m.\u001b[0m\u001b[0margs\u001b[0m\u001b[1;33m,\u001b[0m \u001b[1;33m**\u001b[0m\u001b[0mself\u001b[0m\u001b[1;33m.\u001b[0m\u001b[0mkwargs\u001b[0m\u001b[1;33m)\u001b[0m\u001b[1;33m\u001b[0m\u001b[1;33m\u001b[0m\u001b[0m\n\u001b[0m\u001b[0;32m    168\u001b[0m \u001b[1;33m\u001b[0m\u001b[0m\n\u001b[0;32m    169\u001b[0m             model = ModelParser().parse(\n",
      "\u001b[1;32m~\\anaconda3\\lib\\site-packages\\tweepy\\api.py\u001b[0m in \u001b[0;36mwrapper\u001b[1;34m(*args, **kwargs)\u001b[0m\n\u001b[0;32m     31\u001b[0m         \u001b[1;33m@\u001b[0m\u001b[0mfunctools\u001b[0m\u001b[1;33m.\u001b[0m\u001b[0mwraps\u001b[0m\u001b[1;33m(\u001b[0m\u001b[0mmethod\u001b[0m\u001b[1;33m)\u001b[0m\u001b[1;33m\u001b[0m\u001b[1;33m\u001b[0m\u001b[0m\n\u001b[0;32m     32\u001b[0m         \u001b[1;32mdef\u001b[0m \u001b[0mwrapper\u001b[0m\u001b[1;33m(\u001b[0m\u001b[1;33m*\u001b[0m\u001b[0margs\u001b[0m\u001b[1;33m,\u001b[0m \u001b[1;33m**\u001b[0m\u001b[0mkwargs\u001b[0m\u001b[1;33m)\u001b[0m\u001b[1;33m:\u001b[0m\u001b[1;33m\u001b[0m\u001b[1;33m\u001b[0m\u001b[0m\n\u001b[1;32m---> 33\u001b[1;33m             \u001b[1;32mreturn\u001b[0m \u001b[0mmethod\u001b[0m\u001b[1;33m(\u001b[0m\u001b[1;33m*\u001b[0m\u001b[0margs\u001b[0m\u001b[1;33m,\u001b[0m \u001b[1;33m**\u001b[0m\u001b[0mkwargs\u001b[0m\u001b[1;33m)\u001b[0m\u001b[1;33m\u001b[0m\u001b[1;33m\u001b[0m\u001b[0m\n\u001b[0m\u001b[0;32m     34\u001b[0m         \u001b[0mwrapper\u001b[0m\u001b[1;33m.\u001b[0m\u001b[0mpagination_mode\u001b[0m \u001b[1;33m=\u001b[0m \u001b[0mmode\u001b[0m\u001b[1;33m\u001b[0m\u001b[1;33m\u001b[0m\u001b[0m\n\u001b[0;32m     35\u001b[0m         \u001b[1;32mreturn\u001b[0m \u001b[0mwrapper\u001b[0m\u001b[1;33m\u001b[0m\u001b[1;33m\u001b[0m\u001b[0m\n",
      "\u001b[1;32m~\\anaconda3\\lib\\site-packages\\tweepy\\api.py\u001b[0m in \u001b[0;36mwrapper\u001b[1;34m(*args, **kwargs)\u001b[0m\n\u001b[0;32m     44\u001b[0m             \u001b[0mkwargs\u001b[0m\u001b[1;33m[\u001b[0m\u001b[1;34m'payload_list'\u001b[0m\u001b[1;33m]\u001b[0m \u001b[1;33m=\u001b[0m \u001b[0mpayload_list\u001b[0m\u001b[1;33m\u001b[0m\u001b[1;33m\u001b[0m\u001b[0m\n\u001b[0;32m     45\u001b[0m             \u001b[0mkwargs\u001b[0m\u001b[1;33m[\u001b[0m\u001b[1;34m'payload_type'\u001b[0m\u001b[1;33m]\u001b[0m \u001b[1;33m=\u001b[0m \u001b[0mpayload_type\u001b[0m\u001b[1;33m\u001b[0m\u001b[1;33m\u001b[0m\u001b[0m\n\u001b[1;32m---> 46\u001b[1;33m             \u001b[1;32mreturn\u001b[0m \u001b[0mmethod\u001b[0m\u001b[1;33m(\u001b[0m\u001b[1;33m*\u001b[0m\u001b[0margs\u001b[0m\u001b[1;33m,\u001b[0m \u001b[1;33m**\u001b[0m\u001b[0mkwargs\u001b[0m\u001b[1;33m)\u001b[0m\u001b[1;33m\u001b[0m\u001b[1;33m\u001b[0m\u001b[0m\n\u001b[0m\u001b[0;32m     47\u001b[0m         \u001b[0mwrapper\u001b[0m\u001b[1;33m.\u001b[0m\u001b[0mpayload_list\u001b[0m \u001b[1;33m=\u001b[0m \u001b[0mpayload_list\u001b[0m\u001b[1;33m\u001b[0m\u001b[1;33m\u001b[0m\u001b[0m\n\u001b[0;32m     48\u001b[0m         \u001b[0mwrapper\u001b[0m\u001b[1;33m.\u001b[0m\u001b[0mpayload_type\u001b[0m \u001b[1;33m=\u001b[0m \u001b[0mpayload_type\u001b[0m\u001b[1;33m\u001b[0m\u001b[1;33m\u001b[0m\u001b[0m\n",
      "\u001b[1;32m~\\anaconda3\\lib\\site-packages\\tweepy\\api.py\u001b[0m in \u001b[0;36msearch_tweets\u001b[1;34m(self, q, **kwargs)\u001b[0m\n\u001b[0;32m   1307\u001b[0m         \u001b[1;33m.\u001b[0m\u001b[1;33m.\u001b[0m \u001b[0m_Twitter\u001b[0m\u001b[0;31m'\u001b[0m\u001b[0ms\u001b[0m \u001b[0mdocumentation\u001b[0m \u001b[0mon\u001b[0m \u001b[0mthe\u001b[0m \u001b[0mstandard\u001b[0m \u001b[0msearch\u001b[0m \u001b[0mAPI\u001b[0m\u001b[1;33m:\u001b[0m \u001b[0mhttps\u001b[0m\u001b[1;33m:\u001b[0m\u001b[1;33m//\u001b[0m\u001b[0mdeveloper\u001b[0m\u001b[1;33m.\u001b[0m\u001b[0mtwitter\u001b[0m\u001b[1;33m.\u001b[0m\u001b[0mcom\u001b[0m\u001b[1;33m/\u001b[0m\u001b[0men\u001b[0m\u001b[1;33m/\u001b[0m\u001b[0mdocs\u001b[0m\u001b[1;33m/\u001b[0m\u001b[0mtwitter\u001b[0m\u001b[1;33m-\u001b[0m\u001b[0mapi\u001b[0m\u001b[1;33m/\u001b[0m\u001b[0mv1\u001b[0m\u001b[1;33m/\u001b[0m\u001b[0mtweets\u001b[0m\u001b[1;33m/\u001b[0m\u001b[0msearch\u001b[0m\u001b[1;33m/\u001b[0m\u001b[0moverview\u001b[0m\u001b[1;33m\u001b[0m\u001b[1;33m\u001b[0m\u001b[0m\n\u001b[0;32m   1308\u001b[0m         \"\"\"\n\u001b[1;32m-> 1309\u001b[1;33m         return self.request(\n\u001b[0m\u001b[0;32m   1310\u001b[0m             'GET', 'search/tweets', endpoint_parameters=(\n\u001b[0;32m   1311\u001b[0m                 \u001b[1;34m'q'\u001b[0m\u001b[1;33m,\u001b[0m \u001b[1;34m'geocode'\u001b[0m\u001b[1;33m,\u001b[0m \u001b[1;34m'lang'\u001b[0m\u001b[1;33m,\u001b[0m \u001b[1;34m'locale'\u001b[0m\u001b[1;33m,\u001b[0m \u001b[1;34m'result_type'\u001b[0m\u001b[1;33m,\u001b[0m \u001b[1;34m'count'\u001b[0m\u001b[1;33m,\u001b[0m\u001b[1;33m\u001b[0m\u001b[1;33m\u001b[0m\u001b[0m\n",
      "\u001b[1;32m~\\anaconda3\\lib\\site-packages\\tweepy\\api.py\u001b[0m in \u001b[0;36mrequest\u001b[1;34m(self, method, endpoint, endpoint_parameters, params, headers, json_payload, parser, payload_list, payload_type, post_data, files, require_auth, return_cursors, upload_api, use_cache, **kwargs)\u001b[0m\n\u001b[0;32m    267\u001b[0m                 \u001b[1;32mraise\u001b[0m \u001b[0mNotFound\u001b[0m\u001b[1;33m(\u001b[0m\u001b[0mresp\u001b[0m\u001b[1;33m)\u001b[0m\u001b[1;33m\u001b[0m\u001b[1;33m\u001b[0m\u001b[0m\n\u001b[0;32m    268\u001b[0m             \u001b[1;32mif\u001b[0m \u001b[0mresp\u001b[0m\u001b[1;33m.\u001b[0m\u001b[0mstatus_code\u001b[0m \u001b[1;33m==\u001b[0m \u001b[1;36m429\u001b[0m\u001b[1;33m:\u001b[0m\u001b[1;33m\u001b[0m\u001b[1;33m\u001b[0m\u001b[0m\n\u001b[1;32m--> 269\u001b[1;33m                 \u001b[1;32mraise\u001b[0m \u001b[0mTooManyRequests\u001b[0m\u001b[1;33m(\u001b[0m\u001b[0mresp\u001b[0m\u001b[1;33m)\u001b[0m\u001b[1;33m\u001b[0m\u001b[1;33m\u001b[0m\u001b[0m\n\u001b[0m\u001b[0;32m    270\u001b[0m             \u001b[1;32mif\u001b[0m \u001b[0mresp\u001b[0m\u001b[1;33m.\u001b[0m\u001b[0mstatus_code\u001b[0m \u001b[1;33m>=\u001b[0m \u001b[1;36m500\u001b[0m\u001b[1;33m:\u001b[0m\u001b[1;33m\u001b[0m\u001b[1;33m\u001b[0m\u001b[0m\n\u001b[0;32m    271\u001b[0m                 \u001b[1;32mraise\u001b[0m \u001b[0mTwitterServerError\u001b[0m\u001b[1;33m(\u001b[0m\u001b[0mresp\u001b[0m\u001b[1;33m)\u001b[0m\u001b[1;33m\u001b[0m\u001b[1;33m\u001b[0m\u001b[0m\n",
      "\u001b[1;31mTooManyRequests\u001b[0m: 429 Too Many Requests\n88 - Rate limit exceeded"
     ]
    }
   ],
   "source": [
    "\n",
    "\n",
    "# Authentication keys\n",
    "consumer_key = \"tcjiMzdipSwxYNjIrzITJKaMa\"\n",
    "consumer_secret =\"vmXrg00sQzxNk0o0va5vUFC9jHFIHKmkvEzreQj6s7qExp9cmc\"\n",
    "access_token = \"1270983233585287169-LfEqdY9tKKLTgoFVKWA7p8WNqnIJCQ\"\n",
    "access_token_secret =\"wFQjgXMHOIJtnew2N4ZvKNwWR93L2zQsWHEIr4WRfAJky\"\n",
    "\n",
    "# Authentication\n",
    "auth = tweepy.OAuthHandler(consumer_key, consumer_secret)\n",
    "auth.set_access_token(access_token, access_token_secret)\n",
    "api = tweepy.API(auth)\n",
    "\n",
    "# Search for tweets (excluding retweets)\n",
    "tweets = tweepy.Cursor(api.search_tweets,\n",
    "                       exclude='retweets',\n",
    "                       q=search_words,\n",
    "                       lang=\"en\",\n",
    "                       since=date).items(number_posts)\n",
    "\n",
    "all_tweets = []\n",
    "for tweet in tweets:\n",
    "    all_tweets.append({\n",
    "        'created_at': tweet.created_at,\n",
    "        'text': tweet.text,\n",
    "        'screen_name': tweet.user.screen_name,\n",
    "        'location': tweet.user.location\n",
    "    })\n",
    "\n",
    "# Create a dataset\n",
    "tweets_dataset = pd.DataFrame(all_tweets)\n",
    "\n",
    "# Save dataset to a CSV file\n",
    "tweets_dataset.to_csv('tweets_dataset.csv', index=False)"
   ]
  },
  {
   "cell_type": "markdown",
   "id": "73473876",
   "metadata": {},
   "source": [
    "The extracted tweets are converted into a dataset "
   ]
  },
  {
   "cell_type": "code",
   "execution_count": 188,
   "id": "5bda6b2e",
   "metadata": {
    "scrolled": true
   },
   "outputs": [],
   "source": [
    "df_Tweet = pd.DataFrame(all_tweets)\n",
    "df_Tweet.to_csv('Tweet_data2.csv', index=False,)"
   ]
  },
  {
   "cell_type": "code",
   "execution_count": 189,
   "id": "b1ea1d43",
   "metadata": {
    "scrolled": true
   },
   "outputs": [
    {
     "data": {
      "text/html": [
       "<div>\n",
       "<style scoped>\n",
       "    .dataframe tbody tr th:only-of-type {\n",
       "        vertical-align: middle;\n",
       "    }\n",
       "\n",
       "    .dataframe tbody tr th {\n",
       "        vertical-align: top;\n",
       "    }\n",
       "\n",
       "    .dataframe thead th {\n",
       "        text-align: right;\n",
       "    }\n",
       "</style>\n",
       "<table border=\"1\" class=\"dataframe\">\n",
       "  <thead>\n",
       "    <tr style=\"text-align: right;\">\n",
       "      <th></th>\n",
       "      <th>created_at</th>\n",
       "      <th>text</th>\n",
       "      <th>screen_name</th>\n",
       "      <th>location</th>\n",
       "    </tr>\n",
       "  </thead>\n",
       "  <tbody>\n",
       "    <tr>\n",
       "      <th>2530</th>\n",
       "      <td>2023-01-23 11:26:29+00:00</td>\n",
       "      <td>@AnneMarieMorris\\n@davidmorrisml\\nThe #BBCDocu...</td>\n",
       "      <td>Saanvis17</td>\n",
       "      <td>Delhi</td>\n",
       "    </tr>\n",
       "    <tr>\n",
       "      <th>2531</th>\n",
       "      <td>2023-01-23 11:25:55+00:00</td>\n",
       "      <td>@jessicamordenmp\\n@stephenmorganmp\\nAfter the ...</td>\n",
       "      <td>Saanvis17</td>\n",
       "      <td>Delhi</td>\n",
       "    </tr>\n",
       "    <tr>\n",
       "      <th>2532</th>\n",
       "      <td>2023-01-23 11:25:39+00:00</td>\n",
       "      <td>@jon_trickett \\n@trussliz \\nLord Rami Ranger i...</td>\n",
       "      <td>AminaKh94221736</td>\n",
       "      <td></td>\n",
       "    </tr>\n",
       "    <tr>\n",
       "      <th>2533</th>\n",
       "      <td>2023-01-23 11:25:09+00:00</td>\n",
       "      <td>@laylamoran\\n@PennyMordaunt\\nCasting doubt on ...</td>\n",
       "      <td>Saanvis17</td>\n",
       "      <td>Delhi</td>\n",
       "    </tr>\n",
       "    <tr>\n",
       "      <th>2534</th>\n",
       "      <td>2023-01-23 11:24:19+00:00</td>\n",
       "      <td>@Moore4Southport\\n@_RobbieMoore\\nLord Rami Ran...</td>\n",
       "      <td>Saanvis17</td>\n",
       "      <td>Delhi</td>\n",
       "    </tr>\n",
       "  </tbody>\n",
       "</table>\n",
       "</div>"
      ],
      "text/plain": [
       "                    created_at  \\\n",
       "2530 2023-01-23 11:26:29+00:00   \n",
       "2531 2023-01-23 11:25:55+00:00   \n",
       "2532 2023-01-23 11:25:39+00:00   \n",
       "2533 2023-01-23 11:25:09+00:00   \n",
       "2534 2023-01-23 11:24:19+00:00   \n",
       "\n",
       "                                                   text      screen_name  \\\n",
       "2530  @AnneMarieMorris\\n@davidmorrisml\\nThe #BBCDocu...        Saanvis17   \n",
       "2531  @jessicamordenmp\\n@stephenmorganmp\\nAfter the ...        Saanvis17   \n",
       "2532  @jon_trickett \\n@trussliz \\nLord Rami Ranger i...  AminaKh94221736   \n",
       "2533  @laylamoran\\n@PennyMordaunt\\nCasting doubt on ...        Saanvis17   \n",
       "2534  @Moore4Southport\\n@_RobbieMoore\\nLord Rami Ran...        Saanvis17   \n",
       "\n",
       "     location  \n",
       "2530    Delhi  \n",
       "2531    Delhi  \n",
       "2532           \n",
       "2533    Delhi  \n",
       "2534    Delhi  "
      ]
     },
     "execution_count": 189,
     "metadata": {},
     "output_type": "execute_result"
    }
   ],
   "source": [
    "df_Tweet.tail()"
   ]
  },
  {
   "cell_type": "markdown",
   "id": "5fa00be6",
   "metadata": {},
   "source": [
    "# NOTE:\n",
    "The Twitter API only lets to extract a maximum of 3200 tweets in a 15 minute window. Keeping in mind the rules and restrictions in place to prevent excessive use of the API and to ensure that it remains available for all developers. If the rate limits exceeds , the access to it may be temporarily or permanently suspended.\n",
    "\n",
    "Only 2543 tweets have been scraped due to the limitations of rate limits on twitter API and is used for analysis"
   ]
  },
  {
   "cell_type": "markdown",
   "id": "c9fe04fe",
   "metadata": {},
   "source": [
    "# DATA PRE-Processing"
   ]
  },
  {
   "cell_type": "code",
   "execution_count": 190,
   "id": "294d7b5d",
   "metadata": {},
   "outputs": [],
   "source": [
    "npr = pd.DataFrame(columns=['Article'])\n",
    "npr['Article']=df_Tweet['text']"
   ]
  },
  {
   "cell_type": "code",
   "execution_count": 191,
   "id": "c56e0354",
   "metadata": {
    "scrolled": true
   },
   "outputs": [
    {
     "data": {
      "text/html": [
       "<div>\n",
       "<style scoped>\n",
       "    .dataframe tbody tr th:only-of-type {\n",
       "        vertical-align: middle;\n",
       "    }\n",
       "\n",
       "    .dataframe tbody tr th {\n",
       "        vertical-align: top;\n",
       "    }\n",
       "\n",
       "    .dataframe thead th {\n",
       "        text-align: right;\n",
       "    }\n",
       "</style>\n",
       "<table border=\"1\" class=\"dataframe\">\n",
       "  <thead>\n",
       "    <tr style=\"text-align: right;\">\n",
       "      <th></th>\n",
       "      <th>Article</th>\n",
       "    </tr>\n",
       "  </thead>\n",
       "  <tbody>\n",
       "    <tr>\n",
       "      <th>0</th>\n",
       "      <td>Govt. should remove the ban on the #BBCDocumen...</td>\n",
       "    </tr>\n",
       "    <tr>\n",
       "      <th>1</th>\n",
       "      <td>#BBCDocumentary\\nThe more they hide the more i...</td>\n",
       "    </tr>\n",
       "    <tr>\n",
       "      <th>2</th>\n",
       "      <td>Though the government has played out a clampdo...</td>\n",
       "    </tr>\n",
       "    <tr>\n",
       "      <th>3</th>\n",
       "      <td>Days after the Centre asked Twitter and YouTub...</td>\n",
       "    </tr>\n",
       "    <tr>\n",
       "      <th>4</th>\n",
       "      <td>@ukilaw Pak as dark as blown out bulbs like th...</td>\n",
       "    </tr>\n",
       "  </tbody>\n",
       "</table>\n",
       "</div>"
      ],
      "text/plain": [
       "                                             Article\n",
       "0  Govt. should remove the ban on the #BBCDocumen...\n",
       "1  #BBCDocumentary\\nThe more they hide the more i...\n",
       "2  Though the government has played out a clampdo...\n",
       "3  Days after the Centre asked Twitter and YouTub...\n",
       "4  @ukilaw Pak as dark as blown out bulbs like th..."
      ]
     },
     "execution_count": 191,
     "metadata": {},
     "output_type": "execute_result"
    }
   ],
   "source": [
    "npr.head()"
   ]
  },
  {
   "cell_type": "code",
   "execution_count": 192,
   "id": "61fd06c5",
   "metadata": {},
   "outputs": [
    {
     "name": "stderr",
     "output_type": "stream",
     "text": [
      "[nltk_data] Downloading package stopwords to\n",
      "[nltk_data]     C:\\Users\\naikv\\AppData\\Roaming\\nltk_data...\n",
      "[nltk_data]   Package stopwords is already up-to-date!\n"
     ]
    },
    {
     "data": {
      "text/plain": [
       "True"
      ]
     },
     "execution_count": 192,
     "metadata": {},
     "output_type": "execute_result"
    }
   ],
   "source": [
    "import nltk\n",
    "nltk.download('stopwords')"
   ]
  },
  {
   "cell_type": "code",
   "execution_count": 193,
   "id": "354fadc6",
   "metadata": {},
   "outputs": [],
   "source": [
    "import pyLDAvis\n",
    "import pyLDAvis.gensim_models as gensimvis\n",
    "pyLDAvis.enable_notebook()\n",
    "import pandas as pd\n",
    "import numpy as np\n",
    "\n",
    "import re\n",
    "import string\n",
    "\n",
    "import spacy\n",
    "\n",
    "import gensim\n",
    "from gensim import corpora\n",
    "\n",
    "# libraries for visualization\n",
    "import pyLDAvis\n",
    "import matplotlib.pyplot as plt\n",
    "import seaborn as sns\n",
    "%matplotlib inline"
   ]
  },
  {
   "cell_type": "code",
   "execution_count": 194,
   "id": "ab26bf90",
   "metadata": {},
   "outputs": [
    {
     "data": {
      "text/html": [
       "<div>\n",
       "<style scoped>\n",
       "    .dataframe tbody tr th:only-of-type {\n",
       "        vertical-align: middle;\n",
       "    }\n",
       "\n",
       "    .dataframe tbody tr th {\n",
       "        vertical-align: top;\n",
       "    }\n",
       "\n",
       "    .dataframe thead th {\n",
       "        text-align: right;\n",
       "    }\n",
       "</style>\n",
       "<table border=\"1\" class=\"dataframe\">\n",
       "  <thead>\n",
       "    <tr style=\"text-align: right;\">\n",
       "      <th></th>\n",
       "      <th>Article</th>\n",
       "    </tr>\n",
       "  </thead>\n",
       "  <tbody>\n",
       "    <tr>\n",
       "      <th>0</th>\n",
       "      <td>Govt. should remove the ban on the #BBCDocumen...</td>\n",
       "    </tr>\n",
       "    <tr>\n",
       "      <th>1</th>\n",
       "      <td>#BBCDocumentary\\nThe more they hide the more i...</td>\n",
       "    </tr>\n",
       "    <tr>\n",
       "      <th>2</th>\n",
       "      <td>Though the government has played out a clampdo...</td>\n",
       "    </tr>\n",
       "    <tr>\n",
       "      <th>3</th>\n",
       "      <td>Days after the Centre asked Twitter and YouTub...</td>\n",
       "    </tr>\n",
       "    <tr>\n",
       "      <th>4</th>\n",
       "      <td>@ukilaw Pak as dark as blown out bulbs like th...</td>\n",
       "    </tr>\n",
       "  </tbody>\n",
       "</table>\n",
       "</div>"
      ],
      "text/plain": [
       "                                             Article\n",
       "0  Govt. should remove the ban on the #BBCDocumen...\n",
       "1  #BBCDocumentary\\nThe more they hide the more i...\n",
       "2  Though the government has played out a clampdo...\n",
       "3  Days after the Centre asked Twitter and YouTub...\n",
       "4  @ukilaw Pak as dark as blown out bulbs like th..."
      ]
     },
     "execution_count": 194,
     "metadata": {},
     "output_type": "execute_result"
    }
   ],
   "source": [
    "npr.head()"
   ]
  },
  {
   "cell_type": "code",
   "execution_count": 195,
   "id": "c4b8f814",
   "metadata": {},
   "outputs": [],
   "source": [
    "from nltk.corpus import stopwords\n",
    "stops = stopwords.words(\"english\") "
   ]
  },
  {
   "cell_type": "code",
   "execution_count": 196,
   "id": "dc147cef",
   "metadata": {
    "scrolled": true
   },
   "outputs": [],
   "source": [
    "npr['Article'] = npr.Article.str.replace(\"(@[A-Za-z0-9]+)|([^0-9A-Za-z \\t])|(\\w+:\\/\\/\\S+)\",\"\")           \n",
    "npr['Article'] = npr.Article.str.replace(\"[^\\w\\s]\", \"\").str.lower() # Lowercase       \n",
    "\n",
    "npr['Article'] = npr.Article.str.replace(\"[^\\w\\s]\", \"\").str.lower() # Lowercase\n",
    "npr['Article']= npr['Article'].apply(lambda x: \n",
    "                              ' '.join([item for item in str(x).split() if item not in stops])) # Remove english stopwords\n",
    "npr['Article'] = npr.Article.str.replace(\"[^\\w\\s]\", \"\") # Remove punctuation\n",
    "npr['Article'] = npr['Article'].str.replace('\\d+', '')"
   ]
  },
  {
   "cell_type": "code",
   "execution_count": 197,
   "id": "013e1d72",
   "metadata": {},
   "outputs": [
    {
     "data": {
      "text/html": [
       "<div>\n",
       "<style scoped>\n",
       "    .dataframe tbody tr th:only-of-type {\n",
       "        vertical-align: middle;\n",
       "    }\n",
       "\n",
       "    .dataframe tbody tr th {\n",
       "        vertical-align: top;\n",
       "    }\n",
       "\n",
       "    .dataframe thead th {\n",
       "        text-align: right;\n",
       "    }\n",
       "</style>\n",
       "<table border=\"1\" class=\"dataframe\">\n",
       "  <thead>\n",
       "    <tr style=\"text-align: right;\">\n",
       "      <th></th>\n",
       "      <th>Article</th>\n",
       "    </tr>\n",
       "  </thead>\n",
       "  <tbody>\n",
       "    <tr>\n",
       "      <th>2525</th>\n",
       "      <td>obviously generals forced sign petition show i...</td>\n",
       "    </tr>\n",
       "    <tr>\n",
       "      <th>2526</th>\n",
       "      <td>cm gujarat owaisi pm modi govt blocks bbc docu...</td>\n",
       "    </tr>\n",
       "    <tr>\n",
       "      <th>2527</th>\n",
       "      <td>inc inc modi declassified netajis file made co...</td>\n",
       "    </tr>\n",
       "    <tr>\n",
       "      <th>2528</th>\n",
       "      <td>reality minorities india safe majority n privi...</td>\n",
       "    </tr>\n",
       "    <tr>\n",
       "      <th>2529</th>\n",
       "      <td>goi ban government projects ultimate beneficia...</td>\n",
       "    </tr>\n",
       "    <tr>\n",
       "      <th>2530</th>\n",
       "      <td>bbcdocumentary series pm modi drawn harsh crit...</td>\n",
       "    </tr>\n",
       "    <tr>\n",
       "      <th>2531</th>\n",
       "      <td>airing controversial bbcdocumentary pm narendr...</td>\n",
       "    </tr>\n",
       "    <tr>\n",
       "      <th>2532</th>\n",
       "      <td>trickett lord rami ranger letter tim davie men...</td>\n",
       "    </tr>\n",
       "    <tr>\n",
       "      <th>2533</th>\n",
       "      <td>casting doubt islamist involvement godhra trai...</td>\n",
       "    </tr>\n",
       "    <tr>\n",
       "      <th>2534</th>\n",
       "      <td>robbiemoorelord rami ranger encouraged biasedb...</td>\n",
       "    </tr>\n",
       "  </tbody>\n",
       "</table>\n",
       "</div>"
      ],
      "text/plain": [
       "                                                Article\n",
       "2525  obviously generals forced sign petition show i...\n",
       "2526  cm gujarat owaisi pm modi govt blocks bbc docu...\n",
       "2527  inc inc modi declassified netajis file made co...\n",
       "2528  reality minorities india safe majority n privi...\n",
       "2529  goi ban government projects ultimate beneficia...\n",
       "2530  bbcdocumentary series pm modi drawn harsh crit...\n",
       "2531  airing controversial bbcdocumentary pm narendr...\n",
       "2532  trickett lord rami ranger letter tim davie men...\n",
       "2533  casting doubt islamist involvement godhra trai...\n",
       "2534  robbiemoorelord rami ranger encouraged biasedb..."
      ]
     },
     "execution_count": 197,
     "metadata": {},
     "output_type": "execute_result"
    }
   ],
   "source": [
    "npr.tail(10)"
   ]
  },
  {
   "cell_type": "code",
   "execution_count": 198,
   "id": "4e697415",
   "metadata": {},
   "outputs": [],
   "source": [
    "import random\n",
    "import numpy as np # linear algebra\n",
    "import pandas as pd # data processing, CSV file I/O (e.g. pd.read_csv)\n",
    "import matplotlib.pyplot as plt\n",
    "from nltk.corpus import stopwords\n",
    "\n",
    "from sklearn.feature_extraction.text import CountVectorizer\n",
    "from sklearn.decomposition import LatentDirichletAllocation # LDA\n",
    "from sklearn.model_selection import GridSearchCV"
   ]
  },
  {
   "cell_type": "code",
   "execution_count": 199,
   "id": "941a1cc9",
   "metadata": {},
   "outputs": [],
   "source": [
    "from sklearn.feature_extraction.text import CountVectorizer"
   ]
  },
  {
   "cell_type": "code",
   "execution_count": 200,
   "id": "96083bed",
   "metadata": {},
   "outputs": [],
   "source": [
    "cv = CountVectorizer(max_df=0.95, min_df=2, stop_words='english')"
   ]
  },
  {
   "cell_type": "code",
   "execution_count": 201,
   "id": "515656f5",
   "metadata": {},
   "outputs": [],
   "source": [
    "dtm = cv.fit_transform(npr['Article'])"
   ]
  },
  {
   "cell_type": "code",
   "execution_count": 202,
   "id": "f6798b41",
   "metadata": {},
   "outputs": [
    {
     "data": {
      "text/plain": [
       "<2535x2020 sparse matrix of type '<class 'numpy.int64'>'\n",
       "\twith 17548 stored elements in Compressed Sparse Row format>"
      ]
     },
     "execution_count": 202,
     "metadata": {},
     "output_type": "execute_result"
    }
   ],
   "source": [
    "dtm"
   ]
  },
  {
   "cell_type": "code",
   "execution_count": 203,
   "id": "6c1eff0d",
   "metadata": {},
   "outputs": [
    {
     "data": {
      "text/plain": [
       "2020"
      ]
     },
     "execution_count": 203,
     "metadata": {},
     "output_type": "execute_result"
    }
   ],
   "source": [
    "len(cv.get_feature_names())\n"
   ]
  },
  {
   "cell_type": "code",
   "execution_count": 204,
   "id": "bf4d094f",
   "metadata": {},
   "outputs": [],
   "source": [
    "import random"
   ]
  },
  {
   "cell_type": "code",
   "execution_count": 205,
   "id": "dbf9e57f",
   "metadata": {},
   "outputs": [
    {
     "name": "stdout",
     "output_type": "stream",
     "text": [
      "buy\n",
      "logic\n",
      "ready\n",
      "january\n",
      "countrys\n",
      "buy\n",
      "exactly\n",
      "instigate\n",
      "bans\n",
      "musk\n"
     ]
    }
   ],
   "source": [
    "for i in range(10):\n",
    "    random_word_id = random.randint(0,1589)\n",
    "    print(cv.get_feature_names()[random_word_id])"
   ]
  },
  {
   "cell_type": "markdown",
   "id": "09898619",
   "metadata": {},
   "source": [
    "# TOPIC MODELLING"
   ]
  },
  {
   "cell_type": "code",
   "execution_count": 206,
   "id": "04254f17",
   "metadata": {
    "scrolled": true
   },
   "outputs": [
    {
     "name": "stdout",
     "output_type": "stream",
     "text": [
      "Requirement already satisfied: spacy[medium] in c:\\users\\naikv\\anaconda3\\lib\\site-packages (3.5.0)\n",
      "Requirement already satisfied: numpy>=1.15.0 in c:\\users\\naikv\\anaconda3\\lib\\site-packages (from spacy[medium]) (1.21.5)\n",
      "Requirement already satisfied: srsly<3.0.0,>=2.4.3 in c:\\users\\naikv\\anaconda3\\lib\\site-packages (from spacy[medium]) (2.4.5)\n",
      "Requirement already satisfied: tqdm<5.0.0,>=4.38.0 in c:\\users\\naikv\\anaconda3\\lib\\site-packages (from spacy[medium]) (4.64.1)\n",
      "Requirement already satisfied: pathy>=0.10.0 in c:\\users\\naikv\\anaconda3\\lib\\site-packages (from spacy[medium]) (0.10.1)\n",
      "Requirement already satisfied: thinc<8.2.0,>=8.1.0 in c:\\users\\naikv\\anaconda3\\lib\\site-packages (from spacy[medium]) (8.1.7)\n",
      "Requirement already satisfied: setuptools in c:\\users\\naikv\\anaconda3\\lib\\site-packages (from spacy[medium]) (63.4.1)\n",
      "Requirement already satisfied: packaging>=20.0 in c:\\users\\naikv\\anaconda3\\lib\\site-packages (from spacy[medium]) (21.3)\n",
      "Requirement already satisfied: spacy-loggers<2.0.0,>=1.0.0 in c:\\users\\naikv\\anaconda3\\lib\\site-packages (from spacy[medium]) (1.0.4)\n",
      "Requirement already satisfied: catalogue<2.1.0,>=2.0.6 in c:\\users\\naikv\\anaconda3\\lib\\site-packages (from spacy[medium]) (2.0.8)\n",
      "Requirement already satisfied: smart-open<7.0.0,>=5.2.1 in c:\\users\\naikv\\anaconda3\\lib\\site-packages (from spacy[medium]) (5.2.1)\n",
      "Requirement already satisfied: langcodes<4.0.0,>=3.2.0 in c:\\users\\naikv\\anaconda3\\lib\\site-packages (from spacy[medium]) (3.3.0)\n",
      "Requirement already satisfied: murmurhash<1.1.0,>=0.28.0 in c:\\users\\naikv\\anaconda3\\lib\\site-packages (from spacy[medium]) (1.0.9)\n",
      "Requirement already satisfied: requests<3.0.0,>=2.13.0 in c:\\users\\naikv\\anaconda3\\lib\\site-packages (from spacy[medium]) (2.28.1)\n",
      "Requirement already satisfied: typer<0.8.0,>=0.3.0 in c:\\users\\naikv\\anaconda3\\lib\\site-packages (from spacy[medium]) (0.7.0)\n",
      "Requirement already satisfied: preshed<3.1.0,>=3.0.2 in c:\\users\\naikv\\anaconda3\\lib\\site-packages (from spacy[medium]) (3.0.8)\n",
      "Requirement already satisfied: pydantic!=1.8,!=1.8.1,<1.11.0,>=1.7.4 in c:\\users\\naikv\\anaconda3\\lib\\site-packages (from spacy[medium]) (1.10.4)\n",
      "Requirement already satisfied: spacy-legacy<3.1.0,>=3.0.11 in c:\\users\\naikv\\anaconda3\\lib\\site-packages (from spacy[medium]) (3.0.11)\n",
      "Requirement already satisfied: cymem<2.1.0,>=2.0.2 in c:\\users\\naikv\\anaconda3\\lib\\site-packages (from spacy[medium]) (2.0.7)\n",
      "Requirement already satisfied: wasabi<1.2.0,>=0.9.1 in c:\\users\\naikv\\anaconda3\\lib\\site-packages (from spacy[medium]) (1.1.1)\n",
      "Requirement already satisfied: jinja2 in c:\\users\\naikv\\anaconda3\\lib\\site-packages (from spacy[medium]) (2.11.3)\n",
      "Requirement already satisfied: pyparsing!=3.0.5,>=2.0.2 in c:\\users\\naikv\\anaconda3\\lib\\site-packages (from packaging>=20.0->spacy[medium]) (3.0.9)\n",
      "Requirement already satisfied: typing-extensions>=4.2.0 in c:\\users\\naikv\\anaconda3\\lib\\site-packages (from pydantic!=1.8,!=1.8.1,<1.11.0,>=1.7.4->spacy[medium]) (4.3.0)\n",
      "Requirement already satisfied: idna<4,>=2.5 in c:\\users\\naikv\\anaconda3\\lib\\site-packages (from requests<3.0.0,>=2.13.0->spacy[medium]) (3.3)\n",
      "Requirement already satisfied: urllib3<1.27,>=1.21.1 in c:\\users\\naikv\\anaconda3\\lib\\site-packages (from requests<3.0.0,>=2.13.0->spacy[medium]) (1.26.11)\n",
      "Requirement already satisfied: charset-normalizer<3,>=2 in c:\\users\\naikv\\anaconda3\\lib\\site-packages (from requests<3.0.0,>=2.13.0->spacy[medium]) (2.0.4)\n",
      "Requirement already satisfied: certifi>=2017.4.17 in c:\\users\\naikv\\anaconda3\\lib\\site-packages (from requests<3.0.0,>=2.13.0->spacy[medium]) (2022.9.14)\n",
      "Requirement already satisfied: confection<1.0.0,>=0.0.1 in c:\\users\\naikv\\anaconda3\\lib\\site-packages (from thinc<8.2.0,>=8.1.0->spacy[medium]) (0.0.4)\n",
      "Requirement already satisfied: blis<0.8.0,>=0.7.8 in c:\\users\\naikv\\anaconda3\\lib\\site-packages (from thinc<8.2.0,>=8.1.0->spacy[medium]) (0.7.9)\n",
      "Requirement already satisfied: colorama in c:\\users\\naikv\\anaconda3\\lib\\site-packages (from tqdm<5.0.0,>=4.38.0->spacy[medium]) (0.4.6)\n",
      "Requirement already satisfied: click<9.0.0,>=7.1.1 in c:\\users\\naikv\\anaconda3\\lib\\site-packages (from typer<0.8.0,>=0.3.0->spacy[medium]) (8.0.4)\n",
      "Requirement already satisfied: MarkupSafe>=0.23 in c:\\users\\naikv\\anaconda3\\lib\\site-packages (from jinja2->spacy[medium]) (2.0.1)\n"
     ]
    },
    {
     "name": "stderr",
     "output_type": "stream",
     "text": [
      "WARNING: spacy 3.5.0 does not provide the extra 'medium'\n"
     ]
    }
   ],
   "source": [
    "!pip install spacy[medium]"
   ]
  },
  {
   "cell_type": "code",
   "execution_count": 208,
   "id": "e6dc81ee",
   "metadata": {
    "scrolled": true
   },
   "outputs": [
    {
     "name": "stdout",
     "output_type": "stream",
     "text": [
      "Collecting en-core-web-md==3.5.0\n",
      "  Downloading https://github.com/explosion/spacy-models/releases/download/en_core_web_md-3.5.0/en_core_web_md-3.5.0-py3-none-any.whl (42.8 MB)\n",
      "     --------------------------------------- 42.8/42.8 MB 10.4 MB/s eta 0:00:00\n",
      "Requirement already satisfied: spacy<3.6.0,>=3.5.0 in c:\\users\\naikv\\anaconda3\\lib\\site-packages (from en-core-web-md==3.5.0) (3.5.0)\n",
      "Requirement already satisfied: thinc<8.2.0,>=8.1.0 in c:\\users\\naikv\\anaconda3\\lib\\site-packages (from spacy<3.6.0,>=3.5.0->en-core-web-md==3.5.0) (8.1.7)\n",
      "Requirement already satisfied: pathy>=0.10.0 in c:\\users\\naikv\\anaconda3\\lib\\site-packages (from spacy<3.6.0,>=3.5.0->en-core-web-md==3.5.0) (0.10.1)\n",
      "Requirement already satisfied: cymem<2.1.0,>=2.0.2 in c:\\users\\naikv\\anaconda3\\lib\\site-packages (from spacy<3.6.0,>=3.5.0->en-core-web-md==3.5.0) (2.0.7)\n",
      "Requirement already satisfied: langcodes<4.0.0,>=3.2.0 in c:\\users\\naikv\\anaconda3\\lib\\site-packages (from spacy<3.6.0,>=3.5.0->en-core-web-md==3.5.0) (3.3.0)\n",
      "Requirement already satisfied: numpy>=1.15.0 in c:\\users\\naikv\\anaconda3\\lib\\site-packages (from spacy<3.6.0,>=3.5.0->en-core-web-md==3.5.0) (1.21.5)\n",
      "Requirement already satisfied: tqdm<5.0.0,>=4.38.0 in c:\\users\\naikv\\anaconda3\\lib\\site-packages (from spacy<3.6.0,>=3.5.0->en-core-web-md==3.5.0) (4.64.1)\n",
      "Requirement already satisfied: jinja2 in c:\\users\\naikv\\anaconda3\\lib\\site-packages (from spacy<3.6.0,>=3.5.0->en-core-web-md==3.5.0) (2.11.3)\n",
      "Requirement already satisfied: spacy-loggers<2.0.0,>=1.0.0 in c:\\users\\naikv\\anaconda3\\lib\\site-packages (from spacy<3.6.0,>=3.5.0->en-core-web-md==3.5.0) (1.0.4)\n",
      "Requirement already satisfied: pydantic!=1.8,!=1.8.1,<1.11.0,>=1.7.4 in c:\\users\\naikv\\anaconda3\\lib\\site-packages (from spacy<3.6.0,>=3.5.0->en-core-web-md==3.5.0) (1.10.4)\n",
      "Requirement already satisfied: requests<3.0.0,>=2.13.0 in c:\\users\\naikv\\anaconda3\\lib\\site-packages (from spacy<3.6.0,>=3.5.0->en-core-web-md==3.5.0) (2.28.1)\n",
      "Requirement already satisfied: setuptools in c:\\users\\naikv\\anaconda3\\lib\\site-packages (from spacy<3.6.0,>=3.5.0->en-core-web-md==3.5.0) (63.4.1)\n",
      "Requirement already satisfied: spacy-legacy<3.1.0,>=3.0.11 in c:\\users\\naikv\\anaconda3\\lib\\site-packages (from spacy<3.6.0,>=3.5.0->en-core-web-md==3.5.0) (3.0.11)\n",
      "Requirement already satisfied: wasabi<1.2.0,>=0.9.1 in c:\\users\\naikv\\anaconda3\\lib\\site-packages (from spacy<3.6.0,>=3.5.0->en-core-web-md==3.5.0) (1.1.1)\n",
      "Requirement already satisfied: packaging>=20.0 in c:\\users\\naikv\\anaconda3\\lib\\site-packages (from spacy<3.6.0,>=3.5.0->en-core-web-md==3.5.0) (21.3)\n",
      "Requirement already satisfied: murmurhash<1.1.0,>=0.28.0 in c:\\users\\naikv\\anaconda3\\lib\\site-packages (from spacy<3.6.0,>=3.5.0->en-core-web-md==3.5.0) (1.0.9)\n",
      "Requirement already satisfied: typer<0.8.0,>=0.3.0 in c:\\users\\naikv\\anaconda3\\lib\\site-packages (from spacy<3.6.0,>=3.5.0->en-core-web-md==3.5.0) (0.7.0)\n",
      "Requirement already satisfied: smart-open<7.0.0,>=5.2.1 in c:\\users\\naikv\\anaconda3\\lib\\site-packages (from spacy<3.6.0,>=3.5.0->en-core-web-md==3.5.0) (5.2.1)\n",
      "Requirement already satisfied: catalogue<2.1.0,>=2.0.6 in c:\\users\\naikv\\anaconda3\\lib\\site-packages (from spacy<3.6.0,>=3.5.0->en-core-web-md==3.5.0) (2.0.8)\n",
      "Requirement already satisfied: preshed<3.1.0,>=3.0.2 in c:\\users\\naikv\\anaconda3\\lib\\site-packages (from spacy<3.6.0,>=3.5.0->en-core-web-md==3.5.0) (3.0.8)\n",
      "Requirement already satisfied: srsly<3.0.0,>=2.4.3 in c:\\users\\naikv\\anaconda3\\lib\\site-packages (from spacy<3.6.0,>=3.5.0->en-core-web-md==3.5.0) (2.4.5)\n",
      "Requirement already satisfied: pyparsing!=3.0.5,>=2.0.2 in c:\\users\\naikv\\anaconda3\\lib\\site-packages (from packaging>=20.0->spacy<3.6.0,>=3.5.0->en-core-web-md==3.5.0) (3.0.9)\n",
      "Requirement already satisfied: typing-extensions>=4.2.0 in c:\\users\\naikv\\anaconda3\\lib\\site-packages (from pydantic!=1.8,!=1.8.1,<1.11.0,>=1.7.4->spacy<3.6.0,>=3.5.0->en-core-web-md==3.5.0) (4.3.0)\n",
      "Requirement already satisfied: urllib3<1.27,>=1.21.1 in c:\\users\\naikv\\anaconda3\\lib\\site-packages (from requests<3.0.0,>=2.13.0->spacy<3.6.0,>=3.5.0->en-core-web-md==3.5.0) (1.26.11)\n",
      "Requirement already satisfied: certifi>=2017.4.17 in c:\\users\\naikv\\anaconda3\\lib\\site-packages (from requests<3.0.0,>=2.13.0->spacy<3.6.0,>=3.5.0->en-core-web-md==3.5.0) (2022.9.14)\n",
      "Requirement already satisfied: idna<4,>=2.5 in c:\\users\\naikv\\anaconda3\\lib\\site-packages (from requests<3.0.0,>=2.13.0->spacy<3.6.0,>=3.5.0->en-core-web-md==3.5.0) (3.3)\n",
      "Requirement already satisfied: charset-normalizer<3,>=2 in c:\\users\\naikv\\anaconda3\\lib\\site-packages (from requests<3.0.0,>=2.13.0->spacy<3.6.0,>=3.5.0->en-core-web-md==3.5.0) (2.0.4)\n",
      "Requirement already satisfied: blis<0.8.0,>=0.7.8 in c:\\users\\naikv\\anaconda3\\lib\\site-packages (from thinc<8.2.0,>=8.1.0->spacy<3.6.0,>=3.5.0->en-core-web-md==3.5.0) (0.7.9)\n",
      "Requirement already satisfied: confection<1.0.0,>=0.0.1 in c:\\users\\naikv\\anaconda3\\lib\\site-packages (from thinc<8.2.0,>=8.1.0->spacy<3.6.0,>=3.5.0->en-core-web-md==3.5.0) (0.0.4)\n",
      "Requirement already satisfied: colorama in c:\\users\\naikv\\anaconda3\\lib\\site-packages (from tqdm<5.0.0,>=4.38.0->spacy<3.6.0,>=3.5.0->en-core-web-md==3.5.0) (0.4.6)\n",
      "Requirement already satisfied: click<9.0.0,>=7.1.1 in c:\\users\\naikv\\anaconda3\\lib\\site-packages (from typer<0.8.0,>=0.3.0->spacy<3.6.0,>=3.5.0->en-core-web-md==3.5.0) (8.0.4)\n",
      "Requirement already satisfied: MarkupSafe>=0.23 in c:\\users\\naikv\\anaconda3\\lib\\site-packages (from jinja2->spacy<3.6.0,>=3.5.0->en-core-web-md==3.5.0) (2.0.1)\n",
      "\u001b[38;5;2m[+] Download and installation successful\u001b[0m\n",
      "You can now load the package via spacy.load('en_core_web_md')\n",
      "Collecting en-core-web-md==3.5.0\n",
      "  Using cached https://github.com/explosion/spacy-models/releases/download/en_core_web_md-3.5.0/en_core_web_md-3.5.0-py3-none-any.whl (42.8 MB)\n",
      "Requirement already satisfied: spacy<3.6.0,>=3.5.0 in c:\\users\\naikv\\anaconda3\\lib\\site-packages (from en-core-web-md==3.5.0) (3.5.0)\n",
      "Requirement already satisfied: spacy-legacy<3.1.0,>=3.0.11 in c:\\users\\naikv\\anaconda3\\lib\\site-packages (from spacy<3.6.0,>=3.5.0->en-core-web-md==3.5.0) (3.0.11)\n",
      "Requirement already satisfied: smart-open<7.0.0,>=5.2.1 in c:\\users\\naikv\\anaconda3\\lib\\site-packages (from spacy<3.6.0,>=3.5.0->en-core-web-md==3.5.0) (5.2.1)\n",
      "Requirement already satisfied: pydantic!=1.8,!=1.8.1,<1.11.0,>=1.7.4 in c:\\users\\naikv\\anaconda3\\lib\\site-packages (from spacy<3.6.0,>=3.5.0->en-core-web-md==3.5.0) (1.10.4)\n",
      "Requirement already satisfied: preshed<3.1.0,>=3.0.2 in c:\\users\\naikv\\anaconda3\\lib\\site-packages (from spacy<3.6.0,>=3.5.0->en-core-web-md==3.5.0) (3.0.8)\n",
      "Requirement already satisfied: setuptools in c:\\users\\naikv\\anaconda3\\lib\\site-packages (from spacy<3.6.0,>=3.5.0->en-core-web-md==3.5.0) (63.4.1)\n",
      "Requirement already satisfied: catalogue<2.1.0,>=2.0.6 in c:\\users\\naikv\\anaconda3\\lib\\site-packages (from spacy<3.6.0,>=3.5.0->en-core-web-md==3.5.0) (2.0.8)\n",
      "Requirement already satisfied: srsly<3.0.0,>=2.4.3 in c:\\users\\naikv\\anaconda3\\lib\\site-packages (from spacy<3.6.0,>=3.5.0->en-core-web-md==3.5.0) (2.4.5)\n",
      "Requirement already satisfied: thinc<8.2.0,>=8.1.0 in c:\\users\\naikv\\anaconda3\\lib\\site-packages (from spacy<3.6.0,>=3.5.0->en-core-web-md==3.5.0) (8.1.7)\n",
      "Requirement already satisfied: tqdm<5.0.0,>=4.38.0 in c:\\users\\naikv\\anaconda3\\lib\\site-packages (from spacy<3.6.0,>=3.5.0->en-core-web-md==3.5.0) (4.64.1)\n",
      "Requirement already satisfied: typer<0.8.0,>=0.3.0 in c:\\users\\naikv\\anaconda3\\lib\\site-packages (from spacy<3.6.0,>=3.5.0->en-core-web-md==3.5.0) (0.7.0)\n",
      "Requirement already satisfied: wasabi<1.2.0,>=0.9.1 in c:\\users\\naikv\\anaconda3\\lib\\site-packages (from spacy<3.6.0,>=3.5.0->en-core-web-md==3.5.0) (1.1.1)\n",
      "Requirement already satisfied: numpy>=1.15.0 in c:\\users\\naikv\\anaconda3\\lib\\site-packages (from spacy<3.6.0,>=3.5.0->en-core-web-md==3.5.0) (1.21.5)\n",
      "Requirement already satisfied: jinja2 in c:\\users\\naikv\\anaconda3\\lib\\site-packages (from spacy<3.6.0,>=3.5.0->en-core-web-md==3.5.0) (2.11.3)\n",
      "Requirement already satisfied: murmurhash<1.1.0,>=0.28.0 in c:\\users\\naikv\\anaconda3\\lib\\site-packages (from spacy<3.6.0,>=3.5.0->en-core-web-md==3.5.0) (1.0.9)\n",
      "Requirement already satisfied: requests<3.0.0,>=2.13.0 in c:\\users\\naikv\\anaconda3\\lib\\site-packages (from spacy<3.6.0,>=3.5.0->en-core-web-md==3.5.0) (2.28.1)\n",
      "Requirement already satisfied: packaging>=20.0 in c:\\users\\naikv\\anaconda3\\lib\\site-packages (from spacy<3.6.0,>=3.5.0->en-core-web-md==3.5.0) (21.3)\n",
      "Requirement already satisfied: pathy>=0.10.0 in c:\\users\\naikv\\anaconda3\\lib\\site-packages (from spacy<3.6.0,>=3.5.0->en-core-web-md==3.5.0) (0.10.1)\n",
      "Requirement already satisfied: langcodes<4.0.0,>=3.2.0 in c:\\users\\naikv\\anaconda3\\lib\\site-packages (from spacy<3.6.0,>=3.5.0->en-core-web-md==3.5.0) (3.3.0)\n",
      "Requirement already satisfied: cymem<2.1.0,>=2.0.2 in c:\\users\\naikv\\anaconda3\\lib\\site-packages (from spacy<3.6.0,>=3.5.0->en-core-web-md==3.5.0) (2.0.7)\n",
      "Requirement already satisfied: spacy-loggers<2.0.0,>=1.0.0 in c:\\users\\naikv\\anaconda3\\lib\\site-packages (from spacy<3.6.0,>=3.5.0->en-core-web-md==3.5.0) (1.0.4)\n",
      "Requirement already satisfied: pyparsing!=3.0.5,>=2.0.2 in c:\\users\\naikv\\anaconda3\\lib\\site-packages (from packaging>=20.0->spacy<3.6.0,>=3.5.0->en-core-web-md==3.5.0) (3.0.9)\n",
      "Requirement already satisfied: typing-extensions>=4.2.0 in c:\\users\\naikv\\anaconda3\\lib\\site-packages (from pydantic!=1.8,!=1.8.1,<1.11.0,>=1.7.4->spacy<3.6.0,>=3.5.0->en-core-web-md==3.5.0) (4.3.0)\n",
      "Requirement already satisfied: charset-normalizer<3,>=2 in c:\\users\\naikv\\anaconda3\\lib\\site-packages (from requests<3.0.0,>=2.13.0->spacy<3.6.0,>=3.5.0->en-core-web-md==3.5.0) (2.0.4)\n",
      "Requirement already satisfied: urllib3<1.27,>=1.21.1 in c:\\users\\naikv\\anaconda3\\lib\\site-packages (from requests<3.0.0,>=2.13.0->spacy<3.6.0,>=3.5.0->en-core-web-md==3.5.0) (1.26.11)\n",
      "Requirement already satisfied: certifi>=2017.4.17 in c:\\users\\naikv\\anaconda3\\lib\\site-packages (from requests<3.0.0,>=2.13.0->spacy<3.6.0,>=3.5.0->en-core-web-md==3.5.0) (2022.9.14)\n",
      "Requirement already satisfied: idna<4,>=2.5 in c:\\users\\naikv\\anaconda3\\lib\\site-packages (from requests<3.0.0,>=2.13.0->spacy<3.6.0,>=3.5.0->en-core-web-md==3.5.0) (3.3)\n",
      "Requirement already satisfied: blis<0.8.0,>=0.7.8 in c:\\users\\naikv\\anaconda3\\lib\\site-packages (from thinc<8.2.0,>=8.1.0->spacy<3.6.0,>=3.5.0->en-core-web-md==3.5.0) (0.7.9)\n",
      "Requirement already satisfied: confection<1.0.0,>=0.0.1 in c:\\users\\naikv\\anaconda3\\lib\\site-packages (from thinc<8.2.0,>=8.1.0->spacy<3.6.0,>=3.5.0->en-core-web-md==3.5.0) (0.0.4)\n",
      "Requirement already satisfied: colorama in c:\\users\\naikv\\anaconda3\\lib\\site-packages (from tqdm<5.0.0,>=4.38.0->spacy<3.6.0,>=3.5.0->en-core-web-md==3.5.0) (0.4.6)\n",
      "Requirement already satisfied: click<9.0.0,>=7.1.1 in c:\\users\\naikv\\anaconda3\\lib\\site-packages (from typer<0.8.0,>=0.3.0->spacy<3.6.0,>=3.5.0->en-core-web-md==3.5.0) (8.0.4)\n",
      "Requirement already satisfied: MarkupSafe>=0.23 in c:\\users\\naikv\\anaconda3\\lib\\site-packages (from jinja2->spacy<3.6.0,>=3.5.0->en-core-web-md==3.5.0) (2.0.1)\n",
      "\u001b[38;5;2m[+] Download and installation successful\u001b[0m\n",
      "You can now load the package via spacy.load('en_core_web_md')\n"
     ]
    }
   ],
   "source": [
    "!python -m spacy download en_core_web_md"
   ]
  },
  {
   "cell_type": "code",
   "execution_count": 210,
   "id": "c5479963",
   "metadata": {},
   "outputs": [],
   "source": [
    "nlp = spacy.load('en_core_web_md', disable=['parser', 'ner'])\n",
    "\n",
    "def lemmatization(texts,allowed_postags=['NOUN', 'ADJ']): \n",
    "       output = []\n",
    "       for sent in texts:\n",
    "             doc = nlp(sent) \n",
    "             output.append([token.lemma_ for token in doc if token.pos_ in allowed_postags ])\n",
    "       return output"
   ]
  },
  {
   "cell_type": "code",
   "execution_count": 211,
   "id": "2bccc8e4",
   "metadata": {},
   "outputs": [
    {
     "name": "stdout",
     "output_type": "stream",
     "text": [
      "bbcdocumentarythe hide getting trending\n",
      "['bbcdocumentarythe']\n"
     ]
    }
   ],
   "source": [
    "Report_list=npr['Article'].tolist()\n",
    "print(Report_list[1])\n",
    "tokenized_reports = lemmatization(Report_list)\n",
    "print(tokenized_reports[1])"
   ]
  },
  {
   "cell_type": "code",
   "execution_count": 212,
   "id": "a000c967",
   "metadata": {},
   "outputs": [],
   "source": [
    "dictionary = corpora.Dictionary(tokenized_reports)\n",
    "doc_term_matrix = [dictionary.doc2bow(rev) for rev in tokenized_reports]"
   ]
  },
  {
   "cell_type": "code",
   "execution_count": 213,
   "id": "81126b5b",
   "metadata": {},
   "outputs": [],
   "source": [
    "# Creating the object for LDA model using gensim library\n",
    "LDA = gensim.models.ldamodel.LdaModel\n",
    "\n",
    "# Build LDA model\n",
    "lda_model = LDA(corpus=doc_term_matrix, id2word=dictionary, num_topics=5, random_state=100,\n",
    "                chunksize=1000, passes=50,iterations=100)"
   ]
  },
  {
   "cell_type": "code",
   "execution_count": 214,
   "id": "0662bfa7",
   "metadata": {
    "scrolled": true
   },
   "outputs": [
    {
     "data": {
      "text/plain": [
       "[(0,\n",
       "  '0.061*\"bbcdocumentary\" + 0.019*\"medium\" + 0.014*\"indian\" + 0.011*\"leader\" + 0.010*\"true\" + 0.010*\"movie\" + 0.008*\"documentary\" + 0.008*\"story\" + 0.007*\"britisher\" + 0.007*\"nation\"'),\n",
       " (1,\n",
       "  '0.071*\"bbcdocumentary\" + 0.028*\"file\" + 0.015*\"gujarat\" + 0.012*\"kashmiri\" + 0.012*\"role\" + 0.010*\"world\" + 0.009*\"propaganda\" + 0.009*\"man\" + 0.009*\"last\" + 0.008*\"ban\"'),\n",
       " (2,\n",
       "  '0.063*\"bbcdocumentary\" + 0.032*\"documentary\" + 0.029*\"people\" + 0.028*\"time\" + 0.025*\"truth\" + 0.018*\"reason\" + 0.017*\"present\" + 0.016*\"video\" + 0.014*\"familiar\" + 0.013*\"government\"'),\n",
       " (3,\n",
       "  '0.159*\"bbcdocumentary\" + 0.022*\"question\" + 0.019*\"history\" + 0.016*\"student\" + 0.014*\"propaganda\" + 0.010*\"pm\" + 0.010*\"bjp\" + 0.010*\"minister\" + 0.009*\"hindu\" + 0.009*\"screen\"'),\n",
       " (4,\n",
       "  '0.112*\"bbcdocumentary\" + 0.055*\"riot\" + 0.052*\"documentary\" + 0.043*\"video\" + 0.041*\"thing\" + 0.038*\"communal\" + 0.019*\"bbc\" + 0.011*\"power\" + 0.011*\"link\" + 0.010*\"ban\"')]"
      ]
     },
     "execution_count": 214,
     "metadata": {},
     "output_type": "execute_result"
    }
   ],
   "source": [
    "lda_model.print_topics()"
   ]
  },
  {
   "cell_type": "code",
   "execution_count": 215,
   "id": "b94748d0",
   "metadata": {},
   "outputs": [
    {
     "data": {
      "text/html": [
       "\n",
       "<link rel=\"stylesheet\" type=\"text/css\" href=\"https://cdn.jsdelivr.net/gh/bmabey/pyLDAvis@3.3.1/pyLDAvis/js/ldavis.v1.0.0.css\">\n",
       "\n",
       "\n",
       "<div id=\"ldavis_el607627442489440008985590422\"></div>\n",
       "<script type=\"text/javascript\">\n",
       "\n",
       "var ldavis_el607627442489440008985590422_data = {\"mdsDat\": {\"x\": [0.15390176596437924, 0.12754125089253193, -0.08245806222063622, -0.15723733192092584, -0.041747622715349125], \"y\": [-0.14858562371248157, 0.13251965396266882, -0.08444686834142895, -0.027696964454021405, 0.12820980254526304], \"topics\": [1, 2, 3, 4, 5], \"cluster\": [1, 1, 1, 1, 1], \"Freq\": [24.262391662508858, 21.233868108508595, 20.732953635888794, 18.154370661055676, 15.616415932038075]}, \"tinfo\": {\"Term\": [\"riot\", \"thing\", \"communal\", \"documentary\", \"video\", \"time\", \"file\", \"truth\", \"people\", \"question\", \"history\", \"bbc\", \"bbcdocumentary\", \"reason\", \"present\", \"student\", \"medium\", \"familiar\", \"gujarat\", \"kashmiri\", \"fake\", \"role\", \"emergency\", \"power\", \"leader\", \"true\", \"minister\", \"link\", \"hindu\", \"screen\", \"riot\", \"thing\", \"communal\", \"bbc\", \"emergency\", \"report\", \"dear\", \"money\", \"media\", \"liberal\", \"probe\", \"modidocumentary\", \"atrocity\", \"order\", \"national\", \"western\", \"petition\", \"wonder\", \"archive\", \"agenda\", \"regime\", \"document\", \"daughter\", \"judgement\", \"book\", \"politic\", \"internet\", \"ecosystem\", \"modi\", \"genocide\", \"power\", \"video\", \"documentary\", \"link\", \"boycott\", \"vote\", \"bbcdocumentary\", \"party\", \"ban\", \"fact\", \"censorship\", \"tweet\", \"government\", \"election\", \"british\", \"news\", \"indian\", \"time\", \"truth\", \"reason\", \"present\", \"familiar\", \"fake\", \"incident\", \"value\", \"channel\", \"episode\", \"film\", \"law\", \"attempt\", \"responsible\", \"show\", \"investigation\", \"freedom\", \"danger\", \"clean\", \"issue\", \"powerful\", \"hate\", \"series\", \"jail\", \"democratic\", \"journalism\", \"policy\", \"price\", \"cheap\", \"press\", \"people\", \"part\", \"year\", \"democracy\", \"right\", \"documentary\", \"government\", \"bbcdocumentary\", \"block\", \"video\", \"govt\", \"today\", \"medium\", \"gujaratriot\", \"journalist\", \"fact\", \"question\", \"history\", \"student\", \"minister\", \"hindu\", \"screen\", \"narendramodi\", \"criticism\", \"prime\", \"watch\", \"modiji\", \"university\", \"credibility\", \"great\", \"conspiracy\", \"decision\", \"real\", \"administration\", \"action\", \"element\", \"moment\", \"organised\", \"centre\", \"whole\", \"one\", \"nazi\", \"aware\", \"harsh\", \"attack\", \"toolkit\", \"twitter\", \"bjp\", \"bbcdocumentary\", \"campus\", \"pm\", \"propaganda\", \"good\", \"much\", \"controversial\", \"people\", \"block\", \"day\", \"govt\", \"link\", \"file\", \"kashmiri\", \"man\", \"last\", \"troubled\", \"political\", \"happy\", \"r\", \"free\", \"broadcast\", \"vital\", \"first\", \"entire\", \"wing\", \"w\", \"questionserie\", \"independent\", \"police\", \"peace\", \"leftist\", \"speech\", \"look\", \"citizen\", \"n\", \"silent\", \"politician\", \"talk\", \"million\", \"ranga\", \"thinskinned\", \"role\", \"gujarat\", \"world\", \"many\", \"bbcdocumentary\", \"propaganda\", \"gujaratriot\", \"ban\", \"state\", \"good\", \"leader\", \"true\", \"story\", \"britisher\", \"nation\", \"bhakts\", \"bbcnew\", \"interview\", \"alive\", \"gujaratpogrom\", \"muslm\", \"mob\", \"point\", \"social\", \"pressconference\", \"revelation\", \"kashmirfile\", \"content\", \"trust\", \"word\", \"com\", \"boss\", \"doubt\", \"work\", \"recent\", \"control\", \"mindset\", \"common\", \"friend\", \"release\", \"movie\", \"medium\", \"indian\", \"top\", \"bbcdocumentary\", \"public\", \"country\", \"journalist\", \"foreign\", \"documentary\", \"propaganda\", \"colonial\", \"today\", \"gujaratriot\", \"govt\"], \"Freq\": [135.0, 102.0, 94.0, 208.0, 140.0, 60.0, 51.0, 54.0, 80.0, 47.0, 41.0, 46.0, 970.0, 38.0, 36.0, 35.0, 44.0, 30.0, 37.0, 22.0, 23.0, 27.0, 24.0, 30.0, 17.0, 17.0, 20.0, 36.0, 20.0, 20.0, 134.86153733794725, 101.54858294445532, 94.01044131924215, 45.48827802333648, 24.236990703453742, 15.658604976899642, 11.786471722133617, 10.375621195307078, 9.59534061868334, 9.198309524227954, 8.726157205785608, 8.69296296311236, 8.725539034711653, 8.802022979946749, 7.701582969170379, 8.088085140578924, 7.536580471622158, 7.3317594078848005, 7.215981855799966, 7.02056316837893, 6.710416847551856, 6.43965562975568, 6.224879209657122, 5.942595763397404, 5.825159271177935, 5.788333773814951, 5.785391027888434, 5.709540693707864, 5.680753135859673, 5.409870685623463, 27.449300391496, 104.75744551387243, 127.15385328904698, 27.068719738561818, 11.579611437258684, 7.467413933475232, 275.9030927360784, 13.014778217930417, 25.020152266081716, 14.332482201230595, 10.460202552574717, 10.251877185098982, 16.075670875773124, 8.475777906044799, 11.543295459254528, 8.973894553295459, 8.136877194735204, 59.75543815124375, 53.69639783817785, 37.697973166589314, 35.74735131962025, 30.099591665706864, 23.092315883726414, 19.750444074616855, 18.791350397525772, 14.550879784644913, 11.787856170715942, 11.512294105300864, 10.94982731084087, 10.957805811705096, 10.659896737094849, 10.073419369465741, 10.12919580682091, 9.80053882504116, 9.061122674379913, 9.09319082275377, 9.03454668937853, 8.838680548854985, 8.864328661531548, 8.314364621342667, 8.16143684866174, 8.08237952414047, 8.042800814828873, 8.032834445100471, 7.768823739517733, 7.577194081858047, 7.016370832551619, 62.94446426483596, 21.098403337675972, 19.36312193970046, 19.675777878346913, 12.201592138188607, 67.9123507464986, 27.677176269327166, 134.96863267313267, 15.73532932656788, 35.31688262112924, 15.614950153950037, 10.927667477616298, 12.014695430138318, 11.634673158075113, 10.294473189797008, 10.360127914070887, 47.1384557466466, 40.843299359974615, 34.44563685448422, 20.104455771719582, 19.616694590267542, 19.539219808118, 19.236635005758682, 17.684936464405627, 14.18670845475691, 14.037589632085435, 11.773702064339775, 11.622204424182277, 11.587759459729776, 9.68705692320059, 9.55757458406616, 9.260594760458833, 8.929230566763893, 8.639243528330146, 8.393127787402591, 8.076971801965662, 7.883480312284982, 7.320938354599675, 7.456256810668282, 7.142889632008824, 7.017019010220161, 7.0118973203945645, 6.6496510131695965, 6.547677049700876, 6.301461132605565, 5.821924658858382, 18.283069304169715, 20.700563586902305, 333.3376544264423, 12.661461308333687, 21.5276668943165, 29.38105624046461, 14.378357680279352, 10.545045764794446, 11.276499889907052, 16.996856176610066, 11.261884920027848, 10.935814914632738, 9.654074042133091, 9.154486208915085, 50.66279131288045, 22.100717970539815, 16.115532281620514, 16.015363593006413, 14.271934627837556, 13.14942145398413, 12.523676513502966, 12.434471183025003, 12.286476545398619, 12.230830506881375, 12.230830506881375, 11.815859998958082, 11.18207161119555, 10.321350011051042, 9.233345185763827, 8.909066492830437, 8.78617863851512, 8.632613748909332, 8.175171888169043, 7.481177882453677, 7.367107953533317, 7.239153044068199, 7.269153159814086, 7.062290483562536, 7.020391645505752, 6.718777348550628, 6.354117965818476, 6.251364830902669, 6.006885196419032, 6.006885196419032, 22.01150836117725, 27.301276031584482, 18.568906078537015, 11.548469932631365, 130.43477982706483, 17.44869066571673, 13.38527785232236, 14.363193822926146, 9.313087335048326, 9.420972564159937, 16.624178047877017, 16.58256107820544, 11.88831353844848, 11.460635020424377, 10.786925081137047, 10.274172272402843, 9.72083088234091, 9.720188231643572, 9.395961016939347, 8.437309475507723, 8.242953648347257, 7.709096426277459, 7.630762238413663, 7.37788912690868, 6.978423931480409, 6.358103321488739, 6.115562678698338, 6.111564331318511, 5.8880819992139335, 5.68869501948651, 5.6605181358477425, 5.549608256507903, 5.549534274382952, 5.554956317580249, 5.145069212360961, 4.981090961003859, 4.677068595887063, 4.705691948767452, 4.426379245314098, 4.339993152149638, 15.572810340719185, 30.437306247328078, 21.7459406824567, 7.2533805232482, 96.35467288395927, 7.306786047635889, 9.831357232455877, 9.045686205127911, 6.510591155051175, 13.406238290467979, 9.652829163191697, 6.793637195287517, 6.867802619234906, 7.588431948552258, 7.358858421493361], \"Total\": [135.0, 102.0, 94.0, 208.0, 140.0, 60.0, 51.0, 54.0, 80.0, 47.0, 41.0, 46.0, 970.0, 38.0, 36.0, 35.0, 44.0, 30.0, 37.0, 22.0, 23.0, 27.0, 24.0, 30.0, 17.0, 17.0, 20.0, 36.0, 20.0, 20.0, 135.4920761918918, 102.17779250062783, 94.63896531939258, 46.12146269315938, 24.870016283454255, 16.291869305009644, 12.419710137704124, 11.015460694664345, 10.229558170909973, 9.830507867135331, 9.357955726039721, 9.322910750120446, 9.357890550028225, 9.45310158558394, 8.330791716768795, 8.759904540096045, 8.17150685176249, 7.977186553362784, 7.857120907904521, 7.662489937969053, 7.348835636821087, 7.07101317652372, 6.854123643558581, 6.5747933353781205, 6.454812108512156, 6.419551500914619, 6.419110727634892, 6.35675642977679, 6.332996430878429, 6.043211085230157, 30.73542804119745, 140.54006587302317, 208.7940803265007, 36.696829326589494, 15.450559711680729, 8.86213067978831, 970.9988325466775, 19.39868334280028, 50.27813888966109, 25.1662612435162, 15.966407760290934, 15.678603353054793, 55.113364063765616, 11.7051379133681, 28.038215698355778, 21.759031288571983, 46.05638206807508, 60.38972440485592, 54.32996433862861, 38.32866302754861, 36.37819199544698, 30.73033173014151, 23.726615672703513, 20.380354579966315, 19.422554907173513, 15.19245164740591, 12.421653615471836, 12.145971600599305, 11.583018475160284, 11.60451310575446, 11.29533131601017, 10.709135936028888, 10.77998672374715, 10.433538757011661, 9.69092977504438, 9.728156080391404, 9.669989682004868, 9.475159396396608, 9.51159057936142, 8.950297127238613, 8.793925480783, 8.712749342622162, 8.674869312708992, 8.673816974530501, 8.40198544042709, 8.207692400439209, 7.64753825799211, 80.4204459953055, 27.41131691910037, 26.802608954428198, 30.71819850906207, 16.097955003077058, 208.7940803265007, 55.113364063765616, 970.9988325466775, 27.477296213786044, 140.54006587302317, 43.14007196787797, 18.280504362788918, 44.76655640620391, 37.46894473028465, 19.825479971408146, 25.1662612435162, 47.78107219967866, 41.47927113297595, 35.082552638574555, 20.74323074987407, 20.257856845300488, 20.179389220313922, 19.876581625500943, 18.325451284626517, 14.825703994388377, 14.676976410476867, 12.411033494103295, 12.259638868760467, 12.225968952076649, 10.329739690686134, 10.20046267570428, 9.900947294076596, 9.567165382629229, 9.275667380717115, 9.03439216163624, 8.722404160193777, 8.52389575018394, 7.9574990423901175, 8.108733916844546, 7.785924020459332, 7.657307817006807, 7.657277846287561, 7.2896551467748285, 7.183496656901833, 6.942191324473217, 6.457225781801228, 21.773794313744602, 26.508258103136516, 970.9988325466775, 17.041152728649767, 38.09976864355012, 62.84132870499039, 24.279334653161264, 18.685321734642713, 21.994819806750463, 80.4204459953055, 27.477296213786044, 25.170859563992018, 43.14007196787797, 36.696829326589494, 51.297306008181394, 22.734340105585993, 16.752887978127486, 16.65825515315414, 14.90652241201127, 13.790207963554467, 13.157265149396737, 13.07153218651678, 12.920473622048497, 12.863371686989154, 12.863371686989154, 12.460071015709723, 11.823878538819947, 10.956871708520328, 9.883470981178913, 9.541642802805924, 9.424239807760594, 9.272566632939268, 8.813456189874751, 8.120200449735071, 8.003332963486724, 7.872237816701427, 7.9088825960700735, 7.697914807111771, 7.660735696622087, 7.355258847386991, 6.99016141659133, 6.89555403436971, 6.6394224499378645, 6.6394224499378645, 27.87677374380384, 37.88582258619108, 29.854809439809568, 18.287990994736333, 970.9988325466775, 62.84132870499039, 37.46894473028465, 50.27813888966109, 17.79363280701401, 24.279334653161264, 17.273199395584648, 17.23084723569382, 12.537090712743463, 12.10897421453895, 11.435073741899823, 10.922380737095827, 10.367286436425694, 10.367251102994285, 10.042257156559847, 9.082785017943142, 8.887305238494994, 8.353446979730283, 8.287489195151544, 8.025827650920263, 7.623894847904107, 7.002821113659562, 6.762494520473428, 6.762505688037733, 6.532508719545657, 6.336915770260627, 6.316023452506318, 6.194032950191673, 6.1939827899039415, 6.207494874029095, 5.803580144021987, 5.628744408836256, 5.324775180533472, 5.378639256063721, 5.0736246436833685, 4.9864561540514645, 19.118089264615264, 44.76655640620391, 46.05638206807508, 10.798745732183482, 970.9988325466775, 11.735417452869262, 23.820504049465917, 19.825479971408146, 10.528636767330887, 208.7940803265007, 62.84132870499039, 16.951774026741692, 18.280504362788918, 37.46894473028465, 43.14007196787797], \"Category\": [\"Default\", \"Default\", \"Default\", \"Default\", \"Default\", \"Default\", \"Default\", \"Default\", \"Default\", \"Default\", \"Default\", \"Default\", \"Default\", \"Default\", \"Default\", \"Default\", \"Default\", \"Default\", \"Default\", \"Default\", \"Default\", \"Default\", \"Default\", \"Default\", \"Default\", \"Default\", \"Default\", \"Default\", \"Default\", \"Default\", \"Topic1\", \"Topic1\", \"Topic1\", \"Topic1\", \"Topic1\", \"Topic1\", \"Topic1\", \"Topic1\", \"Topic1\", \"Topic1\", \"Topic1\", \"Topic1\", \"Topic1\", \"Topic1\", \"Topic1\", \"Topic1\", \"Topic1\", \"Topic1\", \"Topic1\", \"Topic1\", \"Topic1\", \"Topic1\", \"Topic1\", \"Topic1\", \"Topic1\", \"Topic1\", \"Topic1\", \"Topic1\", \"Topic1\", \"Topic1\", \"Topic1\", \"Topic1\", \"Topic1\", \"Topic1\", \"Topic1\", \"Topic1\", \"Topic1\", \"Topic1\", \"Topic1\", \"Topic1\", \"Topic1\", \"Topic1\", \"Topic1\", \"Topic1\", \"Topic1\", \"Topic1\", \"Topic1\", \"Topic2\", \"Topic2\", \"Topic2\", \"Topic2\", \"Topic2\", \"Topic2\", \"Topic2\", \"Topic2\", \"Topic2\", \"Topic2\", \"Topic2\", \"Topic2\", \"Topic2\", \"Topic2\", \"Topic2\", \"Topic2\", \"Topic2\", \"Topic2\", \"Topic2\", \"Topic2\", \"Topic2\", \"Topic2\", \"Topic2\", \"Topic2\", \"Topic2\", \"Topic2\", \"Topic2\", \"Topic2\", \"Topic2\", \"Topic2\", \"Topic2\", \"Topic2\", \"Topic2\", \"Topic2\", \"Topic2\", \"Topic2\", \"Topic2\", \"Topic2\", \"Topic2\", \"Topic2\", \"Topic2\", \"Topic2\", \"Topic2\", \"Topic2\", \"Topic2\", \"Topic2\", \"Topic3\", \"Topic3\", \"Topic3\", \"Topic3\", \"Topic3\", \"Topic3\", \"Topic3\", \"Topic3\", \"Topic3\", \"Topic3\", \"Topic3\", \"Topic3\", \"Topic3\", \"Topic3\", \"Topic3\", \"Topic3\", \"Topic3\", \"Topic3\", \"Topic3\", \"Topic3\", \"Topic3\", \"Topic3\", \"Topic3\", \"Topic3\", \"Topic3\", \"Topic3\", \"Topic3\", \"Topic3\", \"Topic3\", \"Topic3\", \"Topic3\", \"Topic3\", \"Topic3\", \"Topic3\", \"Topic3\", \"Topic3\", \"Topic3\", \"Topic3\", \"Topic3\", \"Topic3\", \"Topic3\", \"Topic3\", \"Topic3\", \"Topic3\", \"Topic4\", \"Topic4\", \"Topic4\", \"Topic4\", \"Topic4\", \"Topic4\", \"Topic4\", \"Topic4\", \"Topic4\", \"Topic4\", \"Topic4\", \"Topic4\", \"Topic4\", \"Topic4\", \"Topic4\", \"Topic4\", \"Topic4\", \"Topic4\", \"Topic4\", \"Topic4\", \"Topic4\", \"Topic4\", \"Topic4\", \"Topic4\", \"Topic4\", \"Topic4\", \"Topic4\", \"Topic4\", \"Topic4\", \"Topic4\", \"Topic4\", \"Topic4\", \"Topic4\", \"Topic4\", \"Topic4\", \"Topic4\", \"Topic4\", \"Topic4\", \"Topic4\", \"Topic4\", \"Topic5\", \"Topic5\", \"Topic5\", \"Topic5\", \"Topic5\", \"Topic5\", \"Topic5\", \"Topic5\", \"Topic5\", \"Topic5\", \"Topic5\", \"Topic5\", \"Topic5\", \"Topic5\", \"Topic5\", \"Topic5\", \"Topic5\", \"Topic5\", \"Topic5\", \"Topic5\", \"Topic5\", \"Topic5\", \"Topic5\", \"Topic5\", \"Topic5\", \"Topic5\", \"Topic5\", \"Topic5\", \"Topic5\", \"Topic5\", \"Topic5\", \"Topic5\", \"Topic5\", \"Topic5\", \"Topic5\", \"Topic5\", \"Topic5\", \"Topic5\", \"Topic5\", \"Topic5\", \"Topic5\", \"Topic5\", \"Topic5\", \"Topic5\", \"Topic5\"], \"logprob\": [30.0, 29.0, 28.0, 27.0, 26.0, 25.0, 24.0, 23.0, 22.0, 21.0, 20.0, 19.0, 18.0, 17.0, 16.0, 15.0, 14.0, 13.0, 12.0, 11.0, 10.0, 9.0, 8.0, 7.0, 6.0, 5.0, 4.0, 3.0, 2.0, 1.0, -2.9021, -3.1858, -3.2629, -3.9889, -4.6184, -5.0553, -5.3394, -5.4669, -5.545, -5.5873, -5.64, -5.6438, -5.6401, -5.6313, -5.7649, -5.7159, -5.7866, -5.8141, -5.83, -5.8575, -5.9027, -5.9438, -5.9778, -6.0242, -6.0441, -6.0505, -6.051, -6.0642, -6.0692, -6.1181, -4.494, -3.1547, -2.9609, -4.5079, -5.3571, -5.7958, -2.1863, -5.2402, -4.5866, -5.1438, -5.4587, -5.4789, -5.029, -5.6691, -5.3602, -5.612, -5.7099, -3.5827, -3.6896, -4.0434, -4.0965, -4.2685, -4.5335, -4.6898, -4.7396, -4.9953, -5.2059, -5.2296, -5.2797, -5.2789, -5.3065, -5.3631, -5.3576, -5.3906, -5.469, -5.4655, -5.4719, -5.4939, -5.491, -5.555, -5.5736, -5.5833, -5.5882, -5.5895, -5.6229, -5.6478, -5.7247, -3.5307, -4.6238, -4.7096, -4.6936, -5.1714, -3.4548, -4.3524, -2.768, -4.9171, -4.1086, -4.9248, -5.2817, -5.1869, -5.219, -5.3414, -5.335, -3.796, -3.9394, -4.1097, -4.6482, -4.6727, -4.6767, -4.6923, -4.7764, -4.9968, -5.0074, -5.1833, -5.1962, -5.1992, -5.3783, -5.3918, -5.4234, -5.4598, -5.4928, -5.5217, -5.5601, -5.5844, -5.6584, -5.6401, -5.683, -5.7008, -5.7015, -5.7546, -5.77, -5.8083, -5.8875, -4.7431, -4.619, -1.84, -5.1106, -4.5798, -4.2688, -4.9834, -5.2935, -5.2264, -4.8161, -5.2277, -5.2571, -5.3817, -5.4349, -3.5911, -4.4207, -4.7365, -4.7428, -4.858, -4.9399, -4.9887, -4.9958, -5.0078, -5.0123, -5.0123, -5.0469, -5.102, -5.1821, -5.2935, -5.3292, -5.3431, -5.3608, -5.4152, -5.5039, -5.5193, -5.5368, -5.5327, -5.5615, -5.5675, -5.6114, -5.6672, -5.6835, -5.7234, -5.7234, -4.4247, -4.2094, -4.5948, -5.0698, -2.6454, -4.657, -4.9222, -4.8516, -5.2849, -5.2734, -4.5549, -4.5574, -4.8902, -4.9268, -4.9874, -5.0361, -5.0914, -5.0915, -5.1254, -5.2331, -5.2564, -5.3233, -5.3335, -5.3672, -5.4229, -5.516, -5.5549, -5.5555, -5.5928, -5.6272, -5.6322, -5.652, -5.652, -5.651, -5.7277, -5.7601, -5.823, -5.8169, -5.8781, -5.8978, -4.6202, -3.95, -4.2863, -5.3843, -2.7977, -5.3769, -5.0801, -5.1634, -5.4923, -4.77, -5.0985, -5.4497, -5.4389, -5.3391, -5.3698], \"loglift\": [30.0, 29.0, 28.0, 27.0, 26.0, 25.0, 24.0, 23.0, 22.0, 21.0, 20.0, 19.0, 18.0, 17.0, 16.0, 15.0, 14.0, 13.0, 12.0, 11.0, 10.0, 9.0, 8.0, 7.0, 6.0, 5.0, 4.0, 3.0, 2.0, 1.0, 1.4116, 1.4101, 1.4096, 1.4024, 1.3905, 1.3766, 1.3639, 1.3564, 1.3522, 1.3498, 1.3463, 1.3463, 1.3463, 1.3449, 1.3377, 1.3364, 1.3354, 1.3319, 1.3311, 1.3287, 1.3254, 1.3227, 1.3199, 1.3151, 1.3136, 1.3127, 1.3123, 1.3089, 1.3076, 1.3055, 1.3032, 1.1224, 0.9203, 1.1119, 1.1278, 1.245, 0.158, 1.0171, 0.7184, 0.8533, 0.9933, 0.9914, 0.1842, 1.0934, 0.5288, 0.5305, -0.3172, 1.539, 1.5378, 1.533, 1.5321, 1.5288, 1.5225, 1.5182, 1.5165, 1.5064, 1.4972, 1.496, 1.4934, 1.4922, 1.4917, 1.4884, 1.4873, 1.487, 1.4824, 1.4821, 1.4816, 1.48, 1.4791, 1.4759, 1.4749, 1.4745, 1.4739, 1.4728, 1.4712, 1.4696, 1.4634, 1.3046, 1.2878, 1.2244, 1.1041, 1.2724, 0.4264, 0.8608, -0.4237, 0.9921, 0.1684, 0.5333, 1.035, 0.2342, 0.38, 0.8942, 0.662, 1.5599, 1.558, 1.5551, 1.5422, 1.5413, 1.5412, 1.5407, 1.5379, 1.5294, 1.5289, 1.5207, 1.5201, 1.5198, 1.5092, 1.5083, 1.5066, 1.5044, 1.5024, 1.4998, 1.4966, 1.4953, 1.4901, 1.4896, 1.4872, 1.4861, 1.4854, 1.4816, 1.4808, 1.4766, 1.4699, 1.3987, 1.3262, 0.5043, 1.2764, 1.0026, 0.8132, 1.0495, 1.0014, 0.9054, 0.0192, 0.6815, 0.7398, 0.0764, 0.185, 1.6938, 1.678, 1.6675, 1.6669, 1.6628, 1.6587, 1.6569, 1.6563, 1.6559, 1.6558, 1.6558, 1.6532, 1.6504, 1.6465, 1.6382, 1.6377, 1.6362, 1.6347, 1.6311, 1.6243, 1.6234, 1.6224, 1.6219, 1.6201, 1.619, 1.6157, 1.6109, 1.6082, 1.6061, 1.6061, 1.47, 1.3786, 1.2314, 1.2466, -0.3012, 0.4249, 0.6769, 0.4534, 1.0588, 0.7596, 1.8185, 1.8185, 1.8037, 1.8018, 1.7985, 1.7957, 1.7925, 1.7924, 1.7903, 1.7831, 1.7816, 1.7766, 1.7743, 1.7727, 1.7684, 1.7603, 1.7563, 1.7556, 1.753, 1.7489, 1.7473, 1.747, 1.747, 1.7458, 1.7364, 1.7346, 1.7271, 1.7232, 1.7204, 1.718, 1.6517, 1.4711, 1.1064, 1.4589, -0.4534, 1.383, 0.9719, 1.0722, 1.3762, -0.8888, -0.0165, 0.9425, 0.8779, 0.26, 0.0883]}, \"token.table\": {\"Topic\": [3, 3, 1, 5, 1, 1, 3, 2, 3, 1, 2, 3, 4, 1, 1, 2, 3, 4, 5, 5, 5, 3, 4, 2, 3, 1, 5, 1, 3, 1, 2, 4, 5, 5, 4, 3, 4, 1, 2, 3, 3, 2, 2, 4, 2, 2, 4, 5, 5, 5, 1, 3, 5, 5, 1, 2, 3, 4, 2, 3, 4, 5, 3, 3, 2, 1, 1, 3, 4, 5, 1, 3, 2, 3, 4, 2, 1, 1, 2, 5, 5, 1, 1, 3, 3, 1, 4, 2, 1, 2, 2, 2, 4, 2, 4, 1, 5, 4, 2, 5, 1, 3, 4, 1, 2, 3, 5, 1, 2, 3, 4, 5, 3, 2, 4, 5, 2, 3, 4, 5, 4, 3, 2, 3, 3, 2, 4, 1, 2, 3, 5, 1, 5, 2, 2, 2, 2, 2, 5, 1, 5, 4, 4, 2, 5, 4, 1, 1, 3, 4, 4, 1, 4, 5, 1, 1, 2, 5, 4, 5, 3, 5, 1, 1, 3, 3, 1, 3, 5, 1, 3, 5, 4, 3, 5, 1, 3, 1, 2, 4, 5, 3, 1, 3, 2, 4, 1, 3, 4, 2, 3, 1, 1, 2, 3, 4, 5, 4, 2, 1, 4, 4, 1, 4, 2, 2, 2, 5, 2, 3, 1, 1, 3, 4, 5, 4, 5, 3, 4, 4, 4, 3, 2, 5, 1, 5, 1, 2, 5, 2, 3, 1, 1, 4, 3, 2, 2, 4, 5, 4, 1, 4, 5, 5, 3, 4, 1, 4, 2, 2, 5, 3, 1, 5, 4, 5, 5, 2, 1, 2, 3, 4, 3, 2, 1, 2, 4, 1, 5, 4, 3, 1, 3, 4, 1, 5, 5, 1, 4, 5, 2, 4], \"Freq\": [0.8855050629716189, 0.9702805879725495, 0.9135411669924298, 0.896212859289406, 0.8909115797057127, 0.961755210951132, 0.8642804151548341, 0.9479070685477796, 0.9602649040396677, 0.49723399775923, 0.1392255193725844, 0.07955743964147681, 0.2784510387451688, 0.9756845809375054, 0.28424339015539674, 0.1390320930107919, 0.34294582942662, 0.13388275623261442, 0.09886726614100756, 0.9645725582409661, 0.9155513107171651, 0.7922059577922713, 0.18862046614101696, 0.5822989232824298, 0.4003305097566705, 0.9295390631258837, 0.968674214077975, 0.7766708924420336, 0.1941677231105084, 0.4279872916700511, 0.17832803819585463, 0.17832803819585463, 0.21399364583502556, 0.9084171627678064, 0.9328813853787321, 0.7628591919221674, 0.23472590520682077, 0.6263149576368945, 0.2505259830547578, 0.1252629915273789, 0.8632667037524396, 0.9873324166584547, 0.9746953966710431, 0.8850807829007732, 0.9251496301689572, 0.35394525614457256, 0.2359635040963817, 0.412936132168668, 0.949964806989291, 0.9296031509016236, 0.9932483906894357, 0.9803476879355927, 0.8872450947602842, 0.8882975734607482, 0.1818610034155567, 0.13639575256166753, 0.5001177593927809, 0.1818610034155567, 0.2518838387105636, 0.08396127957018787, 0.2518838387105636, 0.4198063978509393, 0.9815172970778511, 0.9822404763969146, 0.9287034586894202, 0.8753854339407379, 0.15891392146663794, 0.43701328403325435, 0.19864240183329743, 0.19864240183329743, 0.9662061245350683, 0.9090039298951119, 0.6510798474754262, 0.19532395424262788, 0.16276996186885656, 0.9181946691458869, 0.8485346937155256, 0.6082547924797694, 0.32567973140649076, 0.06226230159241734, 0.9686820586230673, 0.9438775995717493, 0.6834605503334934, 0.25629770637506, 0.9171783206870193, 0.965017462250997, 0.9303207880464093, 0.9660549530260091, 0.5563003524652252, 0.39735739461801806, 0.9693755029066596, 0.9762341735665296, 0.9942042568837051, 0.9879818918239441, 0.9630763729091381, 0.37991623116978696, 0.6648534045471272, 0.9287585231800071, 0.9584475826363026, 0.7883909987271083, 0.8273747068375942, 0.5766220615183598, 0.3706856109760885, 0.2903107126882721, 0.5080437472044762, 0.10886651725810204, 0.10886651725810204, 0.16226213079134844, 0.370884870380225, 0.23180304398764062, 0.09272121759505625, 0.16226213079134844, 0.9680786059900962, 0.26395098000709316, 0.7126676460191514, 0.8807871136656776, 0.3202652246114869, 0.13344384358811953, 0.34695399332911075, 0.21351014974099125, 0.988047276724225, 0.9744558025616213, 0.9462139822889889, 0.9872712672781916, 0.9884455266477685, 0.9813371951663589, 0.9549841879648219, 0.17370013971517234, 0.21712517464396544, 0.13027510478637927, 0.47767538421672395, 0.9347089113402298, 0.9645758456754062, 0.9276449272401307, 0.9307145401352734, 0.9097188755444957, 0.9222040945654034, 0.5044014074020791, 0.4539612666618712, 0.9125762125046226, 0.8872465599543218, 0.9676990797984253, 0.9604847478260948, 0.949666101594281, 0.9841836252029555, 0.8620476850701858, 0.9155172979504114, 0.7357583882713419, 0.2452527960904473, 0.889200779116337, 0.9550592125303736, 0.21872276736965168, 0.656168302108955, 0.16404207552723876, 0.977559326896173, 0.044676208325079764, 0.2680572499504786, 0.6701431248761964, 0.8701258767742266, 0.939006780657933, 0.9641699618137555, 0.9576884870894704, 0.9474188191146289, 0.9653637411345728, 0.9668816062499078, 0.9385379918363462, 0.9078149591005111, 0.15691944725629842, 0.8369037187002583, 0.4281435510509806, 0.5886973826950983, 0.900160373174574, 0.909337161478197, 0.9558987736414233, 0.9619526946900528, 0.9602928835559585, 0.914162988534336, 0.41362135476715234, 0.4595792830746137, 0.04595792830746137, 0.09191585661492274, 0.9141594104984349, 0.952068473877936, 0.8796733700765206, 0.7661069353937926, 0.21888769582679787, 0.6701485750487742, 0.3092993423302035, 0.9077029292084889, 0.7833828726052774, 0.21138902911570978, 0.9790116003236907, 0.07874063562083776, 0.23622190686251326, 0.5774313278861435, 0.10498751416111701, 0.9653104591291974, 0.970605049957687, 0.9223159796305278, 0.9346447332255463, 0.942697893632723, 0.951700021065445, 0.8784650717670005, 0.0976072301963334, 0.9498520946700579, 0.9896038814822266, 0.9153272286914818, 0.9181658639906842, 0.9521558989506347, 0.9443059166228523, 0.961748512547066, 0.09547856679108577, 0.46147973949024784, 0.27052260590807636, 0.1591309446518096, 0.340848548086546, 0.5964849591514555, 0.9836531043837916, 0.9432338000908352, 0.9180255098463468, 0.9036930614433416, 0.9407175103652947, 0.9914251371796511, 0.8615371677343475, 0.952531849389411, 0.8021729012396961, 0.9820849713715849, 0.9738536827519558, 0.8567975538167784, 0.7454362990644618, 0.18635907476611546, 0.9963682290085001, 0.17936078421238927, 0.7891874505345128, 0.9911102750258993, 0.8938250748853291, 0.9337821519621268, 0.9137503599147232, 0.8721841913958072, 0.8746356089314055, 0.33719927038366676, 0.5057989055755001, 0.11239975679455558, 0.9571598606846219, 0.9691427060702462, 0.8583492772797555, 0.9982599692528419, 0.9036930614433416, 0.9935465112865364, 0.6017339446274345, 0.38292160112654916, 0.9291916068523027, 0.2778100414994591, 0.6482234301654045, 0.9391861906516291, 0.9866026764362685, 0.9184832745875472, 0.993926660128617, 0.6378119131415884, 0.3189059565707942, 0.8266818240602919, 0.13778030401004865, 0.978821654410876, 0.9782441131358343, 0.747117907962749, 0.24903930265424964, 0.9328813853787321, 0.7898777678786395, 0.11283968112551993, 0.9106112637087409, 0.953874940482045, 0.9132519610667227, 0.899058349607043, 0.9126692605357201, 0.8775023566484288, 0.9468328470070906, 0.9665734924893435, 0.16747720363382407, 0.6364133738085315, 0.20097264436058887, 0.7088862144840161, 0.2611686053362165], \"Term\": [\"action\", \"administration\", \"agenda\", \"alive\", \"archive\", \"atrocity\", \"attack\", \"attempt\", \"aware\", \"ban\", \"ban\", \"ban\", \"ban\", \"bbc\", \"bbcdocumentary\", \"bbcdocumentary\", \"bbcdocumentary\", \"bbcdocumentary\", \"bbcdocumentary\", \"bbcnew\", \"bhakts\", \"bjp\", \"bjp\", \"block\", \"block\", \"book\", \"boss\", \"boycott\", \"boycott\", \"british\", \"british\", \"british\", \"british\", \"britisher\", \"broadcast\", \"campus\", \"campus\", \"censorship\", \"censorship\", \"censorship\", \"centre\", \"channel\", \"cheap\", \"citizen\", \"clean\", \"colonial\", \"colonial\", \"colonial\", \"com\", \"common\", \"communal\", \"conspiracy\", \"content\", \"control\", \"controversial\", \"controversial\", \"controversial\", \"controversial\", \"country\", \"country\", \"country\", \"country\", \"credibility\", \"criticism\", \"danger\", \"daughter\", \"day\", \"day\", \"day\", \"day\", \"dear\", \"decision\", \"democracy\", \"democracy\", \"democracy\", \"democratic\", \"document\", \"documentary\", \"documentary\", \"documentary\", \"doubt\", \"ecosystem\", \"election\", \"election\", \"element\", \"emergency\", \"entire\", \"episode\", \"fact\", \"fact\", \"fake\", \"familiar\", \"file\", \"film\", \"first\", \"foreign\", \"foreign\", \"free\", \"freedom\", \"friend\", \"genocide\", \"good\", \"good\", \"government\", \"government\", \"government\", \"government\", \"govt\", \"govt\", \"govt\", \"govt\", \"govt\", \"great\", \"gujarat\", \"gujarat\", \"gujaratpogrom\", \"gujaratriot\", \"gujaratriot\", \"gujaratriot\", \"gujaratriot\", \"happy\", \"harsh\", \"hate\", \"hindu\", \"history\", \"incident\", \"independent\", \"indian\", \"indian\", \"indian\", \"indian\", \"internet\", \"interview\", \"investigation\", \"issue\", \"jail\", \"journalism\", \"journalist\", \"journalist\", \"judgement\", \"kashmirfile\", \"kashmiri\", \"last\", \"law\", \"leader\", \"leftist\", \"liberal\", \"link\", \"link\", \"look\", \"man\", \"many\", \"many\", \"many\", \"media\", \"medium\", \"medium\", \"medium\", \"million\", \"mindset\", \"minister\", \"mob\", \"modi\", \"modidocumentary\", \"modiji\", \"moment\", \"money\", \"movie\", \"movie\", \"much\", \"much\", \"muslm\", \"n\", \"narendramodi\", \"nation\", \"national\", \"nazi\", \"news\", \"news\", \"news\", \"news\", \"one\", \"order\", \"organised\", \"part\", \"part\", \"party\", \"party\", \"peace\", \"people\", \"people\", \"petition\", \"pm\", \"pm\", \"pm\", \"pm\", \"point\", \"police\", \"policy\", \"politic\", \"political\", \"politician\", \"power\", \"power\", \"powerful\", \"present\", \"press\", \"pressconference\", \"price\", \"prime\", \"probe\", \"propaganda\", \"propaganda\", \"propaganda\", \"propaganda\", \"public\", \"public\", \"question\", \"questionserie\", \"r\", \"ranga\", \"real\", \"reason\", \"recent\", \"regime\", \"release\", \"report\", \"responsible\", \"revelation\", \"right\", \"right\", \"riot\", \"role\", \"role\", \"screen\", \"series\", \"show\", \"silent\", \"social\", \"speech\", \"state\", \"state\", \"state\", \"story\", \"student\", \"talk\", \"thing\", \"thinskinned\", \"time\", \"today\", \"today\", \"toolkit\", \"top\", \"top\", \"troubled\", \"true\", \"trust\", \"truth\", \"tweet\", \"tweet\", \"twitter\", \"twitter\", \"university\", \"value\", \"video\", \"video\", \"vital\", \"vote\", \"vote\", \"w\", \"watch\", \"western\", \"whole\", \"wing\", \"wonder\", \"word\", \"work\", \"world\", \"world\", \"world\", \"year\", \"year\"]}, \"R\": 30, \"lambda.step\": 0.01, \"plot.opts\": {\"xlab\": \"PC1\", \"ylab\": \"PC2\"}, \"topic.order\": [5, 3, 4, 2, 1]};\n",
       "\n",
       "function LDAvis_load_lib(url, callback){\n",
       "  var s = document.createElement('script');\n",
       "  s.src = url;\n",
       "  s.async = true;\n",
       "  s.onreadystatechange = s.onload = callback;\n",
       "  s.onerror = function(){console.warn(\"failed to load library \" + url);};\n",
       "  document.getElementsByTagName(\"head\")[0].appendChild(s);\n",
       "}\n",
       "\n",
       "if(typeof(LDAvis) !== \"undefined\"){\n",
       "   // already loaded: just create the visualization\n",
       "   !function(LDAvis){\n",
       "       new LDAvis(\"#\" + \"ldavis_el607627442489440008985590422\", ldavis_el607627442489440008985590422_data);\n",
       "   }(LDAvis);\n",
       "}else if(typeof define === \"function\" && define.amd){\n",
       "   // require.js is available: use it to load d3/LDAvis\n",
       "   require.config({paths: {d3: \"https://d3js.org/d3.v5\"}});\n",
       "   require([\"d3\"], function(d3){\n",
       "      window.d3 = d3;\n",
       "      LDAvis_load_lib(\"https://cdn.jsdelivr.net/gh/bmabey/pyLDAvis@3.3.1/pyLDAvis/js/ldavis.v3.0.0.js\", function(){\n",
       "        new LDAvis(\"#\" + \"ldavis_el607627442489440008985590422\", ldavis_el607627442489440008985590422_data);\n",
       "      });\n",
       "    });\n",
       "}else{\n",
       "    // require.js not available: dynamically load d3 & LDAvis\n",
       "    LDAvis_load_lib(\"https://d3js.org/d3.v5.js\", function(){\n",
       "         LDAvis_load_lib(\"https://cdn.jsdelivr.net/gh/bmabey/pyLDAvis@3.3.1/pyLDAvis/js/ldavis.v3.0.0.js\", function(){\n",
       "                 new LDAvis(\"#\" + \"ldavis_el607627442489440008985590422\", ldavis_el607627442489440008985590422_data);\n",
       "            })\n",
       "         });\n",
       "}\n",
       "</script>"
      ],
      "text/plain": [
       "PreparedData(topic_coordinates=              x         y  topics  cluster       Freq\n",
       "topic                                                \n",
       "4      0.153902 -0.148586       1        1  24.262392\n",
       "2      0.127541  0.132520       2        1  21.233868\n",
       "3     -0.082458 -0.084447       3        1  20.732954\n",
       "1     -0.157237 -0.027697       4        1  18.154371\n",
       "0     -0.041748  0.128210       5        1  15.616416, topic_info=            Term        Freq       Total Category  logprob  loglift\n",
       "136         riot  135.000000  135.000000  Default  30.0000  30.0000\n",
       "762        thing  102.000000  102.000000  Default  29.0000  29.0000\n",
       "842     communal   94.000000   94.000000  Default  28.0000  28.0000\n",
       "9    documentary  208.000000  208.000000  Default  27.0000  27.0000\n",
       "273        video  140.000000  140.000000  Default  26.0000  26.0000\n",
       "..           ...         ...         ...      ...      ...      ...\n",
       "264   propaganda    9.652829   62.841329   Topic5  -5.0985  -0.0165\n",
       "141     colonial    6.793637   16.951774   Topic5  -5.4497   0.9425\n",
       "526        today    6.867803   18.280504   Topic5  -5.4389   0.8779\n",
       "129  gujaratriot    7.588432   37.468945   Topic5  -5.3391   0.2600\n",
       "3           govt    7.358858   43.140072   Topic5  -5.3698   0.0883\n",
       "\n",
       "[252 rows x 6 columns], token_table=      Topic      Freq            Term\n",
       "term                                 \n",
       "346       3  0.885505          action\n",
       "1932      3  0.970281  administration\n",
       "332       1  0.913541          agenda\n",
       "155       5  0.896213           alive\n",
       "81        1  0.890912         archive\n",
       "...     ...       ...             ...\n",
       "120       1  0.167477           world\n",
       "120       4  0.636413           world\n",
       "120       5  0.200973           world\n",
       "38        2  0.708886            year\n",
       "38        4  0.261169            year\n",
       "\n",
       "[282 rows x 3 columns], R=30, lambda_step=0.01, plot_opts={'xlab': 'PC1', 'ylab': 'PC2'}, topic_order=[5, 3, 4, 2, 1])"
      ]
     },
     "execution_count": 215,
     "metadata": {},
     "output_type": "execute_result"
    }
   ],
   "source": [
    "pyLDAvis.enable_notebook()\n",
    "vis = gensimvis.prepare(lda_model, doc_term_matrix, dictionary)\n",
    "vis"
   ]
  },
  {
   "cell_type": "code",
   "execution_count": 216,
   "id": "85519e7a",
   "metadata": {
    "scrolled": true
   },
   "outputs": [
    {
     "name": "stdout",
     "output_type": "stream",
     "text": [
      "\n",
      "Perplexity:  -6.578974904595284\n",
      "\n",
      "Coherence Score:  0.5291759329527691\n"
     ]
    }
   ],
   "source": [
    "print('\\nPerplexity: ', lda_model.log_perplexity(doc_term_matrix,total_docs=10000))  # a measure of how good the model is. lower the better.\n",
    "\n",
    "# Compute Coherence Score\n",
    "from gensim.models.coherencemodel import CoherenceModel\n",
    "coherence_model_lda = CoherenceModel(model=lda_model, texts=tokenized_reports, dictionary=dictionary , coherence='c_v')\n",
    "coherence_lda = coherence_model_lda.get_coherence()\n",
    "print('\\nCoherence Score: ', coherence_lda)"
   ]
  },
  {
   "cell_type": "code",
   "execution_count": 217,
   "id": "476629c7",
   "metadata": {},
   "outputs": [],
   "source": [
    "def compute_coherence_values(dictionary, corpus, texts, limit, start=2, step=3):\n",
    "    \"\"\"\n",
    "    Compute c_v coherence for various number of topics\n",
    "\n",
    "    Parameters:\n",
    "    ----------\n",
    "    dictionary : Gensim dictionary\n",
    "    corpus : Gensim corpus\n",
    "    texts : List of input texts\n",
    "    limit : Max num of topics\n",
    "\n",
    "    Returns:\n",
    "    -------\n",
    "    model_list : List of LDA topic models\n",
    "    coherence_values : Coherence values corresponding to the LDA model with respective number of topics\n",
    "    \"\"\"\n",
    "    coherence_values = []\n",
    "    model_list = []\n",
    "    for num_topics in range(start, limit, step):\n",
    "        model = gensim.models.ldamodel.LdaModel(corpus=corpus, num_topics=num_topics, id2word=dictionary)\n",
    "        model_list.append(model)\n",
    "        coherencemodel = CoherenceModel(model=model, texts=texts, dictionary=dictionary, coherence='c_v')\n",
    "        coherence_values.append(coherencemodel.get_coherence())\n",
    "\n",
    "    return model_list, coherence_values"
   ]
  },
  {
   "cell_type": "code",
   "execution_count": 219,
   "id": "4d873808",
   "metadata": {},
   "outputs": [],
   "source": [
    "model_list, coherence_values = compute_coherence_values(dictionary=dictionary, corpus=doc_term_matrix, texts=tokenized_reports, start=2, limit=10, step=1)\n"
   ]
  },
  {
   "cell_type": "markdown",
   "id": "485360d1",
   "metadata": {},
   "source": [
    "# Optimal number of topics"
   ]
  },
  {
   "cell_type": "code",
   "execution_count": 220,
   "id": "67de6c0e",
   "metadata": {},
   "outputs": [
    {
     "data": {
      "image/png": "[encoded data removed]",
      "text/plain": [
       "<Figure size 640x480 with 1 Axes>"
      ]
     },
     "metadata": {},
     "output_type": "display_data"
    }
   ],
   "source": [
    "# Show graph\n",
    "limit=10; start=2; step=1;\n",
    "x = range(start, limit, step)\n",
    "plt.plot(x, coherence_values)\n",
    "plt.xlabel(\"Num Topics\")\n",
    "plt.ylabel(\"Coherence score\")\n",
    "plt.legend((\"coherence_values\"), loc='best')\n",
    "plt.show()# Print the coherence scores"
   ]
  },
  {
   "cell_type": "code",
   "execution_count": 221,
   "id": "9c0a9157",
   "metadata": {
    "scrolled": true
   },
   "outputs": [
    {
     "name": "stdout",
     "output_type": "stream",
     "text": [
      "Num Topics = 2  has Coherence Value of 0.4893\n",
      "Num Topics = 3  has Coherence Value of 0.4816\n",
      "Num Topics = 4  has Coherence Value of 0.5076\n",
      "Num Topics = 5  has Coherence Value of 0.5525\n",
      "Num Topics = 6  has Coherence Value of 0.5686\n",
      "Num Topics = 7  has Coherence Value of 0.5661\n",
      "Num Topics = 8  has Coherence Value of 0.5753\n",
      "Num Topics = 9  has Coherence Value of 0.5682\n"
     ]
    }
   ],
   "source": [
    "# Print the coherence scores\n",
    "for m, cv in zip(x, coherence_values):\n",
    "    print(\"Num Topics =\", m, \" has Coherence Value of\", round(cv, 4))"
   ]
  },
  {
   "cell_type": "markdown",
   "id": "9e17be71",
   "metadata": {},
   "source": [
    "Number of topics = 8 has more coherence value, hence topics = 8 is optimal"
   ]
  },
  {
   "cell_type": "code",
   "execution_count": 223,
   "id": "3a62e83b",
   "metadata": {
    "scrolled": true
   },
   "outputs": [
    {
     "data": {
      "text/plain": [
       "[(0,\n",
       "  '0.100*\"bbcdocumentary\" + 0.066*\"documentary\" + 0.025*\"government\" + 0.018*\"bbc\" + 0.018*\"emergency\" + 0.017*\"power\" + 0.014*\"good\" + 0.011*\"bjp\" + 0.011*\"boycott\" + 0.009*\"bhakts\"'),\n",
       " (1,\n",
       "  '0.178*\"bbcdocumentary\" + 0.034*\"riot\" + 0.029*\"documentary\" + 0.022*\"video\" + 0.019*\"communal\" + 0.017*\"thing\" + 0.012*\"tweet\" + 0.009*\"link\" + 0.008*\"ban\" + 0.007*\"gujarat\"'),\n",
       " (2,\n",
       "  '0.083*\"bbcdocumentary\" + 0.017*\"country\" + 0.015*\"administration\" + 0.014*\"british\" + 0.014*\"pm\" + 0.010*\"student\" + 0.009*\"interview\" + 0.009*\"former\" + 0.009*\"archive\" + 0.009*\"reporting\"'),\n",
       " (3,\n",
       "  '0.105*\"bbcdocumentary\" + 0.029*\"medium\" + 0.029*\"propaganda\" + 0.024*\"question\" + 0.019*\"gujaratriot\" + 0.013*\"criticism\" + 0.011*\"last\" + 0.011*\"documentary\" + 0.009*\"moment\" + 0.009*\"fake\"'),\n",
       " (4,\n",
       "  '0.095*\"bbcdocumentary\" + 0.031*\"people\" + 0.021*\"truth\" + 0.019*\"man\" + 0.014*\"time\" + 0.014*\"powerful\" + 0.013*\"jail\" + 0.013*\"much\" + 0.010*\"reason\" + 0.009*\"video\"'),\n",
       " (5,\n",
       "  '0.030*\"file\" + 0.028*\"britisher\" + 0.024*\"twitter\" + 0.022*\"role\" + 0.017*\"gujarat\" + 0.014*\"documentary\" + 0.012*\"year\" + 0.010*\"kashmiri\" + 0.009*\"truth\" + 0.008*\"responsible\"'),\n",
       " (6,\n",
       "  '0.099*\"bbcdocumentary\" + 0.031*\"documentary\" + 0.024*\"indian\" + 0.016*\"riot\" + 0.016*\"thing\" + 0.015*\"video\" + 0.012*\"entire\" + 0.011*\"communal\" + 0.011*\"narendramodi\" + 0.010*\"bjp\"'),\n",
       " (7,\n",
       "  '0.074*\"bbcdocumentary\" + 0.021*\"govt\" + 0.018*\"block\" + 0.018*\"democracy\" + 0.015*\"day\" + 0.014*\"indian\" + 0.013*\"people\" + 0.013*\"channel\" + 0.011*\"policy\" + 0.011*\"documentary\"')]"
      ]
     },
     "execution_count": 223,
     "metadata": {},
     "output_type": "execute_result"
    }
   ],
   "source": [
    "# Select the model and print the topics\n",
    "optimal_model = model_list[6]\n",
    "model_topics = optimal_model.show_topics(formatted=False)\n",
    "optimal_model.print_topics(num_words=10)"
   ]
  },
  {
   "cell_type": "code",
   "execution_count": 224,
   "id": "397fa303",
   "metadata": {
    "scrolled": true
   },
   "outputs": [
    {
     "data": {
      "text/html": [
       "\n",
       "<link rel=\"stylesheet\" type=\"text/css\" href=\"https://cdn.jsdelivr.net/gh/bmabey/pyLDAvis@3.3.1/pyLDAvis/js/ldavis.v1.0.0.css\">\n",
       "\n",
       "\n",
       "<div id=\"ldavis_el607627425512009286255691979\"></div>\n",
       "<script type=\"text/javascript\">\n",
       "\n",
       "var ldavis_el607627425512009286255691979_data = {\"mdsDat\": {\"x\": [0.036689820805206066, 0.08235432952819027, 0.00017038638434870856, 0.008653061120016861, 0.04741037531793796, -0.0032973429066627956, 0.045612686382117684, -0.21759331663115467], \"y\": [-0.016752419300660307, 0.1494749468404235, -0.1178279968527603, -0.08818744954551609, -0.005823802117795971, 0.005028558541931677, 0.020902564384642705, 0.05318559804973447], \"topics\": [1, 2, 3, 4, 5, 6, 7, 8], \"cluster\": [1, 1, 1, 1, 1, 1, 1, 1], \"Freq\": [19.645883562453207, 14.768918545023094, 13.532322896904567, 12.569632600717426, 11.325018322670825, 10.043123706061493, 9.768143313249835, 8.346957052919555]}, \"tinfo\": {\"Term\": [\"documentary\", \"bbcdocumentary\", \"file\", \"britisher\", \"riot\", \"propaganda\", \"indian\", \"twitter\", \"communal\", \"thing\", \"medium\", \"people\", \"man\", \"role\", \"gujaratriot\", \"video\", \"emergency\", \"block\", \"question\", \"government\", \"gujarat\", \"truth\", \"powerful\", \"administration\", \"jail\", \"country\", \"criticism\", \"democracy\", \"tweet\", \"bjp\", \"colony\", \"document\", \"russian\", \"unrest\", \"shameless\", \"event\", \"ecosystem\", \"screening\", \"cotton\", \"third\", \"librandu\", \"relationsh\", \"necessary\", \"excerpt\", \"varsity\", \"justice\", \"honble\", \"dangerous\", \"growth\", \"moral\", \"tweet\", \"frightened\", \"popular\", \"churchill\", \"modiquestion\", \"image\", \"possible\", \"censor\", \"broadcaster\", \"aid\", \"nazi\", \"riot\", \"communal\", \"conspiracy\", \"thing\", \"video\", \"bbcdocumentary\", \"campus\", \"troubled\", \"link\", \"screen\", \"documentary\", \"freedom\", \"order\", \"gujarat\", \"one\", \"dear\", \"university\", \"ban\", \"time\", \"part\", \"propaganda\", \"bbc\", \"student\", \"block\", \"food\", \"bbcnew\", \"various\", \"bbcdocumentaryrow\", \"boycott\", \"attempt\", \"guilt\", \"relation\", \"bhakts\", \"recent\", \"defence\", \"unacceptable\", \"hell\", \"emergency\", \"shipment\", \"grain\", \"onwinston\", \"wi\", \"jnu\", \"blow\", \"ayub\", \"technology\", \"programme\", \"hot\", \"past\", \"documentry\", \"broadcasting\", \"indias\", \"bharath\", \"space\", \"good\", \"politician\", \"decision\", \"rule\", \"power\", \"case\", \"petition\", \"government\", \"bbc\", \"social\", \"documentary\", \"report\", \"controversial\", \"bjp\", \"law\", \"liberal\", \"bbcdocumentary\", \"news\", \"probe\", \"leader\", \"ban\", \"first\", \"true\", \"indian\", \"time\", \"moment\", \"harsh\", \"b\", \"journalism\", \"agenda\", \"expression\", \"rrr\", \"acceptable\", \"other\", \"handle\", \"investigative\", \"famine\", \"strong\", \"doll\", \"fuck\", \"hatred\", \"ramesh\", \"name\", \"affair\", \"harmony\", \"noise\", \"advertisement\", \"antiindia\", \"access\", \"anchor\", \"brilliant\", \"desig\", \"validation\", \"fire\", \"relationship\", \"control\", \"last\", \"medium\", \"gujaratriot\", \"criticism\", \"question\", \"propaganda\", \"narrative\", \"right\", \"fake\", \"way\", \"bbcdocumentary\", \"political\", \"minister\", \"international\", \"link\", \"movie\", \"british\", \"ban\", \"documentary\", \"government\", \"people\", \"democracy\", \"twitter\", \"year\", \"powerful\", \"jail\", \"general\", \"man\", \"dog\", \"afraid\", \"bbcquitindia\", \"project\", \"innocent\", \"domain\", \"address\", \"hop\", \"hip\", \"perspective\", \"dumb\", \"shah\", \"notice\", \"award\", \"regret\", \"trillion\", \"colonialism\", \"army\", \"gut\", \"life\", \"tonight\", \"clean\", \"chit\", \"national\", \"sikh\", \"available\", \"much\", \"people\", \"truth\", \"public\", \"reason\", \"independent\", \"million\", \"time\", \"woman\", \"house\", \"history\", \"bbcdocumentary\", \"series\", \"present\", \"critical\", \"fact\", \"video\", \"channel\", \"democracy\", \"entire\", \"long\", \"common\", \"agency\", \"king\", \"butcher\", \"sense\", \"lesson\", \"remove\", \"trust\", \"force\", \"book\", \"intellectual\", \"behaviour\", \"mouthpiece\", \"anger\", \"yr\", \"game\", \"org\", \"superpower\", \"fan\", \"fish\", \"irony\", \"h\", \"bankrupt\", \"hero\", \"salute\", \"judge\", \"economic\", \"mask\", \"member\", \"vote\", \"look\", \"indian\", \"old\", \"narendramodi\", \"today\", \"thing\", \"bjp\", \"bbcdocumentary\", \"gentleman\", \"documentary\", \"video\", \"riot\", \"communal\", \"journalist\", \"fact\", \"world\", \"true\", \"propaganda\", \"people\", \"truth\", \"leader\", \"party\", \"british\", \"administration\", \"former\", \"reporting\", \"play\", \"straight\", \"archive\", \"union\", \"special\", \"judiciary\", \"team\", \"gloss\", \"facta\", \"accumulation\", \"itbbcdocumentary\", \"research\", \"reality\", \"lot\", \"peddler\", \"sign\", \"fresh\", \"course\", \"muslimsbbcdocumentary\", \"coward\", \"factual\", \"use\", \"massacre\", \"gujaratpogrom\", \"theory\", \"school\", \"problem\", \"job\", \"country\", \"release\", \"interview\", \"pm\", \"critical\", \"british\", \"bbcdocumentary\", \"student\", \"atrocity\", \"party\", \"prime\", \"world\", \"many\", \"minister\", \"part\", \"woman\", \"criticism\", \"indian\", \"question\", \"day\", \"bbc\", \"govt\", \"able\", \"policy\", \"judgement\", \"war\", \"night\", \"talk\", \"brutal\", \"economy\", \"wonder\", \"glorify\", \"civil\", \"beneficiary\", \"smart\", \"chance\", \"fo\", \"senior\", \"islamic\", \"permission\", \"panic\", \"indiabbcdocumentary\", \"pressure\", \"insightful\", \"tension\", \"claim\", \"docum\", \"trouble\", \"segment\", \"bag\", \"type\", \"mass\", \"guy\", \"block\", \"minority\", \"channel\", \"day\", \"democracy\", \"govt\", \"money\", \"r\", \"bbcdocumentary\", \"indian\", \"western\", \"hindu\", \"statement\", \"people\", \"one\", \"new\", \"movie\", \"w\", \"ban\", \"government\", \"documentary\", \"britisher\", \"whatsapp\", \"change\", \"slave\", \"button\", \"elon\", \"musk\", \"toelectricityshutdownklrahulathiyashettywedding\", \"invader\", \"glad\", \"unive\", \"company\", \"nationa\", \"aspersion\", \"account\", \"u\", \"coz\", \"matter\", \"small\", \"huge\", \"credit\", \"legal\", \"centerist\", \"cute\", \"renegade\", \"sobo\", \"manmohansingh\", \"diverse\", \"motherland\", \"tall\", \"murderer\", \"broadcast\", \"vital\", \"kashmiri\", \"file\", \"role\", \"twitter\", \"terrorist\", \"gujarat\", \"responsible\", \"year\", \"modidocumentaryrow\", \"press\", \"many\", \"journalist\", \"truth\", \"documentary\", \"gujaratriot\", \"new\", \"colonial\", \"bbcdocumentary\", \"happy\", \"today\"], \"Freq\": [238.0, 1044.0, 37.0, 24.0, 99.0, 71.0, 59.0, 34.0, 53.0, 58.0, 56.0, 84.0, 26.0, 27.0, 38.0, 82.0, 32.0, 30.0, 55.0, 71.0, 34.0, 56.0, 18.0, 15.0, 17.0, 26.0, 26.0, 39.0, 28.0, 31.0, 11.809151234168858, 12.253647120229273, 8.073715318798808, 8.068895045393962, 8.065018452795941, 12.25364341588852, 8.910188799893922, 8.493982964164198, 4.317310982596377, 4.317361454239137, 4.3171845719681805, 4.317142435092116, 4.317071589575214, 4.316218202074241, 4.314168312510047, 4.314123860421011, 4.312417085419065, 4.31110899009066, 4.311297448426469, 4.309563353911469, 24.370930048658956, 4.301060965798136, 4.301867585997103, 4.302020853095758, 5.1512418968071465, 6.399559815437914, 7.942226039430173, 5.5654348863802054, 4.315883422278688, 2.6378325730947134, 11.830698458243894, 67.15904588799263, 37.187195220710066, 12.144287572519085, 33.826357985731995, 44.29837741650384, 353.98232751344653, 11.411217985288518, 12.672120012499834, 18.471004305304735, 10.775010426152692, 56.871424835564575, 8.909552579369592, 9.035485347608722, 14.704444518927945, 8.072229878156852, 8.91083983778126, 8.195625172980174, 16.31738393917507, 12.686240033365097, 9.489146698777256, 12.666214367254357, 11.411660654008502, 9.284061429498312, 8.70581661620993, 8.786210433473299, 12.832806342164444, 6.313847354445256, 8.794325925663491, 15.937540101566217, 12.52113440472863, 6.0033060303162005, 6.3139162773007795, 14.191508352131859, 6.48110015051385, 3.518672594433725, 3.518215545396849, 3.5181253887323014, 26.598441066211553, 3.2088984721913967, 3.2088915102867985, 3.2088901179058786, 3.208768980765869, 3.2087554050519023, 3.2086036355316603, 3.2086631598159756, 3.208465441725385, 3.208056777925467, 3.207679094601011, 3.2074597946061663, 3.2072067293740196, 3.207033029854293, 3.2062386765396313, 3.206704776052485, 3.2050753422812623, 21.228712910526422, 6.62279997194499, 9.10837187256731, 9.281316025644982, 25.39811960109271, 4.756975426278836, 8.792183051428147, 37.32951802920735, 27.040703017720606, 6.4818826685906945, 98.34776302159277, 11.92184808738675, 10.964260387990828, 16.248536734256, 7.419179200844526, 6.621623410067884, 148.82806542358549, 10.799408056627716, 7.374788704745101, 9.108638513513425, 14.06180667708536, 6.933147755126215, 7.398620696565865, 8.43179797132785, 7.019268603578068, 12.031373138288785, 9.696140779736337, 7.618221451560541, 9.793959357547381, 7.87771226813594, 5.0212831731593655, 5.019062966696348, 5.019462929188034, 5.017840752766412, 5.017790677717613, 5.015314673871556, 7.615274997415253, 5.018452816579447, 3.4895560044925564, 5.0209683701455745, 5.0205393832625465, 7.407829698757134, 5.279041137886814, 2.9429310307082757, 2.942797071979003, 2.9427603928031307, 2.9423180100471753, 2.941930486580351, 2.941727953739665, 2.6838832347875434, 2.6838714336613934, 2.6838634599275077, 2.683789782626408, 2.683732690691789, 2.683672728212972, 5.27950648499636, 15.149932355756786, 39.320540925347295, 26.60656641037922, 18.26748624485653, 32.982471192031404, 39.20062617409208, 8.06523790375121, 10.16969828358819, 11.985903718181373, 8.852364087388422, 143.6824795844186, 6.138242858961124, 10.260033033723866, 7.225652205933398, 11.02724019221694, 7.837342848221551, 9.19586106098943, 10.035274526155321, 14.424346812347444, 9.907067091659414, 10.254491607622954, 8.358224143733176, 7.954840601261463, 7.874090917154602, 17.276083702977726, 16.901214987718042, 10.334273757128367, 24.32994483308232, 7.056390591823094, 7.056179062698356, 7.051868490198452, 7.048665927399555, 4.863163304871476, 3.771920693982402, 3.7719686879854937, 3.7715367419576684, 3.7714766013241645, 3.771353357464373, 3.771281662719014, 3.7708458653205703, 3.7706571481602653, 3.770075591196876, 3.7689853570525704, 3.7681030969216622, 3.7664541177784, 3.761822400220771, 7.0556659416282645, 3.771833890013847, 3.7711151650045847, 9.949405698706018, 4.49975626857236, 7.325892324665539, 3.7699757518200743, 4.135642061375839, 16.567885378393516, 39.62740169378457, 26.934571085609818, 10.703810990414972, 12.269940633969748, 10.334248871348985, 7.05451645562829, 17.743535812794107, 10.704814716850002, 7.052230519036589, 10.302972186815662, 120.92349076099892, 7.418326404545953, 8.127535565787873, 7.05405310611696, 7.782251302063613, 11.77866098291472, 7.058289021278722, 7.086673030218295, 14.006162232652034, 8.040789795659135, 8.037353944664222, 8.035652568480133, 8.03280982352241, 5.488524258522777, 5.487670634262233, 5.486403277167465, 5.486654719960908, 8.042967364989194, 5.366761884637775, 6.055879564109845, 3.2168403179579212, 3.2144358628800638, 3.1937147879201393, 2.933829976187327, 2.9335916126899333, 2.9336329859733556, 2.933427988027108, 2.933175477536028, 2.933504328408133, 2.9334947191294023, 2.9330420153314396, 2.9320570642615804, 2.932205207308673, 2.931632387526581, 2.931701787872967, 2.9319273389987206, 2.931293660451337, 2.9311762137112995, 3.7833283861395763, 7.6084053514207355, 8.043190513795263, 27.218495543205158, 5.903005014940105, 12.93387136071489, 9.2648405404333, 18.20837669565798, 11.943749431200853, 112.93586272924874, 3.216948956192456, 35.62950362205442, 17.751586818839797, 18.840673642299933, 13.138766807988942, 7.293339523503376, 8.178748608844119, 8.536060563001767, 6.203076097247593, 10.369449552135839, 10.392777677800185, 8.546513856713917, 6.536344568324301, 6.4212296799254185, 6.268702132487607, 15.05003311963574, 9.329306293040625, 9.011155530943732, 6.145256397402257, 6.14404349093985, 9.328591426234132, 6.466280355955177, 3.6038123463740015, 3.602138327150321, 3.2866612142518834, 3.2866299684179574, 3.2865752882085864, 3.286478473465588, 3.28609476515654, 3.2861359528467156, 3.285699694726065, 3.28604552929702, 3.2857508242724895, 3.2857697611415357, 3.2849881418716556, 3.284843748245178, 3.2848361734975597, 3.2850200978381707, 3.130283863620789, 3.920555152257312, 3.602849169872141, 7.417731621923764, 3.2828887532270254, 3.285312435754071, 3.2777099929646276, 8.002027769499534, 17.451103131352948, 3.920681082436469, 9.64673177305305, 13.753395397054788, 8.281227285655383, 13.878830377086185, 84.23973783262709, 10.42767973092556, 6.463198853939641, 7.742191201943384, 6.465799832903131, 7.73499187775376, 6.785815403179344, 6.785691840108817, 6.458612344256661, 6.147437451294648, 6.46673294712538, 7.345368164237677, 6.36966018928614, 5.548519673706611, 5.952884792931676, 5.503407790843126, 7.860542035727679, 10.654761960582325, 7.8705220339564015, 5.373047967664511, 5.372497718615728, 7.87486969213097, 5.372098960727656, 5.369598665886742, 9.203361526107505, 3.1491178986846626, 2.87251437852355, 2.8723771616059457, 2.872300725336408, 2.8722413260667063, 2.8720516167712264, 2.8720154707040053, 2.871943869258745, 2.871527844141109, 2.871008906335269, 2.870043322858032, 2.869914394210619, 2.8690706022592423, 2.6804894324441166, 5.651730001805713, 3.148260292949635, 3.1489429240917444, 2.87080239026968, 2.869145657150415, 3.1492933337370363, 4.583992213088063, 8.43163332128399, 18.156669624231995, 8.152557133849266, 12.532402345244288, 14.646356047750619, 17.629515379876416, 20.295109639638895, 6.437538135845703, 7.6274657478523045, 72.79889033311613, 13.78115273171443, 5.3731078273936665, 7.472275716338933, 3.425709677129672, 12.857558552183539, 5.365960575732403, 6.172714549923096, 6.2492977060273125, 5.092960150807046, 8.147446954817138, 8.641173684574014, 10.468107353127122, 23.41121863377086, 6.823495879568457, 6.8232810469637055, 6.820785683631604, 3.839818430334623, 3.839818430334623, 3.839818430334623, 3.839818430334623, 3.646797236960915, 3.6447527860190037, 3.644882236434687, 3.64450136104751, 3.6434051639104497, 3.6424171700083825, 4.350744662782013, 3.643315060125673, 3.643019960393873, 3.9987681956073007, 3.644776000531239, 3.6438946359989286, 3.997299779341863, 4.349703550928222, 2.024434917303012, 2.024434917303012, 2.024434917303012, 2.024434917303012, 2.0186106322630493, 2.001346314286967, 2.001346314286967, 2.001346314286967, 3.6468940296729455, 5.043804482364921, 5.043911898667297, 8.561078512375653, 25.144450316132396, 18.350026875208275, 19.95961570460863, 4.333136651984961, 14.598624652650381, 7.069786902661494, 10.349934526849975, 6.819878350322895, 4.334994993362684, 6.819835855961516, 5.81455697893725, 7.874094206071047, 11.539659392508144, 6.724931782214583, 4.846057758619321, 4.572998042121536, 6.677977086755776, 3.9894721605892864, 3.9787486298019776], \"Total\": [238.0, 1044.0, 37.0, 24.0, 99.0, 71.0, 59.0, 34.0, 53.0, 58.0, 56.0, 84.0, 26.0, 27.0, 38.0, 82.0, 32.0, 30.0, 55.0, 71.0, 34.0, 56.0, 18.0, 15.0, 17.0, 26.0, 26.0, 39.0, 28.0, 31.0, 12.548751884621057, 13.33556790914175, 8.803294521483272, 8.799987587879485, 8.797124937150986, 13.552249881282815, 9.898673135727712, 9.850088866058176, 5.04562539307034, 5.0457249448210435, 5.045528795052634, 5.045530899708322, 5.045559976232489, 5.045014799426142, 5.043808946765584, 5.04387554769262, 5.0426992883414306, 5.041209291486287, 5.041518390395668, 5.040705237174749, 28.5072511145323, 5.035192201559504, 5.036442096673356, 5.037835188380194, 6.138878366202577, 7.739832767814783, 9.726031039841843, 6.889324645579084, 5.354376412709383, 3.3689846599569693, 15.666476838947885, 99.12891457917505, 53.19859071672879, 16.31723574605791, 58.869687032052774, 82.94999851364966, 1044.0688312641973, 18.259369420813027, 22.784781855273803, 41.71861505783668, 19.46307920985996, 238.95556346644514, 15.486876567128487, 15.951138539254263, 34.74326086049801, 14.079670125541387, 16.76040539769247, 14.717547994240503, 57.55449409546885, 46.41044526121646, 24.81684820437918, 71.66714880283014, 50.18044586076304, 28.87080220121302, 30.250616322334366, 9.556627810125491, 14.36694686656958, 7.078464474598891, 9.977950101261339, 18.44513587360406, 14.75054440961696, 7.08524725425712, 7.49507326705125, 17.118572405541567, 7.853932144344765, 4.283188814337909, 4.28295592982897, 4.282999892291691, 32.81070234743669, 3.9732727062759388, 3.9732660115111513, 3.9732706319186586, 3.973156313104044, 3.9731438458231496, 3.9730072236910625, 3.973116075922875, 3.9731110101120524, 3.972746034598554, 3.97250678177423, 3.9723811240050884, 3.9721459025333683, 3.9721892541538786, 3.9717101127083945, 3.97233239663157, 3.9710492198810337, 27.239297280903827, 8.34616424223696, 11.91727000791057, 12.538699357470561, 38.2577003249592, 6.215485311314779, 12.740072885164011, 71.00196746524485, 50.18044586076304, 9.163593477603877, 238.95556346644514, 19.783123993029754, 17.86723275324859, 31.561573292543706, 11.977256431460555, 11.342879401585352, 1044.0688312641973, 24.922444571175486, 13.989303754016614, 23.365765789119017, 57.55449409546885, 13.478658126722038, 19.191689926291133, 59.727715228189965, 46.41044526121646, 12.814880121150248, 10.477972893508626, 8.40010559081566, 11.13375696063253, 8.97687984118547, 5.8027340590107706, 5.8019316909715855, 5.802427274973894, 5.8013396415044225, 5.8016329466317575, 5.800554101358722, 8.815689869785686, 6.079252799056829, 4.272866197725174, 6.154899571269534, 6.154702569458527, 9.22774996099825, 6.64885123222558, 3.7244911364776128, 3.7244749690868666, 3.7245045546544904, 3.724233518588223, 3.724150327186455, 3.724102163085748, 3.465292899983788, 3.465312961436801, 3.46530439572646, 3.4652213878916074, 3.46516554722875, 3.4652123305511697, 6.83069409195349, 20.20766391020758, 56.78894917203597, 38.492643457251475, 26.830311106366477, 55.24546781378865, 71.66714880283014, 12.247709736937049, 16.94833778339756, 20.829103810686185, 15.039798110199058, 1044.0688312641973, 10.836869864963502, 26.96556964967986, 14.622120711397056, 41.71861505783668, 23.01973329632063, 41.54947832543523, 57.55449409546885, 238.95556346644514, 71.00196746524485, 84.03235266377676, 39.8086956915512, 34.30847352265069, 33.39638754088425, 18.023771457506417, 17.65211317429527, 11.083908331306956, 26.703408420495634, 7.802801159857032, 7.80259973674493, 7.800430588426913, 8.069176772778649, 5.609860265960141, 4.517977010674764, 4.51806696764526, 4.517810941796347, 4.517764204533734, 4.517692930715021, 4.517747194668801, 4.517288855589942, 4.517295215936275, 4.516826926741128, 4.5163129892743425, 4.515414400411554, 4.514825775506877, 4.517096689225321, 8.496266080449368, 4.776983608090842, 4.834660295537904, 12.912121466043377, 5.846327075309197, 9.586463429029267, 4.933511978692445, 5.476256611691313, 25.28932984636454, 84.03235266377676, 56.62809708964332, 18.98628378292929, 23.03034411202609, 19.018673331325083, 11.189229379724694, 46.41044526121646, 21.727422407325612, 11.974585804936178, 21.688785608411713, 1044.0688312641973, 13.429682912621725, 20.9108259045249, 17.49124334970878, 27.032174998010962, 82.94999851364966, 24.01538703926019, 39.8086956915512, 15.298573724872535, 8.816223746107973, 8.814526675023032, 8.81295744560175, 8.812301402464003, 6.262138833368826, 6.26173648730365, 6.261115163517072, 6.261697216020504, 9.393850497935235, 6.2724552178287585, 7.246091703871735, 3.9904762249393935, 3.989288586279012, 3.9886244169366143, 3.7071287093071636, 3.7068984124669386, 3.706955400781889, 3.7067456188034265, 3.7065022963501013, 3.706975946275579, 3.7069764868218424, 3.7066565072036837, 3.706110378156089, 3.706574693595692, 3.7059114971254665, 3.7061178874069753, 3.7064323808569473, 3.7056780881956772, 3.7059539617752297, 4.866541223606667, 10.542806732295293, 12.344992187594265, 59.727715228189965, 8.933989456609938, 25.512025582129823, 19.991100030966262, 58.869687032052774, 31.561573292543706, 1044.0688312641973, 4.300146440612115, 238.95556346644514, 82.94999851364966, 99.12891457917505, 53.19859071672879, 20.59583762835482, 27.032174998010962, 33.019506323939964, 19.191689926291133, 71.66714880283014, 84.03235266377676, 56.62809708964332, 23.365765789119017, 22.451326578162643, 41.54947832543523, 15.814331035859349, 10.091528559427719, 10.12563046833949, 6.909015445069308, 6.90847577083104, 10.633378076884455, 7.592573322567434, 4.365825335961798, 4.3650836171375715, 4.048487299723164, 4.048459558387102, 4.048423465562021, 4.048351089996361, 4.04817712022953, 4.048242956298433, 4.047730045931343, 4.048208356828921, 4.047939159370103, 4.047970507091209, 4.047480641941386, 4.0473630389659325, 4.047367508202583, 4.047623377676744, 3.893514903363497, 4.959930919330531, 4.675050500394374, 9.68898496912969, 4.305535825126172, 4.3248972024063, 4.3269322410753, 10.955531379922618, 26.94770726658784, 5.269657625095897, 15.06147555117088, 35.14768878395032, 17.49124334970878, 41.54947832543523, 1044.0688312641973, 28.87080220121302, 13.542822054401313, 22.451326578162643, 16.530522268933094, 33.019506323939964, 26.6647967571609, 26.96556964967986, 24.81684820437918, 21.727422407325612, 26.830311106366477, 59.727715228189965, 55.24546781378865, 30.887988647923343, 50.18044586076304, 48.342929417657864, 8.644137020449874, 11.848092276413247, 9.001768079711082, 6.149289456428195, 6.149077815773136, 9.373335645970474, 6.466054277509126, 6.564869042422517, 11.461291194829087, 3.924960572121903, 3.647823100523805, 3.6478378326515917, 3.6477733350781123, 3.6477647243170495, 3.6475672024768575, 3.647568049713517, 3.647593668439598, 3.6473465164330983, 3.647030805708825, 3.6465345478469327, 3.6465520243869105, 3.646734374076824, 3.457610577255465, 7.578014658584157, 4.24164280383571, 4.288885689958457, 3.930094875598466, 3.95633420945868, 4.525376544509283, 6.708658844225635, 13.083180408358178, 30.250616322334366, 14.008698640140777, 24.01538703926019, 30.887988647923343, 39.8086956915512, 48.342929417657864, 11.397171440747464, 17.240499102174514, 1044.0688312641973, 59.727715228189965, 11.343383945748593, 24.532627116362143, 5.185410437184036, 84.03235266377676, 14.079670125541387, 19.308633880298466, 23.01973329632063, 14.050015929851368, 57.55449409546885, 71.00196746524485, 238.95556346644514, 24.16345578779577, 7.573978447140492, 7.573855763207199, 7.5723879577985205, 4.5910469970221195, 4.5910469970221195, 4.5910469970221195, 4.5910469970221195, 4.397136377999632, 4.3959109525433036, 4.3961047768416295, 4.395740172838199, 4.395112177791142, 4.394519342120983, 5.517790361994125, 4.654214141187547, 4.654520900005943, 5.113238549535453, 4.679001294757496, 4.812187739567032, 5.448107178488066, 5.933571039331112, 2.774963984514166, 2.774963984514166, 2.774963984514166, 2.774963984514166, 2.7691324772935717, 2.751923034798204, 2.751923034798204, 2.751923034798204, 5.038439570838394, 7.006153329833618, 7.0063595101242155, 12.204467817445126, 37.351685897733496, 27.740802453431684, 34.30847352265069, 6.414498272710415, 34.74326086049801, 14.01086055361564, 33.39638754088425, 19.149925206991878, 7.257146922424091, 26.6647967571609, 20.59583762835482, 56.62809708964332, 238.95556346644514, 38.492643457251475, 19.308633880298466, 21.13726982804456, 1044.0688312641973, 7.3483163967123515, 19.991100030966262], \"Category\": [\"Default\", \"Default\", \"Default\", \"Default\", \"Default\", \"Default\", \"Default\", \"Default\", \"Default\", \"Default\", \"Default\", \"Default\", \"Default\", \"Default\", \"Default\", \"Default\", \"Default\", \"Default\", \"Default\", \"Default\", \"Default\", \"Default\", \"Default\", \"Default\", \"Default\", \"Default\", \"Default\", \"Default\", \"Default\", \"Default\", \"Topic1\", \"Topic1\", \"Topic1\", \"Topic1\", \"Topic1\", \"Topic1\", \"Topic1\", \"Topic1\", \"Topic1\", \"Topic1\", \"Topic1\", \"Topic1\", \"Topic1\", \"Topic1\", \"Topic1\", \"Topic1\", \"Topic1\", \"Topic1\", \"Topic1\", \"Topic1\", \"Topic1\", \"Topic1\", \"Topic1\", \"Topic1\", \"Topic1\", \"Topic1\", \"Topic1\", \"Topic1\", \"Topic1\", \"Topic1\", \"Topic1\", \"Topic1\", \"Topic1\", \"Topic1\", \"Topic1\", \"Topic1\", \"Topic1\", \"Topic1\", \"Topic1\", \"Topic1\", \"Topic1\", \"Topic1\", \"Topic1\", \"Topic1\", \"Topic1\", \"Topic1\", \"Topic1\", \"Topic1\", \"Topic1\", \"Topic1\", \"Topic1\", \"Topic1\", \"Topic1\", \"Topic1\", \"Topic1\", \"Topic2\", \"Topic2\", \"Topic2\", \"Topic2\", \"Topic2\", \"Topic2\", \"Topic2\", \"Topic2\", \"Topic2\", \"Topic2\", \"Topic2\", \"Topic2\", \"Topic2\", \"Topic2\", \"Topic2\", \"Topic2\", \"Topic2\", \"Topic2\", \"Topic2\", \"Topic2\", \"Topic2\", \"Topic2\", \"Topic2\", \"Topic2\", \"Topic2\", \"Topic2\", \"Topic2\", \"Topic2\", \"Topic2\", \"Topic2\", \"Topic2\", \"Topic2\", \"Topic2\", \"Topic2\", \"Topic2\", \"Topic2\", \"Topic2\", \"Topic2\", \"Topic2\", \"Topic2\", \"Topic2\", \"Topic2\", \"Topic2\", \"Topic2\", \"Topic2\", \"Topic2\", \"Topic2\", \"Topic2\", \"Topic2\", \"Topic2\", \"Topic2\", \"Topic2\", \"Topic2\", \"Topic2\", \"Topic2\", \"Topic3\", \"Topic3\", \"Topic3\", \"Topic3\", \"Topic3\", \"Topic3\", \"Topic3\", \"Topic3\", \"Topic3\", \"Topic3\", \"Topic3\", \"Topic3\", \"Topic3\", \"Topic3\", \"Topic3\", \"Topic3\", \"Topic3\", \"Topic3\", \"Topic3\", \"Topic3\", \"Topic3\", \"Topic3\", \"Topic3\", \"Topic3\", \"Topic3\", \"Topic3\", \"Topic3\", \"Topic3\", \"Topic3\", \"Topic3\", \"Topic3\", \"Topic3\", \"Topic3\", \"Topic3\", \"Topic3\", \"Topic3\", \"Topic3\", \"Topic3\", \"Topic3\", \"Topic3\", \"Topic3\", \"Topic3\", \"Topic3\", \"Topic3\", \"Topic3\", \"Topic3\", \"Topic3\", \"Topic3\", \"Topic3\", \"Topic3\", \"Topic3\", \"Topic3\", \"Topic3\", \"Topic3\", \"Topic3\", \"Topic4\", \"Topic4\", \"Topic4\", \"Topic4\", \"Topic4\", \"Topic4\", \"Topic4\", \"Topic4\", \"Topic4\", \"Topic4\", \"Topic4\", \"Topic4\", \"Topic4\", \"Topic4\", \"Topic4\", \"Topic4\", \"Topic4\", \"Topic4\", \"Topic4\", \"Topic4\", \"Topic4\", \"Topic4\", \"Topic4\", \"Topic4\", \"Topic4\", \"Topic4\", \"Topic4\", \"Topic4\", \"Topic4\", \"Topic4\", \"Topic4\", \"Topic4\", \"Topic4\", \"Topic4\", \"Topic4\", \"Topic4\", \"Topic4\", \"Topic4\", \"Topic4\", \"Topic4\", \"Topic4\", \"Topic4\", \"Topic4\", \"Topic4\", \"Topic4\", \"Topic4\", \"Topic4\", \"Topic4\", \"Topic4\", \"Topic5\", \"Topic5\", \"Topic5\", \"Topic5\", \"Topic5\", \"Topic5\", \"Topic5\", \"Topic5\", \"Topic5\", \"Topic5\", \"Topic5\", \"Topic5\", \"Topic5\", \"Topic5\", \"Topic5\", \"Topic5\", \"Topic5\", \"Topic5\", \"Topic5\", \"Topic5\", \"Topic5\", \"Topic5\", \"Topic5\", \"Topic5\", \"Topic5\", \"Topic5\", \"Topic5\", \"Topic5\", \"Topic5\", \"Topic5\", \"Topic5\", \"Topic5\", \"Topic5\", \"Topic5\", \"Topic5\", \"Topic5\", \"Topic5\", \"Topic5\", \"Topic5\", \"Topic5\", \"Topic5\", \"Topic5\", \"Topic5\", \"Topic5\", \"Topic5\", \"Topic5\", \"Topic5\", \"Topic5\", \"Topic5\", \"Topic5\", \"Topic5\", \"Topic5\", \"Topic5\", \"Topic5\", \"Topic5\", \"Topic6\", \"Topic6\", \"Topic6\", \"Topic6\", \"Topic6\", \"Topic6\", \"Topic6\", \"Topic6\", \"Topic6\", \"Topic6\", \"Topic6\", \"Topic6\", \"Topic6\", \"Topic6\", \"Topic6\", \"Topic6\", \"Topic6\", \"Topic6\", \"Topic6\", \"Topic6\", \"Topic6\", \"Topic6\", \"Topic6\", \"Topic6\", \"Topic6\", \"Topic6\", \"Topic6\", \"Topic6\", \"Topic6\", \"Topic6\", \"Topic6\", \"Topic6\", \"Topic6\", \"Topic6\", \"Topic6\", \"Topic6\", \"Topic6\", \"Topic6\", \"Topic6\", \"Topic6\", \"Topic6\", \"Topic6\", \"Topic6\", \"Topic6\", \"Topic6\", \"Topic6\", \"Topic6\", \"Topic6\", \"Topic6\", \"Topic6\", \"Topic6\", \"Topic6\", \"Topic6\", \"Topic7\", \"Topic7\", \"Topic7\", \"Topic7\", \"Topic7\", \"Topic7\", \"Topic7\", \"Topic7\", \"Topic7\", \"Topic7\", \"Topic7\", \"Topic7\", \"Topic7\", \"Topic7\", \"Topic7\", \"Topic7\", \"Topic7\", \"Topic7\", \"Topic7\", \"Topic7\", \"Topic7\", \"Topic7\", \"Topic7\", \"Topic7\", \"Topic7\", \"Topic7\", \"Topic7\", \"Topic7\", \"Topic7\", \"Topic7\", \"Topic7\", \"Topic7\", \"Topic7\", \"Topic7\", \"Topic7\", \"Topic7\", \"Topic7\", \"Topic7\", \"Topic7\", \"Topic7\", \"Topic7\", \"Topic7\", \"Topic7\", \"Topic7\", \"Topic7\", \"Topic7\", \"Topic7\", \"Topic7\", \"Topic7\", \"Topic7\", \"Topic7\", \"Topic7\", \"Topic8\", \"Topic8\", \"Topic8\", \"Topic8\", \"Topic8\", \"Topic8\", \"Topic8\", \"Topic8\", \"Topic8\", \"Topic8\", \"Topic8\", \"Topic8\", \"Topic8\", \"Topic8\", \"Topic8\", \"Topic8\", \"Topic8\", \"Topic8\", \"Topic8\", \"Topic8\", \"Topic8\", \"Topic8\", \"Topic8\", \"Topic8\", \"Topic8\", \"Topic8\", \"Topic8\", \"Topic8\", \"Topic8\", \"Topic8\", \"Topic8\", \"Topic8\", \"Topic8\", \"Topic8\", \"Topic8\", \"Topic8\", \"Topic8\", \"Topic8\", \"Topic8\", \"Topic8\", \"Topic8\", \"Topic8\", \"Topic8\", \"Topic8\", \"Topic8\", \"Topic8\", \"Topic8\", \"Topic8\", \"Topic8\", \"Topic8\", \"Topic8\", \"Topic8\", \"Topic8\"], \"logprob\": [30.0, 29.0, 28.0, 27.0, 26.0, 25.0, 24.0, 23.0, 22.0, 21.0, 20.0, 19.0, 18.0, 17.0, 16.0, 15.0, 14.0, 13.0, 12.0, 11.0, 10.0, 9.0, 8.0, 7.0, 6.0, 5.0, 4.0, 3.0, 2.0, 1.0, -5.1264, -5.0894, -5.5066, -5.5072, -5.5077, -5.0894, -5.4081, -5.4559, -6.1326, -6.1326, -6.1327, -6.1327, -6.1327, -6.1329, -6.1334, -6.1334, -6.1338, -6.1341, -6.134, -6.1344, -4.4019, -6.1364, -6.1362, -6.1362, -5.956, -5.739, -5.5231, -5.8787, -6.133, -6.6253, -5.1246, -3.3882, -3.9793, -5.0984, -4.074, -3.8043, -1.726, -5.1607, -5.0559, -4.6791, -5.218, -3.5545, -5.4081, -5.3941, -4.9071, -5.5068, -5.408, -5.4917, -4.803, -5.0547, -5.3451, -5.0563, -5.1606, -5.367, -5.4313, -5.1367, -4.7579, -5.4672, -5.1358, -4.5412, -4.7825, -5.5176, -5.4672, -4.6573, -5.441, -6.0518, -6.052, -6.052, -4.0291, -6.144, -6.144, -6.144, -6.144, -6.144, -6.1441, -6.1441, -6.1441, -6.1443, -6.1444, -6.1444, -6.1445, -6.1446, -6.1448, -6.1447, -6.1452, -4.2546, -5.4194, -5.1007, -5.0819, -4.0752, -5.7503, -5.1361, -3.6901, -4.0126, -5.4409, -2.7214, -4.8315, -4.9153, -4.5219, -5.3059, -5.4196, -2.3071, -4.9304, -5.3119, -5.1007, -4.6665, -5.3736, -5.3086, -5.1779, -5.3613, -4.735, -4.9507, -5.1919, -4.9407, -5.1584, -5.6088, -5.6092, -5.6092, -5.6095, -5.6095, -5.61, -5.1923, -5.6094, -5.9727, -5.6089, -5.6089, -5.2199, -5.5587, -6.1431, -6.1431, -6.1431, -6.1433, -6.1434, -6.1435, -6.2352, -6.2352, -6.2352, -6.2352, -6.2353, -6.2353, -5.5586, -4.5045, -3.5507, -3.9413, -4.3174, -3.7265, -3.5538, -5.1349, -4.9031, -4.7387, -5.0418, -2.2549, -5.4079, -4.8942, -5.2448, -4.8221, -5.1636, -5.0037, -4.9164, -4.5536, -4.9292, -4.8948, -5.0992, -5.1487, -5.1589, -4.2994, -4.3213, -4.8132, -3.957, -5.1947, -5.1948, -5.1954, -5.1958, -5.567, -5.8211, -5.8211, -5.8212, -5.8212, -5.8212, -5.8213, -5.8214, -5.8214, -5.8216, -5.8219, -5.8221, -5.8225, -5.8238, -5.1948, -5.8211, -5.8213, -4.8512, -5.6447, -5.1573, -5.8216, -5.729, -4.3412, -3.4692, -3.8553, -4.7781, -4.6415, -4.8132, -5.195, -4.2727, -4.778, -5.1953, -4.8162, -2.3535, -5.1447, -5.0534, -5.1951, -5.0968, -4.6824, -5.1945, -5.1905, -4.4049, -4.9599, -4.9603, -4.9605, -4.9609, -5.3418, -5.3419, -5.3421, -5.3421, -4.9596, -5.3642, -5.2434, -5.876, -5.8768, -5.8832, -5.9681, -5.9682, -5.9682, -5.9682, -5.9683, -5.9682, -5.9682, -5.9684, -5.9687, -5.9687, -5.9689, -5.9688, -5.9687, -5.969, -5.969, -5.7138, -5.0152, -4.9596, -3.7405, -5.2689, -4.4846, -4.8182, -4.1425, -4.5642, -2.3176, -5.876, -3.4712, -4.1679, -4.1084, -4.4688, -5.0574, -4.9429, -4.9001, -5.2194, -4.7055, -4.7033, -4.8989, -5.167, -5.1848, -5.2088, -4.2129, -4.6911, -4.7258, -5.1086, -5.1088, -4.6912, -5.0577, -5.6423, -5.6428, -5.7344, -5.7344, -5.7344, -5.7345, -5.7346, -5.7346, -5.7347, -5.7346, -5.7347, -5.7347, -5.7349, -5.735, -5.735, -5.7349, -5.7832, -5.5581, -5.6426, -4.9204, -5.7356, -5.7348, -5.7371, -4.8446, -4.0649, -5.558, -4.6577, -4.303, -4.8103, -4.2939, -2.4906, -4.5798, -5.0582, -4.8776, -5.0578, -4.8785, -5.0094, -5.0095, -5.0589, -5.1082, -5.0576, -4.9302, -5.0727, -5.2108, -5.1404, -5.2189, -4.8347, -4.5305, -4.8334, -5.2151, -5.2152, -4.8328, -5.2153, -5.2158, -4.677, -5.7494, -5.8413, -5.8414, -5.8414, -5.8414, -5.8415, -5.8415, -5.8415, -5.8417, -5.8419, -5.8422, -5.8422, -5.8425, -5.9105, -5.1646, -5.7497, -5.7495, -5.8419, -5.8425, -5.7493, -5.374, -4.7645, -3.9975, -4.7982, -4.3682, -4.2123, -4.0269, -3.8861, -5.0344, -4.8648, -2.6088, -4.2732, -5.2151, -4.8853, -5.6652, -4.3426, -5.2164, -5.0764, -5.0641, -5.2687, -4.7988, -4.74, -4.5482, -3.5861, -4.8189, -4.819, -4.8193, -5.3939, -5.3939, -5.3939, -5.3939, -5.4454, -5.446, -5.446, -5.4461, -5.4464, -5.4466, -5.2689, -5.4464, -5.4465, -5.3533, -5.446, -5.4462, -5.3537, -5.2692, -6.034, -6.034, -6.034, -6.034, -6.0369, -6.0455, -6.0455, -6.0455, -5.4454, -5.1211, -5.1211, -4.5921, -3.5147, -3.8297, -3.7456, -5.273, -4.0584, -4.7835, -4.4023, -4.8195, -5.2726, -4.8195, -4.9789, -4.6757, -4.2935, -4.8335, -5.1611, -5.2191, -4.8405, -5.3556, -5.3583], \"loglift\": [30.0, 29.0, 28.0, 27.0, 26.0, 25.0, 24.0, 23.0, 22.0, 21.0, 20.0, 19.0, 18.0, 17.0, 16.0, 15.0, 14.0, 13.0, 12.0, 11.0, 10.0, 9.0, 8.0, 7.0, 6.0, 5.0, 4.0, 3.0, 2.0, 1.0, 1.5666, 1.5427, 1.5408, 1.5406, 1.5404, 1.5266, 1.5221, 1.4792, 1.4714, 1.4714, 1.4714, 1.4714, 1.4714, 1.4713, 1.471, 1.471, 1.4709, 1.4709, 1.4708, 1.4706, 1.4705, 1.4697, 1.4697, 1.4694, 1.4519, 1.4372, 1.4247, 1.4139, 1.4117, 1.3826, 1.3465, 1.2379, 1.2692, 1.3319, 1.0732, 1.0, 0.5457, 1.1572, 1.0406, 0.8126, 1.036, 0.1918, 1.0744, 1.0589, 0.7675, 1.071, 0.9956, 1.0419, 0.3668, 0.3303, 0.6659, -0.1058, 0.1463, 0.4928, 0.3818, 1.8286, 1.7997, 1.7983, 1.7864, 1.7665, 1.7488, 1.7469, 1.7412, 1.7251, 1.7205, 1.716, 1.716, 1.7159, 1.7027, 1.699, 1.699, 1.699, 1.699, 1.699, 1.699, 1.6989, 1.6989, 1.6989, 1.6988, 1.6988, 1.6987, 1.6987, 1.6985, 1.6985, 1.6984, 1.6633, 1.6814, 1.6439, 1.6118, 1.503, 1.6452, 1.5418, 1.2697, 1.2944, 1.5664, 1.0249, 1.4062, 1.4243, 1.2487, 1.4337, 1.3744, -0.0354, 1.0764, 1.2724, 0.9706, 0.5034, 1.2479, 0.9595, -0.0451, 0.0238, 1.937, 1.9225, 1.9024, 1.8719, 1.8695, 1.8554, 1.8551, 1.8551, 1.855, 1.8549, 1.8546, 1.8537, 1.8083, 1.7976, 1.7965, 1.7964, 1.7804, 1.7694, 1.7646, 1.7645, 1.7645, 1.7644, 1.7643, 1.7643, 1.7446, 1.7445, 1.7445, 1.7445, 1.7445, 1.7445, 1.7425, 1.712, 1.6325, 1.6308, 1.6157, 1.4843, 1.3967, 1.5823, 1.4893, 1.4475, 1.4701, 0.0168, 1.4317, 1.0338, 1.2952, 0.6695, 0.9226, 0.492, 0.2535, -0.8073, 0.0306, -0.1034, 0.4392, 0.5385, 0.5552, 2.0315, 2.0304, 2.0039, 1.9808, 1.9733, 1.9733, 1.973, 1.9387, 1.931, 1.8934, 1.8934, 1.8933, 1.8933, 1.8933, 1.8933, 1.8933, 1.8932, 1.8932, 1.893, 1.893, 1.8927, 1.8909, 1.8881, 1.8376, 1.8254, 1.8132, 1.8121, 1.8049, 1.8049, 1.7931, 1.651, 1.3222, 1.3308, 1.5008, 1.4442, 1.4639, 1.6126, 1.1124, 1.366, 1.5444, 1.3295, -0.0818, 1.4804, 1.1289, 1.1658, 0.8287, 0.1219, 0.8494, 0.348, 2.0899, 2.0861, 2.0859, 2.0858, 2.0855, 2.0463, 2.0462, 2.0461, 2.046, 2.0229, 2.0222, 1.9987, 1.9626, 1.9622, 1.9559, 1.9442, 1.9442, 1.9442, 1.9442, 1.9442, 1.9441, 1.9441, 1.9441, 1.9439, 1.9438, 1.9438, 1.9438, 1.9437, 1.9437, 1.9436, 1.9264, 1.852, 1.7497, 1.3923, 1.7638, 1.4989, 1.4091, 1.0047, 1.2064, -0.0459, 1.8879, 0.2751, 0.6364, 0.5178, 0.7797, 1.14, 0.9827, 0.8254, 1.0487, 0.245, 0.0881, 0.2872, 0.9043, 0.9264, 0.2868, 2.2487, 2.2197, 2.1817, 2.1811, 2.181, 2.1674, 2.1377, 2.1065, 2.1062, 2.0898, 2.0898, 2.0898, 2.0898, 2.0897, 2.0897, 2.0897, 2.0897, 2.0897, 2.0897, 2.0896, 2.0895, 2.0895, 2.0895, 2.0801, 2.0631, 2.0378, 2.0312, 2.0271, 2.0234, 2.0206, 1.9841, 1.8638, 2.0026, 1.8528, 1.36, 1.5506, 1.2018, -0.2189, 1.2799, 1.5585, 1.2336, 1.3596, 0.8469, 0.9298, 0.9185, 0.9522, 1.0357, 0.8754, 0.2026, 0.138, 0.5814, 0.1665, 0.1253, 2.231, 2.2199, 2.1917, 2.1911, 2.191, 2.1519, 2.1407, 2.1251, 2.1066, 2.1058, 2.0871, 2.087, 2.087, 2.087, 2.087, 2.087, 2.087, 2.0869, 2.0868, 2.0866, 2.0865, 2.0862, 2.0715, 2.0328, 2.0279, 2.0171, 2.012, 2.0047, 1.9635, 1.9452, 1.8867, 1.8156, 1.7847, 1.6757, 1.5799, 1.5115, 1.4581, 1.7548, 1.5105, -0.3371, 0.8595, 1.5788, 1.1372, 1.9115, 0.4488, 1.3614, 1.1856, 1.0222, 1.3113, 0.371, 0.2199, -0.8019, 2.4516, 2.3789, 2.3789, 2.3787, 2.3046, 2.3046, 2.3046, 2.3046, 2.2962, 2.2959, 2.2959, 2.2959, 2.2957, 2.2956, 2.2456, 2.2384, 2.2382, 2.2374, 2.2335, 2.2052, 2.1736, 2.1728, 2.1679, 2.1679, 2.1679, 2.1679, 2.1671, 2.1648, 2.1648, 2.1648, 2.1601, 2.1546, 2.1546, 2.1287, 2.0875, 2.07, 1.9416, 2.091, 1.6162, 1.7993, 1.3118, 1.4508, 1.968, 1.1198, 1.2185, 0.5103, -0.5472, 0.7386, 1.1009, 0.9524, -2.5688, 1.8725, 0.869]}, \"token.table\": {\"Topic\": [7, 3, 3, 1, 8, 6, 4, 6, 3, 3, 4, 5, 3, 1, 3, 5, 3, 6, 4, 8, 1, 2, 6, 1, 2, 4, 4, 2, 3, 7, 1, 2, 3, 5, 6, 7, 8, 5, 1, 2, 3, 4, 5, 6, 7, 1, 2, 3, 4, 5, 6, 7, 8, 1, 2, 1, 2, 4, 5, 7, 1, 2, 2, 1, 2, 5, 6, 7, 1, 3, 5, 6, 7, 2, 1, 5, 2, 3, 7, 3, 1, 2, 3, 5, 6, 8, 8, 1, 3, 8, 1, 2, 7, 5, 8, 1, 2, 3, 4, 7, 1, 2, 1, 8, 7, 8, 1, 4, 5, 7, 4, 1, 7, 1, 7, 2, 4, 1, 2, 3, 5, 6, 8, 4, 1, 5, 1, 3, 5, 7, 8, 1, 3, 1, 3, 1, 2, 4, 5, 6, 7, 8, 1, 1, 2, 3, 4, 5, 6, 7, 6, 6, 8, 1, 8, 4, 6, 8, 3, 5, 6, 8, 1, 1, 2, 3, 5, 6, 7, 1, 2, 5, 6, 1, 2, 6, 2, 1, 2, 3, 4, 5, 7, 8, 3, 8, 7, 1, 1, 2, 3, 4, 5, 6, 7, 8, 2, 4, 3, 4, 4, 5, 1, 7, 1, 8, 2, 6, 7, 8, 3, 5, 1, 1, 3, 1, 3, 4, 5, 6, 6, 6, 1, 2, 3, 4, 5, 1, 3, 5, 1, 3, 4, 6, 7, 8, 3, 1, 2, 3, 8, 5, 7, 2, 5, 6, 1, 2, 3, 6, 1, 3, 5, 4, 5, 8, 7, 6, 2, 4, 5, 6, 7, 1, 2, 3, 4, 5, 6, 7, 8, 1, 2, 3, 4, 5, 6, 7, 8, 2, 1, 2, 1, 2, 3, 4, 5, 7, 8, 1, 6, 1, 2, 3, 6, 8, 1, 4, 4, 5, 7, 5, 3, 1, 5, 8, 3, 3, 3, 2, 5, 1, 3, 4, 5, 6, 7, 4, 1, 2, 3, 4, 7, 1, 4, 2, 1, 4, 1, 8, 1, 1, 4, 7, 1, 2, 3, 5, 6, 7, 2, 4, 7, 5, 1, 3, 7, 1, 4, 6, 8, 3, 5, 7, 6, 4, 2, 2, 6, 3, 1, 3, 4, 5, 8, 5, 7, 6, 1, 1, 3, 4, 7, 8, 5, 1, 3, 7, 2, 6, 7, 1, 2, 3, 5, 6, 1, 8, 5, 1, 2, 5, 1, 4, 1, 2, 3, 4, 6, 7, 8, 5, 5, 8, 6, 2, 3, 4, 8, 1, 2, 4, 5, 6, 8, 5, 3, 7, 6, 8, 1, 2, 3, 4, 5, 6, 7, 8, 5, 2, 4, 1, 3, 4, 5, 6, 7, 1, 5, 6, 7, 1, 3, 4, 6, 8, 1, 3, 6, 7, 1, 8, 5, 1, 2, 3, 5, 6, 7, 1, 4, 5, 6, 7, 8, 8, 6, 3, 1, 2, 5, 6, 8, 1, 3, 8, 8, 2, 4, 7, 1, 2, 1, 1, 2, 4, 5, 6, 7, 8, 1, 2, 3, 4, 5, 6, 7, 7, 3, 4, 1, 4, 5, 6, 1, 7, 2, 1, 2, 8, 5, 3, 7, 1, 2, 3, 4, 5, 6, 8, 1, 3, 4, 5, 6, 2, 6, 1, 2, 3, 4, 5, 6, 7, 8, 7, 4, 2, 6, 6, 1, 2, 4, 5, 6, 7, 8, 1, 7, 1, 2, 3, 5, 6, 2, 1, 1, 6, 1, 2, 3, 4, 6, 7, 8, 4, 1, 2, 3, 4, 5, 7, 1, 4, 8, 7, 1, 2, 3, 4, 6, 1, 2, 3, 4, 6, 2, 4, 1, 3, 4, 5, 6, 8, 1, 3, 4, 1, 2, 3, 4, 6, 7, 8, 1, 3, 6, 7, 1, 3, 6, 1, 2, 3, 4, 5, 7, 1, 2, 4, 1, 2, 1, 3, 6, 5, 8, 1, 2, 3, 4, 8, 6, 6, 1, 3, 4, 8, 3, 4, 5, 8, 1, 2, 3, 4, 5, 6, 7, 8, 1, 2, 3, 4, 8, 3, 1, 2, 6, 7, 1, 5, 6, 1, 2, 3, 5, 1, 7, 7, 5, 1, 4, 4, 1, 2, 6, 1, 4, 8, 8, 7, 8, 1, 2, 2, 6, 2, 7, 6, 3, 1, 2, 4, 5, 6, 7, 8, 5, 1, 7, 8, 6, 2, 7, 4, 8, 6, 1, 3, 5, 7, 1, 1, 2, 3, 4, 5, 6, 7, 1, 2, 5, 7, 8, 8, 4, 4, 7, 1, 2, 3, 2, 3, 4, 5, 6, 7, 5, 1, 2, 3, 4, 5, 6, 7, 8, 1, 5, 1, 2, 3, 8, 7, 8, 2, 6, 8, 1, 2, 3, 4, 6, 8, 1, 6, 3, 2, 1, 1, 2, 3, 4, 5, 6, 7, 1, 3, 8, 4, 5, 6, 1, 4, 7, 8, 7, 1, 3, 4, 5, 7, 3, 7, 8, 2, 1, 2, 4, 6, 7, 5, 7, 3, 4, 5, 6, 7, 8, 1, 3, 6, 7, 8, 5], \"Freq\": [0.9254827845826592, 0.8617083442932933, 0.8055632924726842, 0.18123196685540638, 0.7249278674216255, 0.7410424474826606, 0.8853343761048172, 0.9485067668045626, 0.8055348798689819, 0.805479162137894, 0.8971368820874879, 0.9077542980753334, 0.89117824249985, 0.8904760047314427, 0.865727684956742, 0.8092516433184967, 0.8055528741951884, 0.8463914228315458, 0.8855245471147968, 0.9102246886617249, 0.07383985376039166, 0.44303912256235, 0.44303912256235, 0.06779410794818032, 0.8813234033263442, 0.7304259613145888, 0.8855774340873369, 0.7550748436925947, 0.9523689807836322, 0.7582776987919003, 0.27799740491958647, 0.24324772930463814, 0.17374837807474153, 0.08687418903737076, 0.017374837807474154, 0.13899870245979323, 0.052124513422422455, 0.8093726008499091, 0.21920889325140674, 0.5380581925261801, 0.01992808120467334, 0.01992808120467334, 0.01992808120467334, 0.11956848722804005, 0.03985616240934668, 0.33905810555743116, 0.14271089753688487, 0.1379219412437008, 0.11589274229505415, 0.10823041222595967, 0.08045446572549214, 0.06991876188048722, 0.006704538810457678, 0.10022098625985185, 0.9019888763386666, 0.06960421092159101, 0.904854741980683, 0.8973863584384085, 0.7520137826875629, 0.8224049800534357, 0.11683217225243425, 0.8178252057670398, 0.7552238081948828, 0.03168409859454775, 0.506945577512764, 0.3802091831345731, 0.03168409859454775, 0.03168409859454775, 0.2975145995076867, 0.0330571777230763, 0.0330571777230763, 0.0330571777230763, 0.5950291990153734, 0.7550955311913314, 0.13800542980510164, 0.8280325788306098, 0.8674373617868993, 0.05421483511168121, 0.05421483511168121, 0.8657226730702352, 0.14440614519886755, 0.04813538173295585, 0.2166092177983013, 0.14440614519886755, 0.33694767213069093, 0.0962707634659117, 0.9518506045652876, 0.14273167498944075, 0.14273167498944075, 0.7136583749472037, 0.7470524467621336, 0.7552510235666084, 0.7732691043735124, 0.7984492412331529, 0.8712609569439196, 0.6024304425026639, 0.21906561545551412, 0.05476640386387853, 0.05476640386387853, 0.05476640386387853, 0.16088848254207638, 0.8044424127103819, 0.8709126523526848, 0.7207300747545217, 0.8224214626566063, 0.9242320185189009, 0.04163997017267333, 0.2914797912087133, 0.12491991051802, 0.5413196122447533, 0.6841902528671732, 0.7939918338785736, 0.8224083014248191, 0.13196068430234942, 0.7917641058140964, 0.077446607254263, 0.77446607254263, 0.2838587976976717, 0.04730979961627861, 0.09461959923255722, 0.14192939884883585, 0.18923919846511444, 0.23654899808139307, 0.8859699574012737, 0.9562704012585052, 0.907592692715868, 0.6955071459884559, 0.018797490432120426, 0.24436737561756555, 0.018797490432120426, 0.9099718915864217, 0.7354186816170187, 0.24513956053900626, 0.1463980067820623, 0.7319900339103115, 0.055968375954479115, 0.6156521354992702, 0.11193675190895823, 0.055968375954479115, 0.055968375954479115, 0.055968375954479115, 0.055968375954479115, 0.7927659483983093, 0.03710890837974512, 0.07421781675949024, 0.14843563351898048, 0.03710890837974512, 0.03710890837974512, 0.630851442455667, 0.03710890837974512, 0.7412233523698124, 0.7411756776940894, 0.8593795335616373, 0.18354998667216296, 0.7341999466886518, 0.4002002522088601, 0.45737171681012584, 0.11434292920253146, 0.6708830146859102, 0.07454255718732336, 0.22362767156197005, 0.7207300747545217, 0.7934604117221029, 0.12950017709453307, 0.0971251328208998, 0.03237504427363327, 0.0971251328208998, 0.1942502656417996, 0.48562566410449903, 0.5369798514085523, 0.17899328380285076, 0.17899328380285076, 0.05966442793428359, 0.08391183545696368, 0.7552065191126731, 0.08391183545696368, 0.9338836491657947, 0.025120139774190968, 0.07536041932257291, 0.20096111819352774, 0.1758409784193368, 0.050240279548381936, 0.45216251593543744, 0.025120139774190968, 0.8657248130062425, 0.7267645114743037, 0.7072731341939273, 0.8998491914074244, 0.2385380744985421, 0.41011809299749347, 0.05858829899964192, 0.02510927099984654, 0.15065562599907922, 0.020924392499872116, 0.04184878499974423, 0.05021854199969308, 0.7552592663040525, 0.8971137232117111, 0.7021048310843824, 0.8853520039055258, 0.8853970414104242, 0.8095684321734279, 0.1523259631742765, 0.7616298158713823, 0.9092127678724846, 0.8712609569439196, 0.8229022260509262, 0.030477860224108377, 0.1219114408964335, 0.030477860224108377, 0.0653655705416638, 0.9151179875832932, 0.8854618314390257, 0.7928618961543958, 0.8616627867402874, 0.2589506763889721, 0.07398590753970632, 0.2959436301588253, 0.2959436301588253, 0.03699295376985316, 0.7410291995191581, 0.7705120115010694, 0.09601949359789153, 0.19203898719578305, 0.5761169615873492, 0.09601949359789153, 0.04800974679894576, 0.11343411743955899, 0.9074729395164719, 0.8092849922627952, 0.16063531955231183, 0.08031765977615592, 0.02677255325871864, 0.02677255325871864, 0.02677255325871864, 0.669313831467966, 0.86575950242817, 0.07419136167697997, 0.5193395317388597, 0.07419136167697997, 0.2225740850309399, 0.8092848742539597, 0.8224659981488124, 0.9417547882804718, 0.7971360219181883, 0.891837143104749, 0.5811371945136348, 0.12914159878080772, 0.25828319756161544, 0.7412018154980086, 0.7944086024682666, 0.812360939785193, 0.8092894776579254, 0.9022088329397842, 0.6976506594442765, 0.9099365394755676, 0.764338888219238, 0.7410225930959266, 0.7709449984497985, 0.036711666592847546, 0.036711666592847546, 0.07342333318569509, 0.07342333318569509, 0.08450470056251573, 0.5211123201355137, 0.14084116760419288, 0.09858881732293502, 0.014084116760419289, 0.014084116760419289, 0.1267570508437736, 0.014084116760419289, 0.16548438616295147, 0.12411328962221359, 0.04137109654073787, 0.04137109654073787, 0.062056644811106794, 0.12411328962221359, 0.4137109654073787, 0.020685548270368934, 0.7550463501080842, 0.7934117641264962, 0.8468300095518816, 0.4317384041822777, 0.057565120557637024, 0.028782560278818512, 0.028782560278818512, 0.028782560278818512, 0.028782560278818512, 0.4317384041822777, 0.10320998568850341, 0.7224698998195239, 0.05195798002860279, 0.025978990014301394, 0.7014327303861376, 0.05195798002860279, 0.18185293010010978, 0.11769876208339157, 0.823891334583741, 0.07643401442061831, 0.22930204326185494, 0.6114721153649465, 0.8094740020918099, 0.8618263247596248, 0.13608559376232107, 0.13608559376232107, 0.5443423750492843, 0.8054826586028885, 0.9543830759664645, 0.8123869421101669, 0.9339248425382828, 0.8095174432327876, 0.04076204294211302, 0.12228612882633906, 0.16304817176845207, 0.2038102147105651, 0.16304817176845207, 0.28533430059479115, 0.8853937077959626, 0.13832033079973316, 0.04610677693324439, 0.18442710773297755, 0.46106776933244387, 0.09221355386648877, 0.7932259631756905, 0.8853845482984161, 0.755190655372555, 0.3340407814649518, 0.5845713675636657, 0.2078056913236667, 0.8312227652946668, 0.7752105478235033, 0.42063922444177226, 0.5257990305522153, 0.8226989106057767, 0.016742646126333416, 0.13394116901066733, 0.016742646126333416, 0.4520514454110022, 0.1171985228843339, 0.2343970457686678, 0.7553421359733214, 0.8912877973698045, 0.8226538300474528, 0.75178996964092, 0.4103371951596162, 0.47872672768621893, 0.06838953252660271, 0.06639455720009185, 0.2655782288003674, 0.6639455720009186, 0.90968295184415, 0.8619866158698183, 0.8093547363155082, 0.8224600305558071, 0.7410742936637864, 0.9630575009430108, 0.7550695661708329, 0.18255618377993515, 0.7302247351197406, 0.8981694171481072, 0.04855349988889378, 0.1942139995555751, 0.04855349988889378, 0.33987449922225643, 0.2913209993333627, 0.8094036776428075, 0.8887142980311892, 0.9163627437274667, 0.7930409785447318, 0.08193720651797656, 0.08193720651797656, 0.08193720651797656, 0.08193720651797656, 0.737434858661789, 0.9078218770142297, 0.04948617536611275, 0.7422926304916913, 0.14845852609833826, 0.5844410228717456, 0.08349157469596365, 0.25047472408789095, 0.04279765572526968, 0.3851789015274272, 0.21398827862634842, 0.2995835900768878, 0.04279765572526968, 0.168532573954441, 0.674130295817764, 0.7985797848176518, 0.0881610360646375, 0.6171272524524625, 0.2644831081939125, 0.7927811261174801, 0.8373484876994649, 0.4314620697510132, 0.023970114986167402, 0.2636712648478414, 0.023970114986167402, 0.09588045994466961, 0.09588045994466961, 0.023970114986167402, 0.9074179864742765, 0.6480360520632297, 0.32401802603161484, 0.7410685754203589, 0.03744840299983845, 0.03744840299983845, 0.8987616719961228, 0.7222478579120606, 0.18751314872322203, 0.037502629744644404, 0.15001051897857762, 0.1125078892339332, 0.2625184082125108, 0.2625184082125108, 0.809508167382343, 0.14906109003601117, 0.7453054501800559, 0.8556057308177893, 0.7822830797447163, 0.07043623906268161, 0.07043623906268161, 0.6867533308611456, 0.017609059765670402, 0.035218119531340804, 0.035218119531340804, 0.0528271792970112, 0.035218119531340804, 0.8219389944950553, 0.26811497898471126, 0.625601617630993, 0.18542163451234048, 0.37084326902468095, 0.07416865380493619, 0.037084326902468094, 0.25959028831727665, 0.07416865380493619, 0.07138421816960085, 0.2855368726784034, 0.07138421816960085, 0.5710737453568068, 0.3133171505969812, 0.1566585752984906, 0.10443905019899373, 0.052219525099496865, 0.365536675696478, 0.8144810341132283, 0.9364114128695333, 0.3509642739688109, 0.5264464109532163, 0.7935397552113063, 0.7267645114743037, 0.7521390049314525, 0.043440989829358075, 0.26064593897614846, 0.3475279186348646, 0.043440989829358075, 0.043440989829358075, 0.26064593897614846, 0.11862710551150742, 0.6722202645652087, 0.0790847370076716, 0.0395423685038358, 0.0790847370076716, 0.793896591149232, 0.8712609569439196, 0.7412225338865475, 0.7520096066770233, 0.23518320725590544, 0.03919720120931758, 0.5095636157211285, 0.19598600604658786, 0.03919720120931758, 0.08164791797638435, 0.6531833438110748, 0.24494375392915302, 0.9101019128049391, 0.10431375526576861, 0.7301962868603803, 0.10431375526576861, 0.7659667277691444, 0.1914916819422861, 0.7927762267899534, 0.05179030304263775, 0.15537090912791326, 0.05179030304263775, 0.1035806060852755, 0.05179030304263775, 0.31074181825582653, 0.25895151521318877, 0.040124474834084635, 0.441369223174931, 0.2808713238385924, 0.16049789933633854, 0.040124474834084635, 0.040124474834084635, 0.040124474834084635, 0.8131300578396307, 0.805476260258809, 0.885485629960304, 0.1119320774729744, 0.1119320774729744, 0.6715924648378464, 0.1119320774729744, 0.5681951301889885, 0.3551219563681178, 0.7550454720853801, 0.5642230476433917, 0.18807434921446392, 0.18807434921446392, 0.8093352791143055, 0.8618698971231726, 0.8225869645257712, 0.3626568501318334, 0.04029520557020371, 0.08059041114040742, 0.04029520557020371, 0.04029520557020371, 0.24177123342122228, 0.12088561671061114, 0.04454079791314663, 0.13362239373943988, 0.1781631916525865, 0.26724478747887975, 0.356326383305173, 0.755214544211533, 0.7411178582206823, 0.011900178541961291, 0.03570053562588387, 0.11900178541961291, 0.47600714167845165, 0.11900178541961291, 0.047600714167845164, 0.15470232104549678, 0.03570053562588387, 0.8225157622078181, 0.8854076762952799, 0.7064323792433419, 0.23547745974778064, 0.8684305379982851, 0.17070823737177884, 0.05690274579059294, 0.02845137289529647, 0.14225686447648236, 0.3983192205341506, 0.14225686447648236, 0.05690274579059294, 0.0844017734391522, 0.9284195078306743, 0.09227756838098451, 0.09227756838098451, 0.5536654102859071, 0.09227756838098451, 0.09227756838098451, 0.8387086327124379, 0.7942114538836968, 0.8225349032126973, 0.10281686290158716, 0.05227705750769359, 0.6534632188461699, 0.026138528753846795, 0.05227705750769359, 0.07841558626154038, 0.10455411501538718, 0.026138528753846795, 0.9431988216273103, 0.286932712624309, 0.047822118770718174, 0.1912884750828727, 0.3825769501657454, 0.047822118770718174, 0.047822118770718174, 0.13779519840091262, 0.13779519840091262, 0.5511807936036505, 0.8226949677221144, 0.18148246928883177, 0.12098831285922118, 0.24197662571844236, 0.06049415642961059, 0.36296493857766354, 0.07148318583852893, 0.5003823008697025, 0.07148318583852893, 0.35741592919264464, 0.6933318648998441, 0.7551451751189401, 0.8674986553293126, 0.1813941285115926, 0.5441823855347778, 0.09767376150624217, 0.1395339450089174, 0.027906789001783477, 0.013953394500891739, 0.21067840582876096, 0.15800880437157072, 0.5793656160290926, 0.05430309704520655, 0.07240412939360873, 0.597334067497272, 0.1086061940904131, 0.1086061940904131, 0.01810103234840218, 0.03620206469680436, 0.2900148058572944, 0.17400888351437663, 0.05800296117145888, 0.46402368937167104, 0.10836877941281159, 0.7585814558896811, 0.741156145779907, 0.26052585106042303, 0.043420975176737174, 0.043420975176737174, 0.5210517021208461, 0.043420975176737174, 0.043420975176737174, 0.1273247567742295, 0.7639485406453771, 0.8856782090832679, 0.13342097726996938, 0.8005258636198163, 0.7927807954225861, 0.8657478139363616, 0.7590625965813497, 0.7985055532879389, 0.7207300747545217, 0.10109626774338905, 0.6065776064603343, 0.050548133871694524, 0.2021925354867781, 0.050548133871694524, 0.88883354257702, 0.7410622416652315, 0.1427464067854048, 0.0713732033927024, 0.2854928135708096, 0.4996124237489168, 0.5900283631233685, 0.11800567262467368, 0.17700850893701053, 0.05900283631233684, 0.6758875579787225, 0.0403514959987297, 0.030263621999047273, 0.02017574799936485, 0.19166960599396607, 0.010087873999682424, 0.02017574799936485, 0.010087873999682424, 0.21628790335363093, 0.036047983892271825, 0.036047983892271825, 0.036047983892271825, 0.6488637100608928, 0.8617819488948008, 0.07975308853738483, 0.7177777968364635, 0.07975308853738483, 0.07975308853738483, 0.9087506933315774, 0.8094723619541908, 0.6936581055223349, 0.5651726472154222, 0.2055173262601535, 0.05137933156503838, 0.15413799469511513, 0.8121754137230899, 0.7633403505413254, 0.8224658071110209, 0.7985005453579918, 0.3723096094324618, 0.5212334532054465, 0.8854868767247814, 0.9093880167843631, 0.7550450778929378, 0.741112118960506, 0.20269536271908178, 0.8107814508763271, 0.9244111684466669, 0.8548832855596191, 0.8224195212874319, 0.7207300747545217, 0.1091274948462121, 0.6547649690772727, 0.755467845873206, 0.9162070610226998, 0.192848765225816, 0.578546295677448, 0.8684983777945917, 0.8224694983527794, 0.3117336309976818, 0.13854828044341413, 0.034637070110853534, 0.034637070110853534, 0.34637070110853535, 0.034637070110853534, 0.034637070110853534, 0.8093884099179396, 0.10668560667939939, 0.8534848534351951, 0.7267645114743037, 0.7410175154075795, 0.7550758064309389, 0.8676512096921276, 0.1558968383005667, 0.6235873532022668, 0.6967773865665341, 0.5775468108313201, 0.0509600127204106, 0.30576007632246355, 0.0509600127204106, 0.7927503071893801, 0.2801093574265626, 0.15082811553737988, 0.043093747296394244, 0.3878437256675482, 0.10773436824098562, 0.021546873648197122, 0.043093747296394244, 0.05002225982817342, 0.20008903931269367, 0.4502003384535608, 0.05002225982817342, 0.20008903931269367, 0.8712609569439196, 0.8273590605097437, 0.8858544632438216, 0.6994823870041308, 0.5705562634996656, 0.2633336600767687, 0.13166683003838436, 0.36474119928389115, 0.1042117712239689, 0.05210588561198445, 0.31263531367190667, 0.05210588561198445, 0.05210588561198445, 0.8516209622197413, 0.0706363131656698, 0.01765907829141745, 0.1059544697485047, 0.47679511386827117, 0.15893170462275705, 0.01765907829141745, 0.01765907829141745, 0.1412726263313396, 0.8418910649636572, 0.14031517749394287, 0.1457365917693472, 0.02914731835386944, 0.2331785468309555, 0.5829463670773888, 0.6629282603322704, 0.8594361751862538, 0.933934428823257, 0.7902459080857577, 0.9098964203655286, 0.5435688066470503, 0.06794610083088129, 0.2038383024926439, 0.06794610083088129, 0.06794610083088129, 0.06794610083088129, 0.9090921913365725, 0.8064628449583129, 0.8657455510585231, 0.8476414653956423, 0.7930514502467543, 0.5304400336156687, 0.012055455309447018, 0.06027727654723509, 0.1446654637133642, 0.21699819557004632, 0.012055455309447018, 0.03616636592834105, 0.14272747473991254, 0.14272747473991254, 0.7136373736995627, 0.0948514020404781, 0.7588112163238248, 0.0948514020404781, 0.07117429652697758, 0.28469718610791034, 0.35587148263488794, 0.28469718610791034, 0.8131020722684018, 0.13298050847130216, 0.5984122881208597, 0.06649025423565108, 0.13298050847130216, 0.06649025423565108, 0.4407855736800621, 0.4407855736800621, 0.9242170477317382, 0.755067196854442, 0.04602478753590395, 0.04602478753590395, 0.5062726628949434, 0.2761487252154237, 0.0920495750718079, 0.17450040889828594, 0.7852518400422868, 0.2119959011902254, 0.18171077244876466, 0.272566158673147, 0.24228102993168618, 0.09085538622438233, 0.030285128741460773, 0.20960350850613763, 0.23954686686415727, 0.1497167917900983, 0.08983007507405898, 0.2994335835801966, 0.8093019193378709], \"Term\": [\"able\", \"acceptable\", \"access\", \"account\", \"account\", \"accumulation\", \"address\", \"administration\", \"advertisement\", \"affair\", \"afraid\", \"agency\", \"agenda\", \"aid\", \"anchor\", \"anger\", \"antiindia\", \"archive\", \"army\", \"aspersion\", \"atrocity\", \"atrocity\", \"atrocity\", \"attempt\", \"attempt\", \"available\", \"award\", \"ayub\", \"b\", \"bag\", \"ban\", \"ban\", \"ban\", \"ban\", \"ban\", \"ban\", \"ban\", \"bankrupt\", \"bbc\", \"bbc\", \"bbc\", \"bbc\", \"bbc\", \"bbc\", \"bbc\", \"bbcdocumentary\", \"bbcdocumentary\", \"bbcdocumentary\", \"bbcdocumentary\", \"bbcdocumentary\", \"bbcdocumentary\", \"bbcdocumentary\", \"bbcdocumentary\", \"bbcdocumentaryrow\", \"bbcdocumentaryrow\", \"bbcnew\", \"bbcnew\", \"bbcquitindia\", \"behaviour\", \"beneficiary\", \"bhakts\", \"bhakts\", \"bharath\", \"bjp\", \"bjp\", \"bjp\", \"bjp\", \"bjp\", \"block\", \"block\", \"block\", \"block\", \"block\", \"blow\", \"book\", \"book\", \"boycott\", \"boycott\", \"boycott\", \"brilliant\", \"british\", \"british\", \"british\", \"british\", \"british\", \"british\", \"britisher\", \"broadcast\", \"broadcast\", \"broadcast\", \"broadcaster\", \"broadcasting\", \"brutal\", \"butcher\", \"button\", \"campus\", \"campus\", \"campus\", \"campus\", \"campus\", \"case\", \"case\", \"censor\", \"centerist\", \"chance\", \"change\", \"channel\", \"channel\", \"channel\", \"channel\", \"chit\", \"churchill\", \"civil\", \"claim\", \"claim\", \"clean\", \"clean\", \"colonial\", \"colonial\", \"colonial\", \"colonial\", \"colonial\", \"colonial\", \"colonialism\", \"colony\", \"common\", \"communal\", \"communal\", \"communal\", \"communal\", \"company\", \"conspiracy\", \"conspiracy\", \"control\", \"control\", \"controversial\", \"controversial\", \"controversial\", \"controversial\", \"controversial\", \"controversial\", \"controversial\", \"cotton\", \"country\", \"country\", \"country\", \"country\", \"country\", \"country\", \"country\", \"course\", \"coward\", \"coz\", \"credit\", \"credit\", \"critical\", \"critical\", \"critical\", \"criticism\", \"criticism\", \"criticism\", \"cute\", \"dangerous\", \"day\", \"day\", \"day\", \"day\", \"day\", \"day\", \"dear\", \"dear\", \"dear\", \"dear\", \"decision\", \"decision\", \"decision\", \"defence\", \"democracy\", \"democracy\", \"democracy\", \"democracy\", \"democracy\", \"democracy\", \"democracy\", \"desig\", \"diverse\", \"docum\", \"document\", \"documentary\", \"documentary\", \"documentary\", \"documentary\", \"documentary\", \"documentary\", \"documentary\", \"documentary\", \"documentry\", \"dog\", \"doll\", \"domain\", \"dumb\", \"economic\", \"economy\", \"economy\", \"ecosystem\", \"elon\", \"emergency\", \"emergency\", \"emergency\", \"emergency\", \"entire\", \"entire\", \"event\", \"excerpt\", \"expression\", \"fact\", \"fact\", \"fact\", \"fact\", \"fact\", \"facta\", \"factual\", \"fake\", \"fake\", \"fake\", \"fake\", \"fake\", \"famine\", \"famine\", \"fan\", \"file\", \"file\", \"file\", \"file\", \"file\", \"file\", \"fire\", \"first\", \"first\", \"first\", \"first\", \"fish\", \"fo\", \"food\", \"force\", \"former\", \"freedom\", \"freedom\", \"freedom\", \"fresh\", \"frightened\", \"fuck\", \"game\", \"general\", \"gentleman\", \"glad\", \"glorify\", \"gloss\", \"good\", \"good\", \"good\", \"good\", \"good\", \"government\", \"government\", \"government\", \"government\", \"government\", \"government\", \"government\", \"government\", \"govt\", \"govt\", \"govt\", \"govt\", \"govt\", \"govt\", \"govt\", \"govt\", \"grain\", \"growth\", \"guilt\", \"gujarat\", \"gujarat\", \"gujarat\", \"gujarat\", \"gujarat\", \"gujarat\", \"gujarat\", \"gujaratpogrom\", \"gujaratpogrom\", \"gujaratriot\", \"gujaratriot\", \"gujaratriot\", \"gujaratriot\", \"gujaratriot\", \"gut\", \"gut\", \"guy\", \"guy\", \"guy\", \"h\", \"handle\", \"happy\", \"happy\", \"happy\", \"harmony\", \"harsh\", \"hatred\", \"hell\", \"hero\", \"hindu\", \"hindu\", \"hindu\", \"hindu\", \"hindu\", \"hindu\", \"hip\", \"history\", \"history\", \"history\", \"history\", \"history\", \"honble\", \"hop\", \"hot\", \"house\", \"house\", \"huge\", \"huge\", \"image\", \"independent\", \"independent\", \"indiabbcdocumentary\", \"indian\", \"indian\", \"indian\", \"indian\", \"indian\", \"indian\", \"indias\", \"innocent\", \"insightful\", \"intellectual\", \"international\", \"international\", \"international\", \"interview\", \"interview\", \"interview\", \"invader\", \"investigative\", \"irony\", \"islamic\", \"itbbcdocumentary\", \"jail\", \"jnu\", \"job\", \"job\", \"journalism\", \"journalist\", \"journalist\", \"journalist\", \"journalist\", \"journalist\", \"judge\", \"judgement\", \"judiciary\", \"justice\", \"kashmiri\", \"kashmiri\", \"kashmiri\", \"kashmiri\", \"kashmiri\", \"king\", \"last\", \"last\", \"last\", \"law\", \"law\", \"law\", \"leader\", \"leader\", \"leader\", \"leader\", \"leader\", \"legal\", \"legal\", \"lesson\", \"liberal\", \"liberal\", \"liberal\", \"librandu\", \"life\", \"link\", \"link\", \"link\", \"link\", \"link\", \"link\", \"link\", \"long\", \"look\", \"look\", \"lot\", \"man\", \"man\", \"man\", \"manmohansingh\", \"many\", \"many\", \"many\", \"many\", \"many\", \"many\", \"mask\", \"mass\", \"mass\", \"massacre\", \"matter\", \"medium\", \"medium\", \"medium\", \"medium\", \"medium\", \"medium\", \"medium\", \"medium\", \"member\", \"million\", \"million\", \"minister\", \"minister\", \"minister\", \"minister\", \"minister\", \"minister\", \"minority\", \"minority\", \"minority\", \"minority\", \"modidocumentaryrow\", \"modidocumentaryrow\", \"modidocumentaryrow\", \"modidocumentaryrow\", \"modidocumentaryrow\", \"modiquestion\", \"moment\", \"money\", \"money\", \"moral\", \"motherland\", \"mouthpiece\", \"movie\", \"movie\", \"movie\", \"movie\", \"movie\", \"movie\", \"much\", \"much\", \"much\", \"much\", \"much\", \"murderer\", \"musk\", \"muslimsbbcdocumentary\", \"name\", \"narendramodi\", \"narendramodi\", \"narendramodi\", \"narendramodi\", \"narendramodi\", \"narrative\", \"narrative\", \"narrative\", \"nationa\", \"national\", \"national\", \"national\", \"nazi\", \"nazi\", \"necessary\", \"new\", \"new\", \"new\", \"new\", \"new\", \"new\", \"new\", \"news\", \"news\", \"news\", \"news\", \"news\", \"news\", \"news\", \"night\", \"noise\", \"notice\", \"old\", \"old\", \"old\", \"old\", \"one\", \"one\", \"onwinston\", \"order\", \"order\", \"order\", \"org\", \"other\", \"panic\", \"part\", \"part\", \"part\", \"part\", \"part\", \"part\", \"part\", \"party\", \"party\", \"party\", \"party\", \"party\", \"past\", \"peddler\", \"people\", \"people\", \"people\", \"people\", \"people\", \"people\", \"people\", \"people\", \"permission\", \"perspective\", \"petition\", \"petition\", \"play\", \"pm\", \"pm\", \"pm\", \"pm\", \"pm\", \"pm\", \"pm\", \"policy\", \"policy\", \"political\", \"political\", \"political\", \"political\", \"political\", \"politician\", \"popular\", \"possible\", \"possible\", \"power\", \"power\", \"power\", \"power\", \"power\", \"power\", \"power\", \"powerful\", \"present\", \"present\", \"present\", \"present\", \"present\", \"present\", \"press\", \"press\", \"press\", \"pressure\", \"prime\", \"prime\", \"prime\", \"prime\", \"prime\", \"probe\", \"probe\", \"probe\", \"probe\", \"problem\", \"programme\", \"project\", \"propaganda\", \"propaganda\", \"propaganda\", \"propaganda\", \"propaganda\", \"propaganda\", \"public\", \"public\", \"public\", \"question\", \"question\", \"question\", \"question\", \"question\", \"question\", \"question\", \"r\", \"r\", \"r\", \"r\", \"ramesh\", \"ramesh\", \"reality\", \"reason\", \"reason\", \"reason\", \"reason\", \"reason\", \"reason\", \"recent\", \"recent\", \"regret\", \"relation\", \"relation\", \"relationsh\", \"relationship\", \"release\", \"remove\", \"renegade\", \"report\", \"report\", \"report\", \"report\", \"report\", \"reporting\", \"research\", \"responsible\", \"responsible\", \"responsible\", \"responsible\", \"right\", \"right\", \"right\", \"right\", \"riot\", \"riot\", \"riot\", \"riot\", \"riot\", \"riot\", \"riot\", \"riot\", \"role\", \"role\", \"role\", \"role\", \"role\", \"rrr\", \"rule\", \"rule\", \"rule\", \"rule\", \"russian\", \"salute\", \"school\", \"screen\", \"screen\", \"screen\", \"screen\", \"screening\", \"segment\", \"senior\", \"sense\", \"series\", \"series\", \"shah\", \"shameless\", \"shipment\", \"sign\", \"sikh\", \"sikh\", \"slave\", \"small\", \"smart\", \"sobo\", \"social\", \"social\", \"space\", \"special\", \"statement\", \"statement\", \"straight\", \"strong\", \"student\", \"student\", \"student\", \"student\", \"student\", \"student\", \"student\", \"superpower\", \"talk\", \"talk\", \"tall\", \"team\", \"technology\", \"tension\", \"terrorist\", \"terrorist\", \"theory\", \"thing\", \"thing\", \"thing\", \"thing\", \"third\", \"time\", \"time\", \"time\", \"time\", \"time\", \"time\", \"time\", \"today\", \"today\", \"today\", \"today\", \"today\", \"toelectricityshutdownklrahulathiyashettywedding\", \"tonight\", \"trillion\", \"trouble\", \"troubled\", \"troubled\", \"troubled\", \"true\", \"true\", \"true\", \"true\", \"true\", \"true\", \"trust\", \"truth\", \"truth\", \"truth\", \"truth\", \"truth\", \"truth\", \"truth\", \"truth\", \"tweet\", \"tweet\", \"twitter\", \"twitter\", \"twitter\", \"twitter\", \"type\", \"u\", \"unacceptable\", \"union\", \"unive\", \"university\", \"university\", \"university\", \"university\", \"university\", \"university\", \"unrest\", \"use\", \"validation\", \"various\", \"varsity\", \"video\", \"video\", \"video\", \"video\", \"video\", \"video\", \"video\", \"vital\", \"vital\", \"vital\", \"vote\", \"vote\", \"vote\", \"w\", \"w\", \"w\", \"w\", \"war\", \"way\", \"way\", \"way\", \"way\", \"way\", \"western\", \"western\", \"whatsapp\", \"wi\", \"woman\", \"woman\", \"woman\", \"woman\", \"woman\", \"wonder\", \"wonder\", \"world\", \"world\", \"world\", \"world\", \"world\", \"world\", \"year\", \"year\", \"year\", \"year\", \"year\", \"yr\"]}, \"R\": 30, \"lambda.step\": 0.01, \"plot.opts\": {\"xlab\": \"PC1\", \"ylab\": \"PC2\"}, \"topic.order\": [2, 1, 4, 5, 7, 3, 8, 6]};\n",
       "\n",
       "function LDAvis_load_lib(url, callback){\n",
       "  var s = document.createElement('script');\n",
       "  s.src = url;\n",
       "  s.async = true;\n",
       "  s.onreadystatechange = s.onload = callback;\n",
       "  s.onerror = function(){console.warn(\"failed to load library \" + url);};\n",
       "  document.getElementsByTagName(\"head\")[0].appendChild(s);\n",
       "}\n",
       "\n",
       "if(typeof(LDAvis) !== \"undefined\"){\n",
       "   // already loaded: just create the visualization\n",
       "   !function(LDAvis){\n",
       "       new LDAvis(\"#\" + \"ldavis_el607627425512009286255691979\", ldavis_el607627425512009286255691979_data);\n",
       "   }(LDAvis);\n",
       "}else if(typeof define === \"function\" && define.amd){\n",
       "   // require.js is available: use it to load d3/LDAvis\n",
       "   require.config({paths: {d3: \"https://d3js.org/d3.v5\"}});\n",
       "   require([\"d3\"], function(d3){\n",
       "      window.d3 = d3;\n",
       "      LDAvis_load_lib(\"https://cdn.jsdelivr.net/gh/bmabey/pyLDAvis@3.3.1/pyLDAvis/js/ldavis.v3.0.0.js\", function(){\n",
       "        new LDAvis(\"#\" + \"ldavis_el607627425512009286255691979\", ldavis_el607627425512009286255691979_data);\n",
       "      });\n",
       "    });\n",
       "}else{\n",
       "    // require.js not available: dynamically load d3 & LDAvis\n",
       "    LDAvis_load_lib(\"https://d3js.org/d3.v5.js\", function(){\n",
       "         LDAvis_load_lib(\"https://cdn.jsdelivr.net/gh/bmabey/pyLDAvis@3.3.1/pyLDAvis/js/ldavis.v3.0.0.js\", function(){\n",
       "                 new LDAvis(\"#\" + \"ldavis_el607627425512009286255691979\", ldavis_el607627425512009286255691979_data);\n",
       "            })\n",
       "         });\n",
       "}\n",
       "</script>"
      ],
      "text/plain": [
       "PreparedData(topic_coordinates=              x         y  topics  cluster       Freq\n",
       "topic                                                \n",
       "1      0.036690 -0.016752       1        1  19.645884\n",
       "0      0.082354  0.149475       2        1  14.768919\n",
       "3      0.000170 -0.117828       3        1  13.532323\n",
       "4      0.008653 -0.088187       4        1  12.569633\n",
       "6      0.047410 -0.005824       5        1  11.325018\n",
       "2     -0.003297  0.005029       6        1  10.043124\n",
       "7      0.045613  0.020903       7        1   9.768143\n",
       "5     -0.217593  0.053186       8        1   8.346957, topic_info=                Term         Freq        Total Category  logprob  loglift\n",
       "9        documentary   238.000000   238.000000  Default  30.0000  30.0000\n",
       "1     bbcdocumentary  1044.000000  1044.000000  Default  29.0000  29.0000\n",
       "84              file    37.000000    37.000000  Default  28.0000  28.0000\n",
       "1548       britisher    24.000000    24.000000  Default  27.0000  27.0000\n",
       "136             riot    99.000000    99.000000  Default  26.0000  26.0000\n",
       "...              ...          ...          ...      ...      ...      ...\n",
       "54               new     4.846058    19.308634   Topic8  -5.1611   1.1009\n",
       "141         colonial     4.572998    21.137270   Topic8  -5.2191   0.9524\n",
       "1     bbcdocumentary     6.677977  1044.068831   Topic8  -4.8405  -2.5688\n",
       "949            happy     3.989472     7.348316   Topic8  -5.3556   1.8725\n",
       "526            today     3.978749    19.991100   Topic8  -5.3583   0.8690\n",
       "\n",
       "[457 rows x 6 columns], token_table=      Topic      Freq        Term\n",
       "term                             \n",
       "1895      7  0.925483        able\n",
       "1790      3  0.861708  acceptable\n",
       "2152      3  0.805563      access\n",
       "794       1  0.181232     account\n",
       "794       8  0.724928     account\n",
       "...     ...       ...         ...\n",
       "38        3  0.239547        year\n",
       "38        6  0.149717        year\n",
       "38        7  0.089830        year\n",
       "38        8  0.299434        year\n",
       "631       5  0.809302          yr\n",
       "\n",
       "[815 rows x 3 columns], R=30, lambda_step=0.01, plot_opts={'xlab': 'PC1', 'ylab': 'PC2'}, topic_order=[2, 1, 4, 5, 7, 3, 8, 6])"
      ]
     },
     "execution_count": 224,
     "metadata": {},
     "output_type": "execute_result"
    }
   ],
   "source": [
    "# Visualize the topics\n",
    "pyLDAvis.enable_notebook()\n",
    "vis = gensimvis.prepare(optimal_model, doc_term_matrix, dictionary)\n",
    "vis"
   ]
  },
  {
   "cell_type": "markdown",
   "id": "6de4b34e",
   "metadata": {},
   "source": [
    "# Interpretation and choosing best model"
   ]
  },
  {
   "cell_type": "markdown",
   "id": "0451a7c4",
   "metadata": {},
   "source": [
    "The coherence score for the model with 5 topics is 0.5525 and the coherence score for the model with 8 topics is 0.5753. While the coherence score for the model with 8 topics is slightly higher, the model with 5 topics is producing distinct topics and the model with 8 topics is producing overlapping topics.\n",
    "\n",
    "It's important to consider the interpretability and meaningfulness of the topics produced by the model. Distinct and non-overlapping topics are generally considered to be more interpretable and meaningful than overlapping topics. In this case, the model with 5 topics producing distinct topics could be considered better than the model with 8 topics producing overlapping topics, even if the coherence score for the model with 8 topics is slightly higher."
   ]
  },
  {
   "cell_type": "markdown",
   "id": "b4211ec1",
   "metadata": {},
   "source": [
    "So we continue the topic modelling with number of topics=5."
   ]
  },
  {
   "cell_type": "code",
   "execution_count": 231,
   "id": "ba623818",
   "metadata": {},
   "outputs": [],
   "source": [
    "LDA2 = LatentDirichletAllocation(n_components=5,random_state=42)"
   ]
  },
  {
   "cell_type": "code",
   "execution_count": 232,
   "id": "2b0a99ed",
   "metadata": {},
   "outputs": [
    {
     "data": {
      "text/plain": [
       "LatentDirichletAllocation(n_components=5, random_state=42)"
      ]
     },
     "execution_count": 232,
     "metadata": {},
     "output_type": "execute_result"
    }
   ],
   "source": [
    "LDA2.fit(dtm)"
   ]
  },
  {
   "cell_type": "code",
   "execution_count": 233,
   "id": "047a1cfa",
   "metadata": {},
   "outputs": [
    {
     "data": {
      "text/plain": [
       "array([[0.20090818, 3.1999807 , 4.19903111, ..., 0.20398974, 0.2000049 ,\n",
       "        0.20000196],\n",
       "       [0.2020981 , 0.20000351, 0.20000453, ..., 0.20000565, 0.20000536,\n",
       "        0.20000205],\n",
       "       [6.19549329, 0.20000517, 0.20000669, ..., 0.20000808, 0.20000742,\n",
       "        0.20000314],\n",
       "       [0.20001458, 0.20000647, 0.20095217, ..., 0.20001125, 9.14877174,\n",
       "        2.19999058],\n",
       "       [0.20148585, 0.20000415, 0.2000055 , ..., 2.19598528, 1.25121058,\n",
       "        0.20000227]])"
      ]
     },
     "execution_count": 233,
     "metadata": {},
     "output_type": "execute_result"
    }
   ],
   "source": [
    "LDA2.components_"
   ]
  },
  {
   "cell_type": "code",
   "execution_count": 234,
   "id": "047b1524",
   "metadata": {},
   "outputs": [
    {
     "data": {
      "text/plain": [
       "(5, 2020)"
      ]
     },
     "execution_count": 234,
     "metadata": {},
     "output_type": "execute_result"
    }
   ],
   "source": [
    "LDA2.components_.shape"
   ]
  },
  {
   "cell_type": "code",
   "execution_count": 235,
   "id": "c1a56255",
   "metadata": {},
   "outputs": [],
   "source": [
    "single_topic = LDA2.components_[0]"
   ]
  },
  {
   "cell_type": "code",
   "execution_count": 236,
   "id": "d84d17af",
   "metadata": {},
   "outputs": [
    {
     "data": {
      "text/plain": [
       "array([1661, 1027,  309, ...,  157,  538,  154], dtype=int64)"
      ]
     },
     "execution_count": 236,
     "metadata": {},
     "output_type": "execute_result"
    }
   ],
   "source": [
    "single_topic.argsort()"
   ]
  },
  {
   "cell_type": "code",
   "execution_count": 237,
   "id": "fb387985",
   "metadata": {},
   "outputs": [
    {
     "data": {
      "text/plain": [
       "array([1414,  650, 1393, 1148, 1347,  890, 1160,  157,  538,  154],\n",
       "      dtype=int64)"
      ]
     },
     "execution_count": 237,
     "metadata": {},
     "output_type": "execute_result"
    }
   ],
   "source": [
    "single_topic.argsort()[-10:]"
   ]
  },
  {
   "cell_type": "code",
   "execution_count": 238,
   "id": "84cb26e0",
   "metadata": {},
   "outputs": [],
   "source": [
    "top_word_indices = single_topic.argsort()[-10:]"
   ]
  },
  {
   "cell_type": "code",
   "execution_count": 239,
   "id": "0f41b61e",
   "metadata": {},
   "outputs": [
    {
     "data": {
      "text/plain": [
       "(2535, 2020)"
      ]
     },
     "execution_count": 239,
     "metadata": {},
     "output_type": "execute_result"
    }
   ],
   "source": [
    "dtm.shape"
   ]
  },
  {
   "cell_type": "code",
   "execution_count": 240,
   "id": "dc3f00e2",
   "metadata": {},
   "outputs": [],
   "source": [
    "topic_results = LDA2.transform(dtm)"
   ]
  },
  {
   "cell_type": "code",
   "execution_count": 241,
   "id": "6160379b",
   "metadata": {},
   "outputs": [
    {
     "data": {
      "text/plain": [
       "(2535, 5)"
      ]
     },
     "execution_count": 241,
     "metadata": {},
     "output_type": "execute_result"
    }
   ],
   "source": [
    "topic_results.shape"
   ]
  },
  {
   "cell_type": "code",
   "execution_count": 252,
   "id": "7cd0e9eb",
   "metadata": {},
   "outputs": [
    {
     "data": {
      "text/plain": [
       "array([0.04136708, 0.7371873 , 0.13806118, 0.04207307, 0.04131137])"
      ]
     },
     "execution_count": 252,
     "metadata": {},
     "output_type": "execute_result"
    }
   ],
   "source": [
    "topic_results[1]"
   ]
  },
  {
   "cell_type": "code",
   "execution_count": 253,
   "id": "96cc94a6",
   "metadata": {},
   "outputs": [
    {
     "data": {
      "text/plain": [
       "array([0.04, 0.74, 0.14, 0.04, 0.04])"
      ]
     },
     "execution_count": 253,
     "metadata": {},
     "output_type": "execute_result"
    }
   ],
   "source": [
    "topic_results[1].round(2)"
   ]
  },
  {
   "cell_type": "code",
   "execution_count": 254,
   "id": "180c015d",
   "metadata": {},
   "outputs": [
    {
     "data": {
      "text/plain": [
       "1"
      ]
     },
     "execution_count": 254,
     "metadata": {},
     "output_type": "execute_result"
    }
   ],
   "source": [
    "topic_results[1].argmax()"
   ]
  },
  {
   "cell_type": "code",
   "execution_count": 255,
   "id": "da06c38c",
   "metadata": {},
   "outputs": [
    {
     "data": {
      "text/plain": [
       "array([1, 1, 0, ..., 3, 2, 0], dtype=int64)"
      ]
     },
     "execution_count": 255,
     "metadata": {},
     "output_type": "execute_result"
    }
   ],
   "source": [
    "topic_results.argmax(axis=1)"
   ]
  },
  {
   "cell_type": "code",
   "execution_count": 256,
   "id": "92cb7010",
   "metadata": {},
   "outputs": [],
   "source": [
    "npr['Topic'] = topic_results.argmax(axis=1)"
   ]
  },
  {
   "cell_type": "code",
   "execution_count": 257,
   "id": "15426988",
   "metadata": {
    "scrolled": false
   },
   "outputs": [
    {
     "data": {
      "text/html": [
       "<div>\n",
       "<style scoped>\n",
       "    .dataframe tbody tr th:only-of-type {\n",
       "        vertical-align: middle;\n",
       "    }\n",
       "\n",
       "    .dataframe tbody tr th {\n",
       "        vertical-align: top;\n",
       "    }\n",
       "\n",
       "    .dataframe thead th {\n",
       "        text-align: right;\n",
       "    }\n",
       "</style>\n",
       "<table border=\"1\" class=\"dataframe\">\n",
       "  <thead>\n",
       "    <tr style=\"text-align: right;\">\n",
       "      <th></th>\n",
       "      <th>Article</th>\n",
       "      <th>Topic</th>\n",
       "    </tr>\n",
       "  </thead>\n",
       "  <tbody>\n",
       "    <tr>\n",
       "      <th>2525</th>\n",
       "      <td>obviously generals forced sign petition show i...</td>\n",
       "      <td>1</td>\n",
       "    </tr>\n",
       "    <tr>\n",
       "      <th>2526</th>\n",
       "      <td>cm gujarat owaisi pm modi govt blocks bbc docu...</td>\n",
       "      <td>0</td>\n",
       "    </tr>\n",
       "    <tr>\n",
       "      <th>2527</th>\n",
       "      <td>inc inc modi declassified netajis file made co...</td>\n",
       "      <td>2</td>\n",
       "    </tr>\n",
       "    <tr>\n",
       "      <th>2528</th>\n",
       "      <td>reality minorities india safe majority n privi...</td>\n",
       "      <td>1</td>\n",
       "    </tr>\n",
       "    <tr>\n",
       "      <th>2529</th>\n",
       "      <td>goi ban government projects ultimate beneficia...</td>\n",
       "      <td>0</td>\n",
       "    </tr>\n",
       "    <tr>\n",
       "      <th>2530</th>\n",
       "      <td>bbcdocumentary series pm modi drawn harsh crit...</td>\n",
       "      <td>4</td>\n",
       "    </tr>\n",
       "    <tr>\n",
       "      <th>2531</th>\n",
       "      <td>airing controversial bbcdocumentary pm narendr...</td>\n",
       "      <td>2</td>\n",
       "    </tr>\n",
       "    <tr>\n",
       "      <th>2532</th>\n",
       "      <td>trickett lord rami ranger letter tim davie men...</td>\n",
       "      <td>3</td>\n",
       "    </tr>\n",
       "    <tr>\n",
       "      <th>2533</th>\n",
       "      <td>casting doubt islamist involvement godhra trai...</td>\n",
       "      <td>2</td>\n",
       "    </tr>\n",
       "    <tr>\n",
       "      <th>2534</th>\n",
       "      <td>robbiemoorelord rami ranger encouraged biasedb...</td>\n",
       "      <td>0</td>\n",
       "    </tr>\n",
       "  </tbody>\n",
       "</table>\n",
       "</div>"
      ],
      "text/plain": [
       "                                                Article  Topic\n",
       "2525  obviously generals forced sign petition show i...      1\n",
       "2526  cm gujarat owaisi pm modi govt blocks bbc docu...      0\n",
       "2527  inc inc modi declassified netajis file made co...      2\n",
       "2528  reality minorities india safe majority n privi...      1\n",
       "2529  goi ban government projects ultimate beneficia...      0\n",
       "2530  bbcdocumentary series pm modi drawn harsh crit...      4\n",
       "2531  airing controversial bbcdocumentary pm narendr...      2\n",
       "2532  trickett lord rami ranger letter tim davie men...      3\n",
       "2533  casting doubt islamist involvement godhra trai...      2\n",
       "2534  robbiemoorelord rami ranger encouraged biasedb...      0"
      ]
     },
     "execution_count": 257,
     "metadata": {},
     "output_type": "execute_result"
    }
   ],
   "source": [
    "npr.tail(10)"
   ]
  },
  {
   "cell_type": "markdown",
   "id": "8e48c094",
   "metadata": {},
   "source": [
    "The topic modelling of topics coded 0,1,2,3,4 is successfull"
   ]
  },
  {
   "cell_type": "markdown",
   "id": "04ad2e7f",
   "metadata": {},
   "source": [
    "# WORDCLOUD"
   ]
  },
  {
   "cell_type": "code",
   "execution_count": 259,
   "id": "28046cd4",
   "metadata": {},
   "outputs": [],
   "source": [
    "import matplotlib.pyplot as plt\n",
    "import numpy as np\n",
    "from nltk.corpus import stopwords\n",
    "from nltk.stem import WordNetLemmatizer,PorterStemmer\n",
    "from nltk.tokenize import word_tokenize\n",
    "from wordcloud import WordCloud, STOPWORDS\n",
    "import nltk\n",
    "\n",
    "def plot_wordcloud(text):\n",
    "    nltk.download('stopwords')\n",
    "    stop=set(stopwords.words('english'))\n",
    "\n",
    "    def _preprocess_text(text):\n",
    "        corpus=[]\n",
    "        stem=PorterStemmer()\n",
    "        lem=WordNetLemmatizer()\n",
    "        for news in text:\n",
    "            words=[w for w in word_tokenize(news) if (w not in stop)]\n",
    "\n",
    "            words=[lem.lemmatize(w) for w in words if len(w)>2]\n",
    "\n",
    "            corpus.append(words)\n",
    "        return corpus\n",
    "    \n",
    "    corpus=_preprocess_text(text)\n",
    "    \n",
    "    wordcloud = WordCloud(\n",
    "        background_color='white',\n",
    "        stopwords=set(STOPWORDS),\n",
    "        max_words=100,\n",
    "        max_font_size=30, \n",
    "        scale=3,\n",
    "        random_state=1)\n",
    "    \n",
    "    wordcloud=wordcloud.generate(str(corpus))\n",
    "\n",
    "    fig = plt.figure(1, figsize=(12, 12))\n",
    "    plt.axis('off')\n",
    " \n",
    "    plt.imshow(wordcloud)\n",
    "    plt.show()"
   ]
  },
  {
   "cell_type": "code",
   "execution_count": 260,
   "id": "eb3e03ad",
   "metadata": {},
   "outputs": [],
   "source": [
    "import warnings\n",
    "warnings.filterwarnings('ignore')"
   ]
  },
  {
   "cell_type": "code",
   "execution_count": 261,
   "id": "68842e70",
   "metadata": {
    "scrolled": true
   },
   "outputs": [
    {
     "name": "stderr",
     "output_type": "stream",
     "text": [
      "[nltk_data] Downloading package stopwords to\n",
      "[nltk_data]     C:\\Users\\naikv\\AppData\\Roaming\\nltk_data...\n",
      "[nltk_data]   Package stopwords is already up-to-date!\n"
     ]
    },
    {
     "data": {
      "image/png": "[encoded data removed]",
      "text/plain": [
       "<Figure size 1200x1200 with 1 Axes>"
      ]
     },
     "metadata": {},
     "output_type": "display_data"
    }
   ],
   "source": [
    "warnings.filterwarnings('ignore')\n",
    "plot_wordcloud(npr['Article'])"
   ]
  },
  {
   "cell_type": "markdown",
   "id": "6ab521f3",
   "metadata": {},
   "source": [
    "A word cloud (also known as a tag cloud) is a visual representation of the most frequently occurring words in a text or a dataset. It is a way to visualize the most important words in a text by displaying them in a way that the size of the word corresponds to its frequency.\n",
    "\n",
    "Typically, the words that appear more frequently in a text are displayed in a larger font size, and the words that appear less frequently are displayed in a smaller font size. The word cloud can be used to quickly identify the main themes or topics in a text, as the most frequently occurring words are often the most important ones"
   ]
  },
  {
   "cell_type": "markdown",
   "id": "a49e7658",
   "metadata": {},
   "source": [
    "# SENTIMENT ANALYSIS"
   ]
  },
  {
   "cell_type": "markdown",
   "id": "091b8086",
   "metadata": {},
   "source": [
    "VADER (Valence Aware Dictionary and sEntiment Reasoner) is a lexicon-based sentiment analysis tool that is specifically attuned to sentiments expressed in social media. It is a pre-trained model that can be used to classify text as having a positive, negative, or neutral sentiment.\n",
    "\n",
    "VADER uses a combination of lexical heuristics and a trained model to determine the sentiment of text. It looks at the words used in the text, as well as the context and grammar, to determine the overall sentiment. It uses a combination of positive, negative, and neutral words to determine the sentiment of the text."
   ]
  },
  {
   "cell_type": "code",
   "execution_count": 262,
   "id": "faf8a23f",
   "metadata": {},
   "outputs": [],
   "source": [
    "npr.rename(columns={'Article': 'tweet'}, inplace=True)"
   ]
  },
  {
   "cell_type": "code",
   "execution_count": 263,
   "id": "9c6158c0",
   "metadata": {
    "scrolled": true
   },
   "outputs": [
    {
     "data": {
      "text/html": [
       "<div>\n",
       "<style scoped>\n",
       "    .dataframe tbody tr th:only-of-type {\n",
       "        vertical-align: middle;\n",
       "    }\n",
       "\n",
       "    .dataframe tbody tr th {\n",
       "        vertical-align: top;\n",
       "    }\n",
       "\n",
       "    .dataframe thead th {\n",
       "        text-align: right;\n",
       "    }\n",
       "</style>\n",
       "<table border=\"1\" class=\"dataframe\">\n",
       "  <thead>\n",
       "    <tr style=\"text-align: right;\">\n",
       "      <th></th>\n",
       "      <th>tweet</th>\n",
       "      <th>Topic</th>\n",
       "    </tr>\n",
       "  </thead>\n",
       "  <tbody>\n",
       "    <tr>\n",
       "      <th>2530</th>\n",
       "      <td>bbcdocumentary series pm modi drawn harsh crit...</td>\n",
       "      <td>4</td>\n",
       "    </tr>\n",
       "    <tr>\n",
       "      <th>2531</th>\n",
       "      <td>airing controversial bbcdocumentary pm narendr...</td>\n",
       "      <td>2</td>\n",
       "    </tr>\n",
       "    <tr>\n",
       "      <th>2532</th>\n",
       "      <td>trickett lord rami ranger letter tim davie men...</td>\n",
       "      <td>3</td>\n",
       "    </tr>\n",
       "    <tr>\n",
       "      <th>2533</th>\n",
       "      <td>casting doubt islamist involvement godhra trai...</td>\n",
       "      <td>2</td>\n",
       "    </tr>\n",
       "    <tr>\n",
       "      <th>2534</th>\n",
       "      <td>robbiemoorelord rami ranger encouraged biasedb...</td>\n",
       "      <td>0</td>\n",
       "    </tr>\n",
       "  </tbody>\n",
       "</table>\n",
       "</div>"
      ],
      "text/plain": [
       "                                                  tweet  Topic\n",
       "2530  bbcdocumentary series pm modi drawn harsh crit...      4\n",
       "2531  airing controversial bbcdocumentary pm narendr...      2\n",
       "2532  trickett lord rami ranger letter tim davie men...      3\n",
       "2533  casting doubt islamist involvement godhra trai...      2\n",
       "2534  robbiemoorelord rami ranger encouraged biasedb...      0"
      ]
     },
     "execution_count": 263,
     "metadata": {},
     "output_type": "execute_result"
    }
   ],
   "source": [
    "npr.tail()"
   ]
  },
  {
   "cell_type": "code",
   "execution_count": 265,
   "id": "8e9ca4ed",
   "metadata": {
    "scrolled": true
   },
   "outputs": [
    {
     "name": "stdout",
     "output_type": "stream",
     "text": [
      "BBCdocumentary : Sentiment(polarity=0.0, subjectivity=0.0)\n"
     ]
    }
   ],
   "source": [
    "textblob1 = TextBlob(npr[\"tweet\"][0])\n",
    "print(\"BBCdocumentary :\",textblob1.sentiment)"
   ]
  },
  {
   "cell_type": "code",
   "execution_count": 266,
   "id": "e2f96cfe",
   "metadata": {},
   "outputs": [],
   "source": [
    "def find_pol(review):\n",
    "    return TextBlob(review).sentiment.polarity"
   ]
  },
  {
   "cell_type": "code",
   "execution_count": 267,
   "id": "19b2adb8",
   "metadata": {},
   "outputs": [],
   "source": [
    "npr[\"Sentiment Polarity\"] = npr[\"tweet\"].apply(find_pol)"
   ]
  },
  {
   "cell_type": "code",
   "execution_count": 268,
   "id": "adb0505e",
   "metadata": {
    "scrolled": true
   },
   "outputs": [
    {
     "data": {
      "text/html": [
       "<div>\n",
       "<style scoped>\n",
       "    .dataframe tbody tr th:only-of-type {\n",
       "        vertical-align: middle;\n",
       "    }\n",
       "\n",
       "    .dataframe tbody tr th {\n",
       "        vertical-align: top;\n",
       "    }\n",
       "\n",
       "    .dataframe thead th {\n",
       "        text-align: right;\n",
       "    }\n",
       "</style>\n",
       "<table border=\"1\" class=\"dataframe\">\n",
       "  <thead>\n",
       "    <tr style=\"text-align: right;\">\n",
       "      <th></th>\n",
       "      <th>tweet</th>\n",
       "      <th>Topic</th>\n",
       "      <th>Sentiment Polarity</th>\n",
       "    </tr>\n",
       "  </thead>\n",
       "  <tbody>\n",
       "    <tr>\n",
       "      <th>2525</th>\n",
       "      <td>obviously generals forced sign petition show i...</td>\n",
       "      <td>1</td>\n",
       "      <td>-0.15</td>\n",
       "    </tr>\n",
       "    <tr>\n",
       "      <th>2526</th>\n",
       "      <td>cm gujarat owaisi pm modi govt blocks bbc docu...</td>\n",
       "      <td>0</td>\n",
       "      <td>0.00</td>\n",
       "    </tr>\n",
       "    <tr>\n",
       "      <th>2527</th>\n",
       "      <td>inc inc modi declassified netajis file made co...</td>\n",
       "      <td>2</td>\n",
       "      <td>0.00</td>\n",
       "    </tr>\n",
       "    <tr>\n",
       "      <th>2528</th>\n",
       "      <td>reality minorities india safe majority n privi...</td>\n",
       "      <td>1</td>\n",
       "      <td>0.50</td>\n",
       "    </tr>\n",
       "    <tr>\n",
       "      <th>2529</th>\n",
       "      <td>goi ban government projects ultimate beneficia...</td>\n",
       "      <td>0</td>\n",
       "      <td>0.00</td>\n",
       "    </tr>\n",
       "    <tr>\n",
       "      <th>2530</th>\n",
       "      <td>bbcdocumentary series pm modi drawn harsh crit...</td>\n",
       "      <td>4</td>\n",
       "      <td>-0.20</td>\n",
       "    </tr>\n",
       "    <tr>\n",
       "      <th>2531</th>\n",
       "      <td>airing controversial bbcdocumentary pm narendr...</td>\n",
       "      <td>2</td>\n",
       "      <td>0.55</td>\n",
       "    </tr>\n",
       "    <tr>\n",
       "      <th>2532</th>\n",
       "      <td>trickett lord rami ranger letter tim davie men...</td>\n",
       "      <td>3</td>\n",
       "      <td>0.00</td>\n",
       "    </tr>\n",
       "    <tr>\n",
       "      <th>2533</th>\n",
       "      <td>casting doubt islamist involvement godhra trai...</td>\n",
       "      <td>2</td>\n",
       "      <td>0.00</td>\n",
       "    </tr>\n",
       "    <tr>\n",
       "      <th>2534</th>\n",
       "      <td>robbiemoorelord rami ranger encouraged biasedb...</td>\n",
       "      <td>0</td>\n",
       "      <td>0.00</td>\n",
       "    </tr>\n",
       "  </tbody>\n",
       "</table>\n",
       "</div>"
      ],
      "text/plain": [
       "                                                  tweet  Topic  \\\n",
       "2525  obviously generals forced sign petition show i...      1   \n",
       "2526  cm gujarat owaisi pm modi govt blocks bbc docu...      0   \n",
       "2527  inc inc modi declassified netajis file made co...      2   \n",
       "2528  reality minorities india safe majority n privi...      1   \n",
       "2529  goi ban government projects ultimate beneficia...      0   \n",
       "2530  bbcdocumentary series pm modi drawn harsh crit...      4   \n",
       "2531  airing controversial bbcdocumentary pm narendr...      2   \n",
       "2532  trickett lord rami ranger letter tim davie men...      3   \n",
       "2533  casting doubt islamist involvement godhra trai...      2   \n",
       "2534  robbiemoorelord rami ranger encouraged biasedb...      0   \n",
       "\n",
       "      Sentiment Polarity  \n",
       "2525               -0.15  \n",
       "2526                0.00  \n",
       "2527                0.00  \n",
       "2528                0.50  \n",
       "2529                0.00  \n",
       "2530               -0.20  \n",
       "2531                0.55  \n",
       "2532                0.00  \n",
       "2533                0.00  \n",
       "2534                0.00  "
      ]
     },
     "execution_count": 268,
     "metadata": {},
     "output_type": "execute_result"
    }
   ],
   "source": [
    "npr.tail(10)"
   ]
  },
  {
   "cell_type": "code",
   "execution_count": 269,
   "id": "f8bbe757",
   "metadata": {},
   "outputs": [],
   "source": [
    "npr[\"Expression Label\"] = np.where(npr[\"Sentiment Polarity\"]>0, \"positive\", \"negative\")"
   ]
  },
  {
   "cell_type": "code",
   "execution_count": 270,
   "id": "872634d2",
   "metadata": {},
   "outputs": [],
   "source": [
    "npr[\"Expression Label\"] = np.where(npr[\"Sentiment Polarity\"]==0, \"neutral\",npr[\"Expression Label\"])"
   ]
  },
  {
   "cell_type": "code",
   "execution_count": 271,
   "id": "43e3985d",
   "metadata": {
    "scrolled": true
   },
   "outputs": [
    {
     "data": {
      "text/html": [
       "<div>\n",
       "<style scoped>\n",
       "    .dataframe tbody tr th:only-of-type {\n",
       "        vertical-align: middle;\n",
       "    }\n",
       "\n",
       "    .dataframe tbody tr th {\n",
       "        vertical-align: top;\n",
       "    }\n",
       "\n",
       "    .dataframe thead th {\n",
       "        text-align: right;\n",
       "    }\n",
       "</style>\n",
       "<table border=\"1\" class=\"dataframe\">\n",
       "  <thead>\n",
       "    <tr style=\"text-align: right;\">\n",
       "      <th></th>\n",
       "      <th>tweet</th>\n",
       "      <th>Topic</th>\n",
       "      <th>Sentiment Polarity</th>\n",
       "      <th>Expression Label</th>\n",
       "    </tr>\n",
       "  </thead>\n",
       "  <tbody>\n",
       "    <tr>\n",
       "      <th>2525</th>\n",
       "      <td>obviously generals forced sign petition show i...</td>\n",
       "      <td>1</td>\n",
       "      <td>-0.15</td>\n",
       "      <td>negative</td>\n",
       "    </tr>\n",
       "    <tr>\n",
       "      <th>2526</th>\n",
       "      <td>cm gujarat owaisi pm modi govt blocks bbc docu...</td>\n",
       "      <td>0</td>\n",
       "      <td>0.00</td>\n",
       "      <td>neutral</td>\n",
       "    </tr>\n",
       "    <tr>\n",
       "      <th>2527</th>\n",
       "      <td>inc inc modi declassified netajis file made co...</td>\n",
       "      <td>2</td>\n",
       "      <td>0.00</td>\n",
       "      <td>neutral</td>\n",
       "    </tr>\n",
       "    <tr>\n",
       "      <th>2528</th>\n",
       "      <td>reality minorities india safe majority n privi...</td>\n",
       "      <td>1</td>\n",
       "      <td>0.50</td>\n",
       "      <td>positive</td>\n",
       "    </tr>\n",
       "    <tr>\n",
       "      <th>2529</th>\n",
       "      <td>goi ban government projects ultimate beneficia...</td>\n",
       "      <td>0</td>\n",
       "      <td>0.00</td>\n",
       "      <td>neutral</td>\n",
       "    </tr>\n",
       "    <tr>\n",
       "      <th>2530</th>\n",
       "      <td>bbcdocumentary series pm modi drawn harsh crit...</td>\n",
       "      <td>4</td>\n",
       "      <td>-0.20</td>\n",
       "      <td>negative</td>\n",
       "    </tr>\n",
       "    <tr>\n",
       "      <th>2531</th>\n",
       "      <td>airing controversial bbcdocumentary pm narendr...</td>\n",
       "      <td>2</td>\n",
       "      <td>0.55</td>\n",
       "      <td>positive</td>\n",
       "    </tr>\n",
       "    <tr>\n",
       "      <th>2532</th>\n",
       "      <td>trickett lord rami ranger letter tim davie men...</td>\n",
       "      <td>3</td>\n",
       "      <td>0.00</td>\n",
       "      <td>neutral</td>\n",
       "    </tr>\n",
       "    <tr>\n",
       "      <th>2533</th>\n",
       "      <td>casting doubt islamist involvement godhra trai...</td>\n",
       "      <td>2</td>\n",
       "      <td>0.00</td>\n",
       "      <td>neutral</td>\n",
       "    </tr>\n",
       "    <tr>\n",
       "      <th>2534</th>\n",
       "      <td>robbiemoorelord rami ranger encouraged biasedb...</td>\n",
       "      <td>0</td>\n",
       "      <td>0.00</td>\n",
       "      <td>neutral</td>\n",
       "    </tr>\n",
       "  </tbody>\n",
       "</table>\n",
       "</div>"
      ],
      "text/plain": [
       "                                                  tweet  Topic  \\\n",
       "2525  obviously generals forced sign petition show i...      1   \n",
       "2526  cm gujarat owaisi pm modi govt blocks bbc docu...      0   \n",
       "2527  inc inc modi declassified netajis file made co...      2   \n",
       "2528  reality minorities india safe majority n privi...      1   \n",
       "2529  goi ban government projects ultimate beneficia...      0   \n",
       "2530  bbcdocumentary series pm modi drawn harsh crit...      4   \n",
       "2531  airing controversial bbcdocumentary pm narendr...      2   \n",
       "2532  trickett lord rami ranger letter tim davie men...      3   \n",
       "2533  casting doubt islamist involvement godhra trai...      2   \n",
       "2534  robbiemoorelord rami ranger encouraged biasedb...      0   \n",
       "\n",
       "      Sentiment Polarity Expression Label  \n",
       "2525               -0.15         negative  \n",
       "2526                0.00          neutral  \n",
       "2527                0.00          neutral  \n",
       "2528                0.50         positive  \n",
       "2529                0.00          neutral  \n",
       "2530               -0.20         negative  \n",
       "2531                0.55         positive  \n",
       "2532                0.00          neutral  \n",
       "2533                0.00          neutral  \n",
       "2534                0.00          neutral  "
      ]
     },
     "execution_count": 271,
     "metadata": {},
     "output_type": "execute_result"
    }
   ],
   "source": [
    "npr.tail(10)"
   ]
  },
  {
   "cell_type": "markdown",
   "id": "88f79815",
   "metadata": {},
   "source": [
    "Now we have to filter out the neutral data and keep only positive and negative expression labelled tweets for a better analysis"
   ]
  },
  {
   "cell_type": "code",
   "execution_count": 274,
   "id": "bb15ce12",
   "metadata": {},
   "outputs": [],
   "source": [
    "filter=npr['Expression Label']!='neutral'\n",
    "data=npr[filter]"
   ]
  },
  {
   "cell_type": "code",
   "execution_count": 275,
   "id": "141ec118",
   "metadata": {
    "scrolled": true
   },
   "outputs": [
    {
     "data": {
      "text/html": [
       "<div>\n",
       "<style scoped>\n",
       "    .dataframe tbody tr th:only-of-type {\n",
       "        vertical-align: middle;\n",
       "    }\n",
       "\n",
       "    .dataframe tbody tr th {\n",
       "        vertical-align: top;\n",
       "    }\n",
       "\n",
       "    .dataframe thead th {\n",
       "        text-align: right;\n",
       "    }\n",
       "</style>\n",
       "<table border=\"1\" class=\"dataframe\">\n",
       "  <thead>\n",
       "    <tr style=\"text-align: right;\">\n",
       "      <th></th>\n",
       "      <th>tweet</th>\n",
       "      <th>Topic</th>\n",
       "      <th>Sentiment Polarity</th>\n",
       "      <th>Expression Label</th>\n",
       "    </tr>\n",
       "  </thead>\n",
       "  <tbody>\n",
       "    <tr>\n",
       "      <th>2509</th>\n",
       "      <td>azarofflord ranger stated producer bbcdocument...</td>\n",
       "      <td>0</td>\n",
       "      <td>-0.300000</td>\n",
       "      <td>negative</td>\n",
       "    </tr>\n",
       "    <tr>\n",
       "      <th>2511</th>\n",
       "      <td>ironyopposition believes bbc boring broadcasti...</td>\n",
       "      <td>4</td>\n",
       "      <td>-0.500000</td>\n",
       "      <td>negative</td>\n",
       "    </tr>\n",
       "    <tr>\n",
       "      <th>2512</th>\n",
       "      <td>could bbcdocumentary propaganda may becould mi...</td>\n",
       "      <td>0</td>\n",
       "      <td>-0.050000</td>\n",
       "      <td>negative</td>\n",
       "    </tr>\n",
       "    <tr>\n",
       "      <th>2513</th>\n",
       "      <td>lord rami ranger emphasised one right divide u...</td>\n",
       "      <td>0</td>\n",
       "      <td>0.342857</td>\n",
       "      <td>positive</td>\n",
       "    </tr>\n",
       "    <tr>\n",
       "      <th>2522</th>\n",
       "      <td>lord ranger stated producer bbcdocumentary lac...</td>\n",
       "      <td>0</td>\n",
       "      <td>-0.300000</td>\n",
       "      <td>negative</td>\n",
       "    </tr>\n",
       "    <tr>\n",
       "      <th>2524</th>\n",
       "      <td>people supporting modi bbcdocumentary people s...</td>\n",
       "      <td>4</td>\n",
       "      <td>0.250000</td>\n",
       "      <td>positive</td>\n",
       "    </tr>\n",
       "    <tr>\n",
       "      <th>2525</th>\n",
       "      <td>obviously generals forced sign petition show i...</td>\n",
       "      <td>1</td>\n",
       "      <td>-0.150000</td>\n",
       "      <td>negative</td>\n",
       "    </tr>\n",
       "    <tr>\n",
       "      <th>2528</th>\n",
       "      <td>reality minorities india safe majority n privi...</td>\n",
       "      <td>1</td>\n",
       "      <td>0.500000</td>\n",
       "      <td>positive</td>\n",
       "    </tr>\n",
       "    <tr>\n",
       "      <th>2530</th>\n",
       "      <td>bbcdocumentary series pm modi drawn harsh crit...</td>\n",
       "      <td>4</td>\n",
       "      <td>-0.200000</td>\n",
       "      <td>negative</td>\n",
       "    </tr>\n",
       "    <tr>\n",
       "      <th>2531</th>\n",
       "      <td>airing controversial bbcdocumentary pm narendr...</td>\n",
       "      <td>2</td>\n",
       "      <td>0.550000</td>\n",
       "      <td>positive</td>\n",
       "    </tr>\n",
       "  </tbody>\n",
       "</table>\n",
       "</div>"
      ],
      "text/plain": [
       "                                                  tweet  Topic  \\\n",
       "2509  azarofflord ranger stated producer bbcdocument...      0   \n",
       "2511  ironyopposition believes bbc boring broadcasti...      4   \n",
       "2512  could bbcdocumentary propaganda may becould mi...      0   \n",
       "2513  lord rami ranger emphasised one right divide u...      0   \n",
       "2522  lord ranger stated producer bbcdocumentary lac...      0   \n",
       "2524  people supporting modi bbcdocumentary people s...      4   \n",
       "2525  obviously generals forced sign petition show i...      1   \n",
       "2528  reality minorities india safe majority n privi...      1   \n",
       "2530  bbcdocumentary series pm modi drawn harsh crit...      4   \n",
       "2531  airing controversial bbcdocumentary pm narendr...      2   \n",
       "\n",
       "      Sentiment Polarity Expression Label  \n",
       "2509           -0.300000         negative  \n",
       "2511           -0.500000         negative  \n",
       "2512           -0.050000         negative  \n",
       "2513            0.342857         positive  \n",
       "2522           -0.300000         negative  \n",
       "2524            0.250000         positive  \n",
       "2525           -0.150000         negative  \n",
       "2528            0.500000         positive  \n",
       "2530           -0.200000         negative  \n",
       "2531            0.550000         positive  "
      ]
     },
     "execution_count": 275,
     "metadata": {},
     "output_type": "execute_result"
    }
   ],
   "source": [
    "data.tail(10)"
   ]
  },
  {
   "cell_type": "markdown",
   "id": "46d54142",
   "metadata": {},
   "source": [
    "# EDA"
   ]
  },
  {
   "cell_type": "code",
   "execution_count": 278,
   "id": "7f6b102a",
   "metadata": {},
   "outputs": [
    {
     "data": {
      "text/plain": [
       "(2535, 4)"
      ]
     },
     "execution_count": 278,
     "metadata": {},
     "output_type": "execute_result"
    }
   ],
   "source": [
    "npr.shape"
   ]
  },
  {
   "cell_type": "code",
   "execution_count": 279,
   "id": "5ff6820b",
   "metadata": {},
   "outputs": [
    {
     "data": {
      "text/plain": [
       "(1200, 4)"
      ]
     },
     "execution_count": 279,
     "metadata": {},
     "output_type": "execute_result"
    }
   ],
   "source": [
    "data.shape"
   ]
  },
  {
   "cell_type": "code",
   "execution_count": 280,
   "id": "d5d84841",
   "metadata": {
    "scrolled": true
   },
   "outputs": [
    {
     "data": {
      "text/plain": [
       "positive    659\n",
       "negative    541\n",
       "Name: Expression Label, dtype: int64"
      ]
     },
     "execution_count": 280,
     "metadata": {},
     "output_type": "execute_result"
    }
   ],
   "source": [
    "data['Expression Label'].value_counts()"
   ]
  },
  {
   "cell_type": "code",
   "execution_count": 281,
   "id": "dc81fb79",
   "metadata": {},
   "outputs": [
    {
     "data": {
      "text/plain": [
       "54.91666666666667"
      ]
     },
     "execution_count": 281,
     "metadata": {},
     "output_type": "execute_result"
    }
   ],
   "source": [
    "positive=(data['Expression Label'].value_counts()[0]/(659+541))*100\n",
    "positive"
   ]
  },
  {
   "cell_type": "code",
   "execution_count": 282,
   "id": "6ee96603",
   "metadata": {},
   "outputs": [
    {
     "data": {
      "text/plain": [
       "45.08333333333333"
      ]
     },
     "execution_count": 282,
     "metadata": {},
     "output_type": "execute_result"
    }
   ],
   "source": [
    "neg=100-positive\n",
    "neg"
   ]
  },
  {
   "cell_type": "code",
   "execution_count": 283,
   "id": "c4f2a83f",
   "metadata": {},
   "outputs": [],
   "source": [
    "import plotly.graph_objects as go\n",
    "import plotly.express as px\n"
   ]
  },
  {
   "cell_type": "code",
   "execution_count": 284,
   "id": "07c6aaf8",
   "metadata": {},
   "outputs": [],
   "source": [
    "key=['BBC Documentary']\n",
    "list_pos = [positive]\n",
    "list_neg = [neg]"
   ]
  },
  {
   "cell_type": "code",
   "execution_count": 285,
   "id": "2d9c8457",
   "metadata": {},
   "outputs": [
    {
     "data": {
      "application/vnd.plotly.v1+json": {
       "config": {
        "plotlyServerURL": "https://plot.ly"
       },
       "data": [
        {
         "name": "Positive",
         "type": "bar",
         "x": [
          "BBC Documentary"
         ],
         "y": [
          54.91666666666667
         ]
        },
        {
         "name": "Negative",
         "type": "bar",
         "x": [
          "BBC Documentary"
         ],
         "y": [
          45.08333333333333
         ]
        }
       ],
       "layout": {
        "template": {
         "data": {
          "bar": [
           {
            "error_x": {
             "color": "#2a3f5f"
            },
            "error_y": {
             "color": "#2a3f5f"
            },
            "marker": {
             "line": {
              "color": "#E5ECF6",
              "width": 0.5
             },
             "pattern": {
              "fillmode": "overlay",
              "size": 10,
              "solidity": 0.2
             }
            },
            "type": "bar"
           }
          ],
          "barpolar": [
           {
            "marker": {
             "line": {
              "color": "#E5ECF6",
              "width": 0.5
             },
             "pattern": {
              "fillmode": "overlay",
              "size": 10,
              "solidity": 0.2
             }
            },
            "type": "barpolar"
           }
          ],
          "carpet": [
           {
            "aaxis": {
             "endlinecolor": "#2a3f5f",
             "gridcolor": "white",
             "linecolor": "white",
             "minorgridcolor": "white",
             "startlinecolor": "#2a3f5f"
            },
            "baxis": {
             "endlinecolor": "#2a3f5f",
             "gridcolor": "white",
             "linecolor": "white",
             "minorgridcolor": "white",
             "startlinecolor": "#2a3f5f"
            },
            "type": "carpet"
           }
          ],
          "choropleth": [
           {
            "colorbar": {
             "outlinewidth": 0,
             "ticks": ""
            },
            "type": "choropleth"
           }
          ],
          "contour": [
           {
            "colorbar": {
             "outlinewidth": 0,
             "ticks": ""
            },
            "colorscale": [
             [
              0,
              "#0d0887"
             ],
             [
              0.1111111111111111,
              "#46039f"
             ],
             [
              0.2222222222222222,
              "#7201a8"
             ],
             [
              0.3333333333333333,
              "#9c179e"
             ],
             [
              0.4444444444444444,
              "#bd3786"
             ],
             [
              0.5555555555555556,
              "#d8576b"
             ],
             [
              0.6666666666666666,
              "#ed7953"
             ],
             [
              0.7777777777777778,
              "#fb9f3a"
             ],
             [
              0.8888888888888888,
              "#fdca26"
             ],
             [
              1,
              "#f0f921"
             ]
            ],
            "type": "contour"
           }
          ],
          "contourcarpet": [
           {
            "colorbar": {
             "outlinewidth": 0,
             "ticks": ""
            },
            "type": "contourcarpet"
           }
          ],
          "heatmap": [
           {
            "colorbar": {
             "outlinewidth": 0,
             "ticks": ""
            },
            "colorscale": [
             [
              0,
              "#0d0887"
             ],
             [
              0.1111111111111111,
              "#46039f"
             ],
             [
              0.2222222222222222,
              "#7201a8"
             ],
             [
              0.3333333333333333,
              "#9c179e"
             ],
             [
              0.4444444444444444,
              "#bd3786"
             ],
             [
              0.5555555555555556,
              "#d8576b"
             ],
             [
              0.6666666666666666,
              "#ed7953"
             ],
             [
              0.7777777777777778,
              "#fb9f3a"
             ],
             [
              0.8888888888888888,
              "#fdca26"
             ],
             [
              1,
              "#f0f921"
             ]
            ],
            "type": "heatmap"
           }
          ],
          "heatmapgl": [
           {
            "colorbar": {
             "outlinewidth": 0,
             "ticks": ""
            },
            "colorscale": [
             [
              0,
              "#0d0887"
             ],
             [
              0.1111111111111111,
              "#46039f"
             ],
             [
              0.2222222222222222,
              "#7201a8"
             ],
             [
              0.3333333333333333,
              "#9c179e"
             ],
             [
              0.4444444444444444,
              "#bd3786"
             ],
             [
              0.5555555555555556,
              "#d8576b"
             ],
             [
              0.6666666666666666,
              "#ed7953"
             ],
             [
              0.7777777777777778,
              "#fb9f3a"
             ],
             [
              0.8888888888888888,
              "#fdca26"
             ],
             [
              1,
              "#f0f921"
             ]
            ],
            "type": "heatmapgl"
           }
          ],
          "histogram": [
           {
            "marker": {
             "pattern": {
              "fillmode": "overlay",
              "size": 10,
              "solidity": 0.2
             }
            },
            "type": "histogram"
           }
          ],
          "histogram2d": [
           {
            "colorbar": {
             "outlinewidth": 0,
             "ticks": ""
            },
            "colorscale": [
             [
              0,
              "#0d0887"
             ],
             [
              0.1111111111111111,
              "#46039f"
             ],
             [
              0.2222222222222222,
              "#7201a8"
             ],
             [
              0.3333333333333333,
              "#9c179e"
             ],
             [
              0.4444444444444444,
              "#bd3786"
             ],
             [
              0.5555555555555556,
              "#d8576b"
             ],
             [
              0.6666666666666666,
              "#ed7953"
             ],
             [
              0.7777777777777778,
              "#fb9f3a"
             ],
             [
              0.8888888888888888,
              "#fdca26"
             ],
             [
              1,
              "#f0f921"
             ]
            ],
            "type": "histogram2d"
           }
          ],
          "histogram2dcontour": [
           {
            "colorbar": {
             "outlinewidth": 0,
             "ticks": ""
            },
            "colorscale": [
             [
              0,
              "#0d0887"
             ],
             [
              0.1111111111111111,
              "#46039f"
             ],
             [
              0.2222222222222222,
              "#7201a8"
             ],
             [
              0.3333333333333333,
              "#9c179e"
             ],
             [
              0.4444444444444444,
              "#bd3786"
             ],
             [
              0.5555555555555556,
              "#d8576b"
             ],
             [
              0.6666666666666666,
              "#ed7953"
             ],
             [
              0.7777777777777778,
              "#fb9f3a"
             ],
             [
              0.8888888888888888,
              "#fdca26"
             ],
             [
              1,
              "#f0f921"
             ]
            ],
            "type": "histogram2dcontour"
           }
          ],
          "mesh3d": [
           {
            "colorbar": {
             "outlinewidth": 0,
             "ticks": ""
            },
            "type": "mesh3d"
           }
          ],
          "parcoords": [
           {
            "line": {
             "colorbar": {
              "outlinewidth": 0,
              "ticks": ""
             }
            },
            "type": "parcoords"
           }
          ],
          "pie": [
           {
            "automargin": true,
            "type": "pie"
           }
          ],
          "scatter": [
           {
            "fillpattern": {
             "fillmode": "overlay",
             "size": 10,
             "solidity": 0.2
            },
            "type": "scatter"
           }
          ],
          "scatter3d": [
           {
            "line": {
             "colorbar": {
              "outlinewidth": 0,
              "ticks": ""
             }
            },
            "marker": {
             "colorbar": {
              "outlinewidth": 0,
              "ticks": ""
             }
            },
            "type": "scatter3d"
           }
          ],
          "scattercarpet": [
           {
            "marker": {
             "colorbar": {
              "outlinewidth": 0,
              "ticks": ""
             }
            },
            "type": "scattercarpet"
           }
          ],
          "scattergeo": [
           {
            "marker": {
             "colorbar": {
              "outlinewidth": 0,
              "ticks": ""
             }
            },
            "type": "scattergeo"
           }
          ],
          "scattergl": [
           {
            "marker": {
             "colorbar": {
              "outlinewidth": 0,
              "ticks": ""
             }
            },
            "type": "scattergl"
           }
          ],
          "scattermapbox": [
           {
            "marker": {
             "colorbar": {
              "outlinewidth": 0,
              "ticks": ""
             }
            },
            "type": "scattermapbox"
           }
          ],
          "scatterpolar": [
           {
            "marker": {
             "colorbar": {
              "outlinewidth": 0,
              "ticks": ""
             }
            },
            "type": "scatterpolar"
           }
          ],
          "scatterpolargl": [
           {
            "marker": {
             "colorbar": {
              "outlinewidth": 0,
              "ticks": ""
             }
            },
            "type": "scatterpolargl"
           }
          ],
          "scatterternary": [
           {
            "marker": {
             "colorbar": {
              "outlinewidth": 0,
              "ticks": ""
             }
            },
            "type": "scatterternary"
           }
          ],
          "surface": [
           {
            "colorbar": {
             "outlinewidth": 0,
             "ticks": ""
            },
            "colorscale": [
             [
              0,
              "#0d0887"
             ],
             [
              0.1111111111111111,
              "#46039f"
             ],
             [
              0.2222222222222222,
              "#7201a8"
             ],
             [
              0.3333333333333333,
              "#9c179e"
             ],
             [
              0.4444444444444444,
              "#bd3786"
             ],
             [
              0.5555555555555556,
              "#d8576b"
             ],
             [
              0.6666666666666666,
              "#ed7953"
             ],
             [
              0.7777777777777778,
              "#fb9f3a"
             ],
             [
              0.8888888888888888,
              "#fdca26"
             ],
             [
              1,
              "#f0f921"
             ]
            ],
            "type": "surface"
           }
          ],
          "table": [
           {
            "cells": {
             "fill": {
              "color": "#EBF0F8"
             },
             "line": {
              "color": "white"
             }
            },
            "header": {
             "fill": {
              "color": "#C8D4E3"
             },
             "line": {
              "color": "white"
             }
            },
            "type": "table"
           }
          ]
         },
         "layout": {
          "annotationdefaults": {
           "arrowcolor": "#2a3f5f",
           "arrowhead": 0,
           "arrowwidth": 1
          },
          "autotypenumbers": "strict",
          "coloraxis": {
           "colorbar": {
            "outlinewidth": 0,
            "ticks": ""
           }
          },
          "colorscale": {
           "diverging": [
            [
             0,
             "#8e0152"
            ],
            [
             0.1,
             "#c51b7d"
            ],
            [
             0.2,
             "#de77ae"
            ],
            [
             0.3,
             "#f1b6da"
            ],
            [
             0.4,
             "#fde0ef"
            ],
            [
             0.5,
             "#f7f7f7"
            ],
            [
             0.6,
             "#e6f5d0"
            ],
            [
             0.7,
             "#b8e186"
            ],
            [
             0.8,
             "#7fbc41"
            ],
            [
             0.9,
             "#4d9221"
            ],
            [
             1,
             "#276419"
            ]
           ],
           "sequential": [
            [
             0,
             "#0d0887"
            ],
            [
             0.1111111111111111,
             "#46039f"
            ],
            [
             0.2222222222222222,
             "#7201a8"
            ],
            [
             0.3333333333333333,
             "#9c179e"
            ],
            [
             0.4444444444444444,
             "#bd3786"
            ],
            [
             0.5555555555555556,
             "#d8576b"
            ],
            [
             0.6666666666666666,
             "#ed7953"
            ],
            [
             0.7777777777777778,
             "#fb9f3a"
            ],
            [
             0.8888888888888888,
             "#fdca26"
            ],
            [
             1,
             "#f0f921"
            ]
           ],
           "sequentialminus": [
            [
             0,
             "#0d0887"
            ],
            [
             0.1111111111111111,
             "#46039f"
            ],
            [
             0.2222222222222222,
             "#7201a8"
            ],
            [
             0.3333333333333333,
             "#9c179e"
            ],
            [
             0.4444444444444444,
             "#bd3786"
            ],
            [
             0.5555555555555556,
             "#d8576b"
            ],
            [
             0.6666666666666666,
             "#ed7953"
            ],
            [
             0.7777777777777778,
             "#fb9f3a"
            ],
            [
             0.8888888888888888,
             "#fdca26"
            ],
            [
             1,
             "#f0f921"
            ]
           ]
          },
          "colorway": [
           "#636efa",
           "#EF553B",
           "#00cc96",
           "#ab63fa",
           "#FFA15A",
           "#19d3f3",
           "#FF6692",
           "#B6E880",
           "#FF97FF",
           "#FECB52"
          ],
          "font": {
           "color": "#2a3f5f"
          },
          "geo": {
           "bgcolor": "white",
           "lakecolor": "white",
           "landcolor": "#E5ECF6",
           "showlakes": true,
           "showland": true,
           "subunitcolor": "white"
          },
          "hoverlabel": {
           "align": "left"
          },
          "hovermode": "closest",
          "mapbox": {
           "style": "light"
          },
          "paper_bgcolor": "white",
          "plot_bgcolor": "#E5ECF6",
          "polar": {
           "angularaxis": {
            "gridcolor": "white",
            "linecolor": "white",
            "ticks": ""
           },
           "bgcolor": "#E5ECF6",
           "radialaxis": {
            "gridcolor": "white",
            "linecolor": "white",
            "ticks": ""
           }
          },
          "scene": {
           "xaxis": {
            "backgroundcolor": "#E5ECF6",
            "gridcolor": "white",
            "gridwidth": 2,
            "linecolor": "white",
            "showbackground": true,
            "ticks": "",
            "zerolinecolor": "white"
           },
           "yaxis": {
            "backgroundcolor": "#E5ECF6",
            "gridcolor": "white",
            "gridwidth": 2,
            "linecolor": "white",
            "showbackground": true,
            "ticks": "",
            "zerolinecolor": "white"
           },
           "zaxis": {
            "backgroundcolor": "#E5ECF6",
            "gridcolor": "white",
            "gridwidth": 2,
            "linecolor": "white",
            "showbackground": true,
            "ticks": "",
            "zerolinecolor": "white"
           }
          },
          "shapedefaults": {
           "line": {
            "color": "#2a3f5f"
           }
          },
          "ternary": {
           "aaxis": {
            "gridcolor": "white",
            "linecolor": "white",
            "ticks": ""
           },
           "baxis": {
            "gridcolor": "white",
            "linecolor": "white",
            "ticks": ""
           },
           "bgcolor": "#E5ECF6",
           "caxis": {
            "gridcolor": "white",
            "linecolor": "white",
            "ticks": ""
           }
          },
          "title": {
           "x": 0.05
          },
          "xaxis": {
           "automargin": true,
           "gridcolor": "white",
           "linecolor": "white",
           "ticks": "",
           "title": {
            "standoff": 15
           },
           "zerolinecolor": "white",
           "zerolinewidth": 2
          },
          "yaxis": {
           "automargin": true,
           "gridcolor": "white",
           "linecolor": "white",
           "ticks": "",
           "title": {
            "standoff": 15
           },
           "zerolinecolor": "white",
           "zerolinewidth": 2
          }
         }
        }
       }
      },
      "text/html": [
       "<div>                            <div id=\"74a08026-6552-4891-a9f1-8eccd05f6428\" class=\"plotly-graph-div\" style=\"height:525px; width:100%;\"></div>            <script type=\"text/javascript\">                require([\"plotly\"], function(Plotly) {                    window.PLOTLYENV=window.PLOTLYENV || {};                                    if (document.getElementById(\"74a08026-6552-4891-a9f1-8eccd05f6428\")) {                    Plotly.newPlot(                        \"74a08026-6552-4891-a9f1-8eccd05f6428\",                        [{\"name\":\"Positive\",\"x\":[\"BBC Documentary\"],\"y\":[54.91666666666667],\"type\":\"bar\"},{\"name\":\"Negative\",\"x\":[\"BBC Documentary\"],\"y\":[45.08333333333333],\"type\":\"bar\"}],                        {\"template\":{\"data\":{\"histogram2dcontour\":[{\"type\":\"histogram2dcontour\",\"colorbar\":{\"outlinewidth\":0,\"ticks\":\"\"},\"colorscale\":[[0.0,\"#0d0887\"],[0.1111111111111111,\"#46039f\"],[0.2222222222222222,\"#7201a8\"],[0.3333333333333333,\"#9c179e\"],[0.4444444444444444,\"#bd3786\"],[0.5555555555555556,\"#d8576b\"],[0.6666666666666666,\"#ed7953\"],[0.7777777777777778,\"#fb9f3a\"],[0.8888888888888888,\"#fdca26\"],[1.0,\"#f0f921\"]]}],\"choropleth\":[{\"type\":\"choropleth\",\"colorbar\":{\"outlinewidth\":0,\"ticks\":\"\"}}],\"histogram2d\":[{\"type\":\"histogram2d\",\"colorbar\":{\"outlinewidth\":0,\"ticks\":\"\"},\"colorscale\":[[0.0,\"#0d0887\"],[0.1111111111111111,\"#46039f\"],[0.2222222222222222,\"#7201a8\"],[0.3333333333333333,\"#9c179e\"],[0.4444444444444444,\"#bd3786\"],[0.5555555555555556,\"#d8576b\"],[0.6666666666666666,\"#ed7953\"],[0.7777777777777778,\"#fb9f3a\"],[0.8888888888888888,\"#fdca26\"],[1.0,\"#f0f921\"]]}],\"heatmap\":[{\"type\":\"heatmap\",\"colorbar\":{\"outlinewidth\":0,\"ticks\":\"\"},\"colorscale\":[[0.0,\"#0d0887\"],[0.1111111111111111,\"#46039f\"],[0.2222222222222222,\"#7201a8\"],[0.3333333333333333,\"#9c179e\"],[0.4444444444444444,\"#bd3786\"],[0.5555555555555556,\"#d8576b\"],[0.6666666666666666,\"#ed7953\"],[0.7777777777777778,\"#fb9f3a\"],[0.8888888888888888,\"#fdca26\"],[1.0,\"#f0f921\"]]}],\"heatmapgl\":[{\"type\":\"heatmapgl\",\"colorbar\":{\"outlinewidth\":0,\"ticks\":\"\"},\"colorscale\":[[0.0,\"#0d0887\"],[0.1111111111111111,\"#46039f\"],[0.2222222222222222,\"#7201a8\"],[0.3333333333333333,\"#9c179e\"],[0.4444444444444444,\"#bd3786\"],[0.5555555555555556,\"#d8576b\"],[0.6666666666666666,\"#ed7953\"],[0.7777777777777778,\"#fb9f3a\"],[0.8888888888888888,\"#fdca26\"],[1.0,\"#f0f921\"]]}],\"contourcarpet\":[{\"type\":\"contourcarpet\",\"colorbar\":{\"outlinewidth\":0,\"ticks\":\"\"}}],\"contour\":[{\"type\":\"contour\",\"colorbar\":{\"outlinewidth\":0,\"ticks\":\"\"},\"colorscale\":[[0.0,\"#0d0887\"],[0.1111111111111111,\"#46039f\"],[0.2222222222222222,\"#7201a8\"],[0.3333333333333333,\"#9c179e\"],[0.4444444444444444,\"#bd3786\"],[0.5555555555555556,\"#d8576b\"],[0.6666666666666666,\"#ed7953\"],[0.7777777777777778,\"#fb9f3a\"],[0.8888888888888888,\"#fdca26\"],[1.0,\"#f0f921\"]]}],\"surface\":[{\"type\":\"surface\",\"colorbar\":{\"outlinewidth\":0,\"ticks\":\"\"},\"colorscale\":[[0.0,\"#0d0887\"],[0.1111111111111111,\"#46039f\"],[0.2222222222222222,\"#7201a8\"],[0.3333333333333333,\"#9c179e\"],[0.4444444444444444,\"#bd3786\"],[0.5555555555555556,\"#d8576b\"],[0.6666666666666666,\"#ed7953\"],[0.7777777777777778,\"#fb9f3a\"],[0.8888888888888888,\"#fdca26\"],[1.0,\"#f0f921\"]]}],\"mesh3d\":[{\"type\":\"mesh3d\",\"colorbar\":{\"outlinewidth\":0,\"ticks\":\"\"}}],\"scatter\":[{\"fillpattern\":{\"fillmode\":\"overlay\",\"size\":10,\"solidity\":0.2},\"type\":\"scatter\"}],\"parcoords\":[{\"type\":\"parcoords\",\"line\":{\"colorbar\":{\"outlinewidth\":0,\"ticks\":\"\"}}}],\"scatterpolargl\":[{\"type\":\"scatterpolargl\",\"marker\":{\"colorbar\":{\"outlinewidth\":0,\"ticks\":\"\"}}}],\"bar\":[{\"error_x\":{\"color\":\"#2a3f5f\"},\"error_y\":{\"color\":\"#2a3f5f\"},\"marker\":{\"line\":{\"color\":\"#E5ECF6\",\"width\":0.5},\"pattern\":{\"fillmode\":\"overlay\",\"size\":10,\"solidity\":0.2}},\"type\":\"bar\"}],\"scattergeo\":[{\"type\":\"scattergeo\",\"marker\":{\"colorbar\":{\"outlinewidth\":0,\"ticks\":\"\"}}}],\"scatterpolar\":[{\"type\":\"scatterpolar\",\"marker\":{\"colorbar\":{\"outlinewidth\":0,\"ticks\":\"\"}}}],\"histogram\":[{\"marker\":{\"pattern\":{\"fillmode\":\"overlay\",\"size\":10,\"solidity\":0.2}},\"type\":\"histogram\"}],\"scattergl\":[{\"type\":\"scattergl\",\"marker\":{\"colorbar\":{\"outlinewidth\":0,\"ticks\":\"\"}}}],\"scatter3d\":[{\"type\":\"scatter3d\",\"line\":{\"colorbar\":{\"outlinewidth\":0,\"ticks\":\"\"}},\"marker\":{\"colorbar\":{\"outlinewidth\":0,\"ticks\":\"\"}}}],\"scattermapbox\":[{\"type\":\"scattermapbox\",\"marker\":{\"colorbar\":{\"outlinewidth\":0,\"ticks\":\"\"}}}],\"scatterternary\":[{\"type\":\"scatterternary\",\"marker\":{\"colorbar\":{\"outlinewidth\":0,\"ticks\":\"\"}}}],\"scattercarpet\":[{\"type\":\"scattercarpet\",\"marker\":{\"colorbar\":{\"outlinewidth\":0,\"ticks\":\"\"}}}],\"carpet\":[{\"aaxis\":{\"endlinecolor\":\"#2a3f5f\",\"gridcolor\":\"white\",\"linecolor\":\"white\",\"minorgridcolor\":\"white\",\"startlinecolor\":\"#2a3f5f\"},\"baxis\":{\"endlinecolor\":\"#2a3f5f\",\"gridcolor\":\"white\",\"linecolor\":\"white\",\"minorgridcolor\":\"white\",\"startlinecolor\":\"#2a3f5f\"},\"type\":\"carpet\"}],\"table\":[{\"cells\":{\"fill\":{\"color\":\"#EBF0F8\"},\"line\":{\"color\":\"white\"}},\"header\":{\"fill\":{\"color\":\"#C8D4E3\"},\"line\":{\"color\":\"white\"}},\"type\":\"table\"}],\"barpolar\":[{\"marker\":{\"line\":{\"color\":\"#E5ECF6\",\"width\":0.5},\"pattern\":{\"fillmode\":\"overlay\",\"size\":10,\"solidity\":0.2}},\"type\":\"barpolar\"}],\"pie\":[{\"automargin\":true,\"type\":\"pie\"}]},\"layout\":{\"autotypenumbers\":\"strict\",\"colorway\":[\"#636efa\",\"#EF553B\",\"#00cc96\",\"#ab63fa\",\"#FFA15A\",\"#19d3f3\",\"#FF6692\",\"#B6E880\",\"#FF97FF\",\"#FECB52\"],\"font\":{\"color\":\"#2a3f5f\"},\"hovermode\":\"closest\",\"hoverlabel\":{\"align\":\"left\"},\"paper_bgcolor\":\"white\",\"plot_bgcolor\":\"#E5ECF6\",\"polar\":{\"bgcolor\":\"#E5ECF6\",\"angularaxis\":{\"gridcolor\":\"white\",\"linecolor\":\"white\",\"ticks\":\"\"},\"radialaxis\":{\"gridcolor\":\"white\",\"linecolor\":\"white\",\"ticks\":\"\"}},\"ternary\":{\"bgcolor\":\"#E5ECF6\",\"aaxis\":{\"gridcolor\":\"white\",\"linecolor\":\"white\",\"ticks\":\"\"},\"baxis\":{\"gridcolor\":\"white\",\"linecolor\":\"white\",\"ticks\":\"\"},\"caxis\":{\"gridcolor\":\"white\",\"linecolor\":\"white\",\"ticks\":\"\"}},\"coloraxis\":{\"colorbar\":{\"outlinewidth\":0,\"ticks\":\"\"}},\"colorscale\":{\"sequential\":[[0.0,\"#0d0887\"],[0.1111111111111111,\"#46039f\"],[0.2222222222222222,\"#7201a8\"],[0.3333333333333333,\"#9c179e\"],[0.4444444444444444,\"#bd3786\"],[0.5555555555555556,\"#d8576b\"],[0.6666666666666666,\"#ed7953\"],[0.7777777777777778,\"#fb9f3a\"],[0.8888888888888888,\"#fdca26\"],[1.0,\"#f0f921\"]],\"sequentialminus\":[[0.0,\"#0d0887\"],[0.1111111111111111,\"#46039f\"],[0.2222222222222222,\"#7201a8\"],[0.3333333333333333,\"#9c179e\"],[0.4444444444444444,\"#bd3786\"],[0.5555555555555556,\"#d8576b\"],[0.6666666666666666,\"#ed7953\"],[0.7777777777777778,\"#fb9f3a\"],[0.8888888888888888,\"#fdca26\"],[1.0,\"#f0f921\"]],\"diverging\":[[0,\"#8e0152\"],[0.1,\"#c51b7d\"],[0.2,\"#de77ae\"],[0.3,\"#f1b6da\"],[0.4,\"#fde0ef\"],[0.5,\"#f7f7f7\"],[0.6,\"#e6f5d0\"],[0.7,\"#b8e186\"],[0.8,\"#7fbc41\"],[0.9,\"#4d9221\"],[1,\"#276419\"]]},\"xaxis\":{\"gridcolor\":\"white\",\"linecolor\":\"white\",\"ticks\":\"\",\"title\":{\"standoff\":15},\"zerolinecolor\":\"white\",\"automargin\":true,\"zerolinewidth\":2},\"yaxis\":{\"gridcolor\":\"white\",\"linecolor\":\"white\",\"ticks\":\"\",\"title\":{\"standoff\":15},\"zerolinecolor\":\"white\",\"automargin\":true,\"zerolinewidth\":2},\"scene\":{\"xaxis\":{\"backgroundcolor\":\"#E5ECF6\",\"gridcolor\":\"white\",\"linecolor\":\"white\",\"showbackground\":true,\"ticks\":\"\",\"zerolinecolor\":\"white\",\"gridwidth\":2},\"yaxis\":{\"backgroundcolor\":\"#E5ECF6\",\"gridcolor\":\"white\",\"linecolor\":\"white\",\"showbackground\":true,\"ticks\":\"\",\"zerolinecolor\":\"white\",\"gridwidth\":2},\"zaxis\":{\"backgroundcolor\":\"#E5ECF6\",\"gridcolor\":\"white\",\"linecolor\":\"white\",\"showbackground\":true,\"ticks\":\"\",\"zerolinecolor\":\"white\",\"gridwidth\":2}},\"shapedefaults\":{\"line\":{\"color\":\"#2a3f5f\"}},\"annotationdefaults\":{\"arrowcolor\":\"#2a3f5f\",\"arrowhead\":0,\"arrowwidth\":1},\"geo\":{\"bgcolor\":\"white\",\"landcolor\":\"#E5ECF6\",\"subunitcolor\":\"white\",\"showland\":true,\"showlakes\":true,\"lakecolor\":\"white\"},\"title\":{\"x\":0.05},\"mapbox\":{\"style\":\"light\"}}}},                        {\"responsive\": true}                    ).then(function(){\n",
       "                            \n",
       "var gd = document.getElementById('74a08026-6552-4891-a9f1-8eccd05f6428');\n",
       "var x = new MutationObserver(function (mutations, observer) {{\n",
       "        var display = window.getComputedStyle(gd).display;\n",
       "        if (!display || display === 'none') {{\n",
       "            console.log([gd, 'removed!']);\n",
       "            Plotly.purge(gd);\n",
       "            observer.disconnect();\n",
       "        }}\n",
       "}});\n",
       "\n",
       "// Listen for the removal of the full notebook cells\n",
       "var notebookContainer = gd.closest('#notebook-container');\n",
       "if (notebookContainer) {{\n",
       "    x.observe(notebookContainer, {childList: true});\n",
       "}}\n",
       "\n",
       "// Listen for the clearing of the current output cell\n",
       "var outputEl = gd.closest('.output');\n",
       "if (outputEl) {{\n",
       "    x.observe(outputEl, {childList: true});\n",
       "}}\n",
       "\n",
       "                        })                };                });            </script>        </div>"
      ]
     },
     "metadata": {},
     "output_type": "display_data"
    }
   ],
   "source": [
    "fig = go.Figure(data=[\n",
    "    go.Bar(name='Positive', x=key, y=list_pos),\n",
    "    go.Bar(name='Negative', x=key, y=list_neg)\n",
    "])\n",
    "fig.show()"
   ]
  },
  {
   "cell_type": "markdown",
   "id": "2ebd37c5",
   "metadata": {},
   "source": [
    "# Conclusion"
   ]
  },
  {
   "cell_type": "markdown",
   "id": "72c47f5d",
   "metadata": {},
   "source": [
    "Based on the sentiment analysis of the tweets about the BBC documentary, it appears that a majority of the tweets (54.916%) have a positive sentiment. The remaining tweets have a negative sentiment(45.0833 %).\n",
    "\n",
    "This suggests that overall, the majority of twitter users who have tweeted regarding the topic have a positive perception of the decision taken by Prime Minister Narendra Modi on BBC documentary. \n",
    "\n",
    "However we cannot ignore the fact that the negative tweets amongst the tweets scraped from twitter also amounts to 45.0833% which is a pretty high number. Taking into consideration that only about 2700 tweets were extracted and this data does not contain all the tweets regarding the topic, the conclusion may be biased.\n",
    "\n",
    "From the given analysis, we can conclude that there is almost a 50-50 proportions between the people who support the decision and those who dont."
   ]
  }
 ],
 "metadata": {
  "kernelspec": {
   "display_name": "Python 3 (ipykernel)",
   "language": "python",
   "name": "python3"
  },
  "language_info": {
   "codemirror_mode": {
    "name": "ipython",
    "version": 3
   },
   "file_extension": ".py",
   "mimetype": "text/x-python",
   "name": "python",
   "nbconvert_exporter": "python",
   "pygments_lexer": "ipython3",
   "version": "3.9.13"
  }
 },
 "nbformat": 4,
 "nbformat_minor": 5
}
